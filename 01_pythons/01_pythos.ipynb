{
 "cells": [
  {
   "cell_type": "markdown",
   "id": "012d7c67",
   "metadata": {},
   "source": [
    "### Jupyter Notebook\n",
    "- mode\n",
    "    - 명령모드: 셀을 수정할 때 사용\n",
    "    - 편집모드: 셀안의 내용을 수정할때 사용\n",
    "- style\n",
    "    - markdown(명령모드 + m): 셀안의 내용을 작성할 때\n",
    "    - code(명령모드 + y): 파이썬 코드를 작성할 때 사용\n",
    "- 단축키\n",
    "    - 셀 실행:\n",
    "    - 셀 삭제\n",
    "    - 되살리기\n",
    "    - 셀 생성 "
   ]
  },
  {
   "cell_type": "code",
   "execution_count": 5,
   "id": "ada99ce4",
   "metadata": {},
   "outputs": [
    {
     "data": {
      "text/plain": [
       "3"
      ]
     },
     "execution_count": 5,
     "metadata": {},
     "output_type": "execute_result"
    }
   ],
   "source": [
    "1+2"
   ]
  },
  {
   "cell_type": "code",
   "execution_count": 4,
   "id": "386febb1",
   "metadata": {},
   "outputs": [
    {
     "data": {
      "text/plain": [
       "5"
      ]
     },
     "execution_count": 4,
     "metadata": {},
     "output_type": "execute_result"
    }
   ],
   "source": [
    "2+3"
   ]
  },
  {
   "cell_type": "markdown",
   "id": "bad75be0",
   "metadata": {},
   "source": [
    "### Magic Command\n",
    "- 셀 내부에서 특별하게 동작하는 커맨드\n",
    "- % : 한줄의 magic command 동작\n",
    "- %% : 셀 단위의 magic  command 동작\n",
    "- 주요 magic command"
   ]
  },
  {
   "cell_type": "code",
   "execution_count": 3,
   "id": "ae35958c",
   "metadata": {},
   "outputs": [
    {
     "data": {
      "text/plain": [
       "'D:\\\\Python Study\\\\01_pythons'"
      ]
     },
     "execution_count": 3,
     "metadata": {},
     "output_type": "execute_result"
    }
   ],
   "source": [
    "%pwd"
   ]
  },
  {
   "cell_type": "code",
   "execution_count": 6,
   "id": "76d8c335",
   "metadata": {},
   "outputs": [
    {
     "name": "stdout",
     "output_type": "stream",
     "text": [
      " Volume in drive D is Data\n",
      " Volume Serial Number is 5E86-2C83\n",
      "\n",
      " Directory of D:\\Python Study\\01_pythons\n",
      "\n",
      "2021-11-22  �삤�썑 10:02    <DIR>          .\n",
      "2021-11-22  �삤�썑 10:02    <DIR>          ..\n",
      "2021-11-22  �삤�썑 09:56    <DIR>          .ipynb_checkpoints\n",
      "2021-11-22  �삤�썑 10:02             1,641 01_pythos.ipynb\n",
      "               1 File(s)          1,641 bytes\n",
      "               3 Dir(s)  88,407,523,328 bytes free\n"
     ]
    }
   ],
   "source": [
    "%ls"
   ]
  },
  {
   "cell_type": "markdown",
   "id": "60f9c23f",
   "metadata": {},
   "source": [
    "a = 1"
   ]
  },
  {
   "cell_type": "code",
   "execution_count": 7,
   "id": "0ff8caf8",
   "metadata": {},
   "outputs": [
    {
     "name": "stdout",
     "output_type": "stream",
     "text": [
      "Once deleted, variables cannot be recovered. Proceed (y/[n])? y\n"
     ]
    }
   ],
   "source": [
    "%reset"
   ]
  },
  {
   "cell_type": "code",
   "execution_count": 8,
   "id": "4c7e5c18",
   "metadata": {},
   "outputs": [
    {
     "name": "stdout",
     "output_type": "stream",
     "text": [
      "Interactive namespace is empty.\n"
     ]
    }
   ],
   "source": [
    "%whos"
   ]
  },
  {
   "cell_type": "markdown",
   "id": "6b9bfea7",
   "metadata": {},
   "source": [
    "### Shell Command\n",
    "- 주피터 노트북 실행 쉘 환경의 명령을 사용\n",
    "- 주요명령어"
   ]
  },
  {
   "cell_type": "code",
   "execution_count": 9,
   "id": "a4836528",
   "metadata": {},
   "outputs": [
    {
     "name": "stdout",
     "output_type": "stream",
     "text": [
      "python\n"
     ]
    }
   ],
   "source": [
    "!echo python"
   ]
  },
  {
   "cell_type": "code",
   "execution_count": 10,
   "id": "9e16dcf1",
   "metadata": {},
   "outputs": [
    {
     "name": "stdout",
     "output_type": "stream",
     "text": [
      "01_pythos.ipynb\n"
     ]
    }
   ],
   "source": [
    "!ls"
   ]
  },
  {
   "cell_type": "code",
   "execution_count": null,
   "id": "d00738a3",
   "metadata": {},
   "outputs": [],
   "source": [
    "\n",
    "\n"
   ]
  },
  {
   "cell_type": "code",
   "execution_count": null,
   "id": "933e1c0c",
   "metadata": {},
   "outputs": [],
   "source": []
  }
 ],
 "metadata": {
  "kernelspec": {
   "display_name": "Python 3 (ipykernel)",
   "language": "python",
   "name": "python3"
  },
  "language_info": {
   "codemirror_mode": {
    "name": "ipython",
    "version": 3
   },
   "file_extension": ".py",
   "mimetype": "text/x-python",
   "name": "python",
   "nbconvert_exporter": "python",
   "pygments_lexer": "ipython3",
   "version": "3.9.7"
  }
 },
 "nbformat": 4,
 "nbformat_minor": 5
}
