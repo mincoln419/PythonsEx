{
 "cells": [
  {
   "cell_type": "markdown",
   "id": "9f8d1868",
   "metadata": {},
   "source": [
    "### 파이썬 기본문법\n",
    "- 변수 선언, 식별자, 자료형, 형변환, 연산자 학습"
   ]
  },
  {
   "cell_type": "markdown",
   "id": "1c49620f",
   "metadata": {},
   "source": [
    "### 1. 주석과 출력"
   ]
  },
  {
   "cell_type": "code",
   "execution_count": 1,
   "id": "7d0259ff",
   "metadata": {},
   "outputs": [
    {
     "name": "stdout",
     "output_type": "stream",
     "text": [
      "1\n",
      "3\n"
     ]
    }
   ],
   "source": [
    "# 주석: 앞에 #을 붙이면 코드 실행이 안됨\n",
    "print(1)\n",
    "#print(2)\n",
    "print(3)"
   ]
  },
  {
   "cell_type": "code",
   "execution_count": null,
   "id": "301bfc35",
   "metadata": {},
   "outputs": [],
   "source": [
    "# adfadsfasdfa"
   ]
  },
  {
   "cell_type": "code",
   "execution_count": 2,
   "id": "7ff7c8b0",
   "metadata": {},
   "outputs": [
    {
     "name": "stdout",
     "output_type": "stream",
     "text": [
      "2\n"
     ]
    }
   ],
   "source": [
    "a=1\n",
    "b=2\n",
    "print(b)\n",
    "c=3\n",
    "b=4\n"
   ]
  },
  {
   "cell_type": "code",
   "execution_count": 9,
   "id": "4b6c41eb",
   "metadata": {},
   "outputs": [
    {
     "name": "stdout",
     "output_type": "stream",
     "text": [
      "1%%%2\n",
      "3\n"
     ]
    }
   ],
   "source": [
    "# print 옵션\n",
    "#docstring : 함수에 대한 설명(shift tab)\n",
    "#자동완성 : tab\n",
    "print(1, 2, sep = '%%%')\n",
    "print(3)"
   ]
  },
  {
   "cell_type": "code",
   "execution_count": 7,
   "id": "c38b5c48",
   "metadata": {},
   "outputs": [
    {
     "name": "stdout",
     "output_type": "stream",
     "text": [
      "3\n"
     ]
    }
   ],
   "source": [
    "a = 1\n",
    "b = 2\n",
    "print(a + b)"
   ]
  },
  {
   "cell_type": "code",
   "execution_count": 8,
   "id": "966ae381",
   "metadata": {},
   "outputs": [],
   "source": [
    "d,e =3,4\n",
    "f = g = 5"
   ]
  },
  {
   "cell_type": "markdown",
   "id": "3596e25c",
   "metadata": {},
   "source": [
    "### 3. 식별자\n",
    "- 변수, 함수, 클래스, 모듈등의 이름\n",
    "- 식별자 규칙\n",
    "    - 소문자, 대문자, 숫자, 언더스코어(_) 사용\n",
    "    - 가장 앞에 숫자사용 금지\n",
    "    - 예약어 사용 불가 : def, class, try, except...\n",
    "    - 컨벤션\n",
    "        - snake case : 변수, 함수\n",
    "        - carmel case : 클래스\n",
    "        "
   ]
  },
  {
   "cell_type": "markdown",
   "id": "f726012d",
   "metadata": {},
   "source": [
    "### 4. 데이터 타입\n",
    "- RAM 저장공간 효율적 활용위해 저장공간 타입 선언\n",
    "- <h4 font-color = 'red'>동적타이핑</h4>: 변수 선언시 저장되는 값에 따라 자동으로 데이터 타입설정"
   ]
  },
  {
   "cell_type": "code",
   "execution_count": 32,
   "id": "3bc5d674",
   "metadata": {},
   "outputs": [
    {
     "data": {
      "text/plain": [
       "(int, float, bool, str)"
      ]
     },
     "execution_count": 32,
     "metadata": {},
     "output_type": "execute_result"
    }
   ],
   "source": [
    "a = 1\n",
    "b = 1.2\n",
    "c = True\n",
    "d = \"daTa   \"\n",
    "type(a), type(b), type(c), type(d)"
   ]
  },
  {
   "cell_type": "code",
   "execution_count": 38,
   "id": "de65c048",
   "metadata": {},
   "outputs": [],
   "source": [
    "# 문자열 데이터 타입에는 함수가 있음\n",
    "\n",
    "e = d.upper()\n",
    "f = d.lower()\n",
    "g = d.strip()\n",
    "h = f.replace(\"a\", \"z\")\n"
   ]
  },
  {
   "cell_type": "code",
   "execution_count": 39,
   "id": "dfd046b0",
   "metadata": {},
   "outputs": [
    {
     "data": {
      "text/plain": [
       "('daTa   ', 'DATA   ', 'data   ', 'daTa', 'dztz   ')"
      ]
     },
     "execution_count": 39,
     "metadata": {},
     "output_type": "execute_result"
    }
   ],
   "source": [
    "d, e, f, g, h"
   ]
  },
  {
   "cell_type": "code",
   "execution_count": 40,
   "id": "6f531cac",
   "metadata": {},
   "outputs": [
    {
     "data": {
      "text/plain": [
       "'DATA   '"
      ]
     },
     "execution_count": 40,
     "metadata": {},
     "output_type": "execute_result"
    }
   ],
   "source": [
    "e"
   ]
  },
  {
   "cell_type": "code",
   "execution_count": 52,
   "id": "cd40ae78",
   "metadata": {},
   "outputs": [
    {
     "data": {
      "text/plain": [
       "('c', 'f', 'cde', 'ab', 'defg', 'fg', 'abcdefg', 'aceg', 'gfedcba')"
      ]
     },
     "execution_count": 52,
     "metadata": {},
     "output_type": "execute_result"
    }
   ],
   "source": [
    "# 오프셋 인덱스\n",
    "# 문자열은 순서가 있는 문자들의 집합\n",
    "## 오프셋은 문자열 제어시 사용하는 인덱스\n",
    "\n",
    "ss = 'abcdefg'\n",
    "ss[2], ss[-2], ss[2:5], ss[:2], ss[3:], ss[-2:], ss[:], ss[::2], ss[::-1]"
   ]
  },
  {
   "cell_type": "code",
   "execution_count": 44,
   "id": "2e3766a6",
   "metadata": {},
   "outputs": [
    {
     "data": {
      "text/plain": [
       "7"
      ]
     },
     "execution_count": 44,
     "metadata": {},
     "output_type": "execute_result"
    }
   ],
   "source": [
    "ls1 = [1, 4, 6]\n",
    "ls3 = ls1\n",
    "ls3[1] = 7\n",
    "ls1[1]"
   ]
  },
  {
   "cell_type": "code",
   "execution_count": 54,
   "id": "002debb2",
   "metadata": {},
   "outputs": [
    {
     "name": "stdout",
     "output_type": "stream",
     "text": [
      "97531\n"
     ]
    }
   ],
   "source": [
    "numbers =\"123456789\"\n",
    "print(numbers[::-2])"
   ]
  },
  {
   "cell_type": "markdown",
   "id": "0330aebc",
   "metadata": {},
   "source": [
    "### 컬렉션 데이터 타입 : list, tuple, dict\n",
    "- list -> 벡터 []\n",
    "- tuple -> 순서가 있고 수정이 불가능함 ()\n",
    "- dict -> map {}\n",
    "\n"
   ]
  },
  {
   "cell_type": "code",
   "execution_count": 57,
   "id": "389bbd6d",
   "metadata": {},
   "outputs": [],
   "source": [
    "# list\n",
    "ls = [1 , 2, 3, \"four\", [5, 6], True, 1.2]"
   ]
  },
  {
   "cell_type": "code",
   "execution_count": 58,
   "id": "03794661",
   "metadata": {},
   "outputs": [
    {
     "name": "stdout",
     "output_type": "stream",
     "text": [
      "[1, 2, 3, 'four', [5, 6], True, 1.2]\n"
     ]
    }
   ],
   "source": [
    "print(ls)"
   ]
  },
  {
   "cell_type": "code",
   "execution_count": null,
   "id": "63e410fb",
   "metadata": {},
   "outputs": [],
   "source": []
  }
 ],
 "metadata": {
  "kernelspec": {
   "display_name": "Python 3 (ipykernel)",
   "language": "python",
   "name": "python3"
  },
  "language_info": {
   "codemirror_mode": {
    "name": "ipython",
    "version": 3
   },
   "file_extension": ".py",
   "mimetype": "text/x-python",
   "name": "python",
   "nbconvert_exporter": "python",
   "pygments_lexer": "ipython3",
   "version": "3.9.7"
  }
 },
 "nbformat": 4,
 "nbformat_minor": 5
}
