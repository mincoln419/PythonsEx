{
 "cells": [
  {
   "cell_type": "markdown",
   "id": "9f8d1868",
   "metadata": {},
   "source": [
    "### 파이썬 기본문법\n",
    "- 변수 선언, 식별자, 자료형, 형변환, 연산자 학습"
   ]
  },
  {
   "cell_type": "markdown",
   "id": "1c49620f",
   "metadata": {},
   "source": [
    "### 1. 주석과 출력"
   ]
  },
  {
   "cell_type": "code",
   "execution_count": 1,
   "id": "7d0259ff",
   "metadata": {},
   "outputs": [
    {
     "name": "stdout",
     "output_type": "stream",
     "text": [
      "1\n",
      "3\n"
     ]
    }
   ],
   "source": [
    "# 주석: 앞에 #을 붙이면 코드 실행이 안됨\n",
    "print(1)\n",
    "#print(2)\n",
    "print(3)"
   ]
  },
  {
   "cell_type": "code",
   "execution_count": null,
   "id": "301bfc35",
   "metadata": {},
   "outputs": [],
   "source": [
    "# adfadsfasdfa"
   ]
  },
  {
   "cell_type": "code",
   "execution_count": 2,
   "id": "7ff7c8b0",
   "metadata": {},
   "outputs": [
    {
     "name": "stdout",
     "output_type": "stream",
     "text": [
      "2\n"
     ]
    }
   ],
   "source": [
    "a=1\n",
    "b=2\n",
    "print(b)\n",
    "c=3\n",
    "b=4\n"
   ]
  },
  {
   "cell_type": "code",
   "execution_count": 9,
   "id": "4b6c41eb",
   "metadata": {},
   "outputs": [
    {
     "name": "stdout",
     "output_type": "stream",
     "text": [
      "1%%%2\n",
      "3\n"
     ]
    }
   ],
   "source": [
    "# print 옵션\n",
    "#docstring : 함수에 대한 설명(shift tab)\n",
    "#자동완성 : tab\n",
    "print(1, 2, sep = '%%%')\n",
    "print(3)"
   ]
  },
  {
   "cell_type": "code",
   "execution_count": 7,
   "id": "c38b5c48",
   "metadata": {},
   "outputs": [
    {
     "name": "stdout",
     "output_type": "stream",
     "text": [
      "3\n"
     ]
    }
   ],
   "source": [
    "a = 1\n",
    "b = 2\n",
    "print(a + b)"
   ]
  },
  {
   "cell_type": "code",
   "execution_count": 8,
   "id": "4ad72752",
   "metadata": {},
   "outputs": [],
   "source": [
    "d,e =3,4\n",
    "f = g = 5"
   ]
  },
  {
   "cell_type": "markdown",
   "id": "03e7fa87",
   "metadata": {},
   "source": [
    "### 3. 식별자\n",
    "- 변수, 함수, 클래스, 모듈등의 이름\n",
    "- 식별자 규칙\n",
    "    - 소문자, 대문자, 숫자, 언더스코어(_) 사용\n",
    "    - 가장 앞에 숫자사용 금지\n",
    "    - 예약어 사용 불가 : def, class, try, except...\n",
    "    - 컨벤션\n",
    "        - snake case : 변수, 함수\n",
    "        - carmel case : 클래스\n",
    "        "
   ]
  },
  {
   "cell_type": "markdown",
   "id": "c826ac4c",
   "metadata": {},
   "source": [
    "### 4. 데이터 타입\n",
    "- RAM 저장공간 효율적 활용위해 저장공간 타입 선언\n",
    "- <h4 font-color = 'red'>동적타이핑</h4>: 변수 선언시 저장되는 값에 따라 자동으로 데이터 타입설정"
   ]
  },
  {
   "cell_type": "code",
   "execution_count": 32,
   "id": "0713f302",
   "metadata": {},
   "outputs": [
    {
     "data": {
      "text/plain": [
       "(int, float, bool, str)"
      ]
     },
     "execution_count": 32,
     "metadata": {},
     "output_type": "execute_result"
    }
   ],
   "source": [
    "a = 1\n",
    "b = 1.2\n",
    "c = True\n",
    "d = \"daTa   \"\n",
    "type(a), type(b), type(c), type(d)"
   ]
  },
  {
   "cell_type": "code",
   "execution_count": 38,
   "id": "af1f2d14",
   "metadata": {},
   "outputs": [],
   "source": [
    "# 문자열 데이터 타입에는 함수가 있음\n",
    "\n",
    "e = d.upper()\n",
    "f = d.lower()\n",
    "g = d.strip()\n",
    "h = f.replace(\"a\", \"z\")\n"
   ]
  },
  {
   "cell_type": "code",
   "execution_count": 39,
   "id": "1a7afe9f",
   "metadata": {},
   "outputs": [
    {
     "data": {
      "text/plain": [
       "('daTa   ', 'DATA   ', 'data   ', 'daTa', 'dztz   ')"
      ]
     },
     "execution_count": 39,
     "metadata": {},
     "output_type": "execute_result"
    }
   ],
   "source": [
    "d, e, f, g, h"
   ]
  },
  {
   "cell_type": "code",
   "execution_count": 40,
   "id": "d230c292",
   "metadata": {},
   "outputs": [
    {
     "data": {
      "text/plain": [
       "'DATA   '"
      ]
     },
     "execution_count": 40,
     "metadata": {},
     "output_type": "execute_result"
    }
   ],
   "source": [
    "e"
   ]
  },
  {
   "cell_type": "code",
   "execution_count": 52,
   "id": "6f0b5797",
   "metadata": {},
   "outputs": [
    {
     "data": {
      "text/plain": [
       "('c', 'f', 'cde', 'ab', 'defg', 'fg', 'abcdefg', 'aceg', 'gfedcba')"
      ]
     },
     "execution_count": 52,
     "metadata": {},
     "output_type": "execute_result"
    }
   ],
   "source": [
    "# 오프셋 인덱스\n",
    "# 문자열은 순서가 있는 문자들의 집합\n",
    "## 오프셋은 문자열 제어시 사용하는 인덱스\n",
    "\n",
    "ss = 'abcdefg'\n",
    "ss[2], ss[-2], ss[2:5], ss[:2], ss[3:], ss[-2:], ss[:], ss[::2], ss[::-1]"
   ]
  },
  {
   "cell_type": "code",
   "execution_count": 44,
   "id": "ab70dc49",
   "metadata": {},
   "outputs": [
    {
     "data": {
      "text/plain": [
       "7"
      ]
     },
     "execution_count": 44,
     "metadata": {},
     "output_type": "execute_result"
    }
   ],
   "source": [
    "ls1 = [1, 4, 6]\n",
    "ls3 = ls1\n",
    "ls3[1] = 7\n",
    "ls1[1]"
   ]
  },
  {
   "cell_type": "code",
   "execution_count": 54,
   "id": "4d7d18df",
   "metadata": {},
   "outputs": [
    {
     "name": "stdout",
     "output_type": "stream",
     "text": [
      "97531\n"
     ]
    }
   ],
   "source": [
    "numbers =\"123456789\"\n",
    "print(numbers[::-2])"
   ]
  },
  {
   "cell_type": "markdown",
   "id": "df861cbc",
   "metadata": {},
   "source": [
    "### 컬렉션 데이터 타입 : list, tuple, dict\n",
    "- list -> 벡터 ->[]\n",
    "- tuple -> 순서가 있고 수정이 불가능함(배열) -> () \n",
    "- dict -> map ->{}\n",
    "\n"
   ]
  },
  {
   "cell_type": "code",
   "execution_count": 57,
   "id": "c8983be3",
   "metadata": {},
   "outputs": [],
   "source": [
    "# list\n",
    "#ls = [1 , 2, 3, \"four\", [5, 6], True, 1.2]"
   ]
  },
  {
   "cell_type": "code",
   "execution_count": 58,
   "id": "498825bd",
   "metadata": {},
   "outputs": [
    {
     "name": "stdout",
     "output_type": "stream",
     "text": [
      "[1, 2, 3, 'four', [5, 6], True, 1.2]\n"
     ]
    }
   ],
   "source": [
    "print(ls)"
   ]
  },
  {
   "cell_type": "code",
   "execution_count": 71,
   "id": "cb8d5654",
   "metadata": {},
   "outputs": [
    {
     "name": "stdout",
     "output_type": "stream",
     "text": [
      "[1, 5, 2, 3]\n",
      "[1, 2, 3, 5]\n",
      "[5, 3, 2, 1]\n",
      "[5, 3, 2]\n"
     ]
    }
   ],
   "source": [
    "# append\n",
    "ls = [1, 5, 2]\n",
    "ls.append(3)\n",
    "print(ls)\n",
    "ls.sort()\n",
    "print(ls)\n",
    "ls.sort(reverse = True)\n",
    "print(ls)\n",
    "ls.pop()\n",
    "print(ls)\n"
   ]
  },
  {
   "cell_type": "code",
   "execution_count": 75,
   "id": "10124d17",
   "metadata": {},
   "outputs": [
    {
     "data": {
      "text/plain": [
       "([5, 3, 2], [5, 3, 2])"
      ]
     },
     "execution_count": 75,
     "metadata": {},
     "output_type": "execute_result"
    }
   ],
   "source": [
    "ls1 = ls #얕은복사\n",
    "ls2 = ls.copy() #깊은복사\n",
    "ls1, ls2"
   ]
  },
  {
   "cell_type": "code",
   "execution_count": 76,
   "id": "c7727604",
   "metadata": {},
   "outputs": [
    {
     "data": {
      "text/plain": [
       "([5, 3, 2], [4, 3, 2])"
      ]
     },
     "execution_count": 76,
     "metadata": {},
     "output_type": "execute_result"
    }
   ],
   "source": [
    "ls2[0] = 4\n",
    "ls1, ls2"
   ]
  },
  {
   "cell_type": "markdown",
   "id": "b08f79a7",
   "metadata": {},
   "source": [
    "### 튜플\n",
    "- 리스트와 같지만 수정 불가\n",
    "- 장점: 리스트보다 메모리를 적게 사용"
   ]
  },
  {
   "cell_type": "code",
   "execution_count": 78,
   "id": "f9809c90",
   "metadata": {},
   "outputs": [
    {
     "data": {
      "text/plain": [
       "tuple"
      ]
     },
     "execution_count": 78,
     "metadata": {},
     "output_type": "execute_result"
    }
   ],
   "source": [
    "tp = (1, 2, 3)\n",
    "type(tp)"
   ]
  },
  {
   "cell_type": "code",
   "execution_count": 80,
   "id": "af68111d",
   "metadata": {},
   "outputs": [
    {
     "data": {
      "text/plain": [
       "(int, int)"
      ]
     },
     "execution_count": 80,
     "metadata": {},
     "output_type": "execute_result"
    }
   ],
   "source": [
    "a, b = 1 , 2\n",
    "a, b\n",
    "type(a),type()"
   ]
  },
  {
   "cell_type": "code",
   "execution_count": null,
   "id": "a36d58ef",
   "metadata": {},
   "outputs": [],
   "source": []
  }
 ],
 "metadata": {
  "kernelspec": {
   "display_name": "Python 3 (ipykernel)",
   "language": "python",
   "name": "python3"
  },
  "language_info": {
   "codemirror_mode": {
    "name": "ipython",
    "version": 3
   },
   "file_extension": ".py",
   "mimetype": "text/x-python",
   "name": "python",
   "nbconvert_exporter": "python",
   "pygments_lexer": "ipython3",
   "version": "3.9.7"
  }
 },
 "nbformat": 4,
 "nbformat_minor": 5
}
