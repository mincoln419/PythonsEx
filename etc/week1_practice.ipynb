{
 "cells": [
  {
   "cell_type": "code",
   "execution_count": 3,
   "id": "bb26f6df",
   "metadata": {},
   "outputs": [
    {
     "name": "stdout",
     "output_type": "stream",
     "text": [
      "Total income : 850\n"
     ]
    }
   ],
   "source": [
    "# 여기에 코드를 작성해주세요.\n",
    "from functools import reduce\n",
    "jan, feb, mar = 300, 270, 280\n",
    "sum_income = reduce(lambda x, y : x + y, [jan, feb, mar])\n",
    "\n",
    "print(f'Total income : {sum_income}') # 수정하지 마세요"
   ]
  },
  {
   "cell_type": "code",
   "execution_count": 18,
   "id": "6458a734",
   "metadata": {},
   "outputs": [
    {
     "name": "stdout",
     "output_type": "stream",
     "text": [
      "Wrong datas : 3\n"
     ]
    }
   ],
   "source": [
    "raw_data = {'rental_time' : \n",
    "                [5, 34, 21, 6, 0, 3, 18, 20, 25, 8, 11, 10, 28, 3, 12, 14, 19, 18, 24]\n",
    "            }\n",
    "\n",
    "def ppc_wrong_data(data):\n",
    "    # 여기에 코드를 작성해주세요.\n",
    "    tmp = raw_data.get('rental_time')\n",
    "    chg_data = [\"None\" if data > 24 else data for data in tmp]\n",
    "    cnt = chg_data.count(\"None\")\n",
    "    return cnt\n",
    "\n",
    "data_ppc = ppc_wrong_data(raw_data) # 수정하지 마세요\n",
    "print(\"Wrong datas : {}\".format(data_ppc))"
   ]
  },
  {
   "cell_type": "code",
   "execution_count": 71,
   "id": "de5b9ec7",
   "metadata": {},
   "outputs": [],
   "source": [
    "# 코드를 작성해주세요.\n",
    "def int_checker(func):\n",
    "    def wrapper(*args, **kwargs):\n",
    "        flag = all(True if isinstance(data, int) else False for data in args)\n",
    "        if flag == False:\n",
    "            print(\"Fail\")\n",
    "            return\n",
    "        print(\"Success, {arg1}, args : {arg2}, return value : {arg3}\"\n",
    "              .format(arg1 = func.__name__, arg2  = tuple(args), arg3 = func(*args, **kwargs)))\n",
    "    return wrapper\n",
    "\n",
    "@int_checker\n",
    "def summation(*args):\n",
    "    return sum(args)\n",
    "\n",
    "\n",
    "@int_checker\n",
    "def summation_for(*args):\n",
    "    result = 0\n",
    "    for num in args:\n",
    "        result += num\n",
    "    return result"
   ]
  },
  {
   "cell_type": "code",
   "execution_count": 72,
   "id": "e53dc665",
   "metadata": {},
   "outputs": [
    {
     "name": "stdout",
     "output_type": "stream",
     "text": [
      "Fail\n",
      "Fail\n",
      "Success, summation_for, args : (35, 6374, 324, 23), return value : 6756\n",
      "Fail\n",
      "===TEST DONE===\n"
     ]
    }
   ],
   "source": [
    "# 테스트 코드. 수정하지 마세요.\n",
    "summation(1, 2275, 2.4, 7203)\n",
    "summation('string', 2352, 4334345)\n",
    "summation_for(35, 6374, 324, 23)\n",
    "summation_for(4, 52, 77.2, 342)\n",
    "print(\"===TEST DONE===\")"
   ]
  },
  {
   "cell_type": "code",
   "execution_count": null,
   "id": "8fc18fb8",
   "metadata": {},
   "outputs": [],
   "source": []
  },
  {
   "cell_type": "code",
   "execution_count": null,
   "id": "dde6667c",
   "metadata": {},
   "outputs": [],
   "source": []
  }
 ],
 "metadata": {
  "kernelspec": {
   "display_name": "Python 3 (ipykernel)",
   "language": "python",
   "name": "python3"
  },
  "language_info": {
   "codemirror_mode": {
    "name": "ipython",
    "version": 3
   },
   "file_extension": ".py",
   "mimetype": "text/x-python",
   "name": "python",
   "nbconvert_exporter": "python",
   "pygments_lexer": "ipython3",
   "version": "3.9.7"
  }
 },
 "nbformat": 4,
 "nbformat_minor": 5
}
