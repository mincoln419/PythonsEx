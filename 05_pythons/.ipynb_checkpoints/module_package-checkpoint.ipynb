{
 "cells": [
  {
   "cell_type": "markdown",
   "id": "9a62ee36",
   "metadata": {},
   "source": [
    "### Module Package\n",
    "- 모듈 : 변수, 함수, 클래스를 모아놓은 .py  확장자를 가진 파일\n",
    "- 패키지: 모듈의 기능을 디렉토리별로 정리해 놓은 개념"
   ]
  },
  {
   "cell_type": "markdown",
   "id": "84819d9d",
   "metadata": {},
   "source": [
    "### 1.모듈\n",
    "- 모듈 생성\n",
    "- 모듈 호출"
   ]
  },
  {
   "cell_type": "code",
   "execution_count": null,
   "id": "937ce126",
   "metadata": {},
   "outputs": [],
   "source": [
    "!ls\n"
   ]
  },
  {
   "cell_type": "code",
   "execution_count": null,
   "id": "0049b982",
   "metadata": {},
   "outputs": [],
   "source": [
    "%%writefile dss.py\n",
    "\n",
    "num = 1234\n",
    "\n",
    "def disp1(msg):\n",
    "    print(\"disp1\", msg);\n",
    "def disp2(msg):\n",
    "    print(\"disp2\", msg);\n",
    "\n",
    "class Calc:\n",
    "    def plus(self, *args):\n",
    "        return sum(args)\n",
    "    "
   ]
  },
  {
   "cell_type": "code",
   "execution_count": null,
   "id": "eb002525",
   "metadata": {},
   "outputs": [],
   "source": [
    "!ls"
   ]
  },
  {
   "cell_type": "code",
   "execution_count": null,
   "id": "1e25d136",
   "metadata": {},
   "outputs": [],
   "source": [
    "%reset"
   ]
  },
  {
   "cell_type": "code",
   "execution_count": null,
   "id": "2056042c",
   "metadata": {},
   "outputs": [],
   "source": [
    "%whos"
   ]
  },
  {
   "cell_type": "code",
   "execution_count": null,
   "id": "d167a552",
   "metadata": {},
   "outputs": [],
   "source": [
    "# 모듈 호출\n",
    "import dss\n"
   ]
  },
  {
   "cell_type": "code",
   "execution_count": null,
   "id": "0e0c84e2",
   "metadata": {},
   "outputs": [],
   "source": [
    "%whos"
   ]
  },
  {
   "cell_type": "code",
   "execution_count": null,
   "id": "f53f708f",
   "metadata": {},
   "outputs": [],
   "source": [
    "dss.num\n",
    "dss.disp1(\"pythons\")\n",
    "dss.disp2(\"who\")"
   ]
  },
  {
   "cell_type": "code",
   "execution_count": null,
   "id": "359be3ea",
   "metadata": {},
   "outputs": [],
   "source": [
    "cal = dss.Calc()\n",
    "cal.plus(1,2)"
   ]
  },
  {
   "cell_type": "code",
   "execution_count": null,
   "id": "14a08eff",
   "metadata": {},
   "outputs": [],
   "source": [
    "# 모듈 안의 특정 변수,함수, 클래스 만 호출\n",
    "from dss import num, disp2\n"
   ]
  },
  {
   "cell_type": "code",
   "execution_count": null,
   "id": "3b674c05",
   "metadata": {},
   "outputs": [],
   "source": [
    "%whos"
   ]
  },
  {
   "cell_type": "code",
   "execution_count": null,
   "id": "bf442f05",
   "metadata": {},
   "outputs": [],
   "source": [
    "disp2(\"23132\")"
   ]
  },
  {
   "cell_type": "code",
   "execution_count": null,
   "id": "06b95f3c",
   "metadata": {},
   "outputs": [],
   "source": [
    "num"
   ]
  },
  {
   "cell_type": "code",
   "execution_count": null,
   "id": "09a97568",
   "metadata": {},
   "outputs": [],
   "source": [
    "# 모듈 안의 모든 변수,함수, 클래스 만 호출 - 아스타 사용\n",
    "from dss import * \n"
   ]
  },
  {
   "cell_type": "code",
   "execution_count": null,
   "id": "fb180d77",
   "metadata": {},
   "outputs": [],
   "source": [
    "%whos"
   ]
  },
  {
   "cell_type": "markdown",
   "id": "d10014f5",
   "metadata": {},
   "source": [
    "### 2. Package\n",
    "- 패키지 생성\n",
    "- 패키지 호출\n",
    "- 설치 가능 패키지 생성 -> setup.py\n"
   ]
  },
  {
   "cell_type": "code",
   "execution_count": null,
   "id": "9d2bcd5c",
   "metadata": {},
   "outputs": [],
   "source": [
    "# 디렉토리 생성\n",
    "!mkdir -p school/dss\n",
    "!mkdir -p school/web"
   ]
  },
  {
   "cell_type": "code",
   "execution_count": null,
   "id": "792e6ce7",
   "metadata": {},
   "outputs": [],
   "source": [
    "!ls"
   ]
  },
  {
   "cell_type": "code",
   "execution_count": null,
   "id": "42755ec7",
   "metadata": {},
   "outputs": [],
   "source": [
    "!help mkdir"
   ]
  },
  {
   "cell_type": "code",
   "execution_count": null,
   "id": "97f7ccb2",
   "metadata": {},
   "outputs": [],
   "source": [
    "!ls"
   ]
  },
  {
   "cell_type": "code",
   "execution_count": null,
   "id": "e69f83e4",
   "metadata": {},
   "outputs": [],
   "source": [
    "!tree school"
   ]
  },
  {
   "cell_type": "code",
   "execution_count": null,
   "id": "961b5281",
   "metadata": {},
   "outputs": [],
   "source": [
    "# 패키지 사용시 디렉토리에 __init__.py 파일을 추가해야함\n",
    "# python 3.3 버전 이상에서는 필요 없음\n",
    "!touch school/dss/__init__.py"
   ]
  },
  {
   "cell_type": "code",
   "execution_count": null,
   "id": "49abc70c",
   "metadata": {},
   "outputs": [],
   "source": [
    "!ls"
   ]
  },
  {
   "cell_type": "code",
   "execution_count": null,
   "id": "49f2d8d3",
   "metadata": {},
   "outputs": [],
   "source": [
    "!touch school/dss/__init__.py\n",
    "!touch school/web/__init__.py"
   ]
  },
  {
   "cell_type": "code",
   "execution_count": null,
   "id": "f55762c4",
   "metadata": {
    "scrolled": false
   },
   "outputs": [],
   "source": [
    "!tree school\n",
    "!pwd"
   ]
  },
  {
   "cell_type": "code",
   "execution_count": null,
   "id": "ec1fdedf",
   "metadata": {},
   "outputs": [],
   "source": [
    "%%writefile school/dss/data1.py\n",
    "\n",
    "def plus(*args):\n",
    "    print(\"data1\")\n",
    "    return sum(args)\n",
    "\n"
   ]
  },
  {
   "cell_type": "code",
   "execution_count": null,
   "id": "f5c7ada1",
   "metadata": {},
   "outputs": [],
   "source": [
    "%%writefile school/dss/data2.py\n",
    "\n",
    "def plus(*args):\n",
    "    print(\"data2\")\n",
    "    return sum(args)"
   ]
  },
  {
   "cell_type": "code",
   "execution_count": null,
   "id": "787b6a32",
   "metadata": {},
   "outputs": [],
   "source": [
    "%%writefile school/web/url.py\n",
    "\n",
    "def make(url):\n",
    "    return url if url[:7] == \"http://\" else \"http://\" + url"
   ]
  },
  {
   "cell_type": "code",
   "execution_count": null,
   "id": "89a74e15",
   "metadata": {},
   "outputs": [],
   "source": [
    "!ls\n"
   ]
  },
  {
   "cell_type": "code",
   "execution_count": 6,
   "id": "dc49ff28",
   "metadata": {},
   "outputs": [
    {
     "name": "stdout",
     "output_type": "stream",
     "text": [
      "Once deleted, variables cannot be recovered. Proceed (y/[n])? y\n"
     ]
    }
   ],
   "source": [
    "%reset"
   ]
  },
  {
   "cell_type": "code",
   "execution_count": 8,
   "id": "ff0d7854",
   "metadata": {},
   "outputs": [],
   "source": [
    "import school.dss.data1"
   ]
  },
  {
   "cell_type": "code",
   "execution_count": 9,
   "id": "e716f4a4",
   "metadata": {},
   "outputs": [
    {
     "name": "stdout",
     "output_type": "stream",
     "text": [
      "Variable   Type      Data/Info\n",
      "------------------------------\n",
      "school     module    <module 'school' (namespace)>\n"
     ]
    }
   ],
   "source": [
    "%whos"
   ]
  },
  {
   "cell_type": "code",
   "execution_count": null,
   "id": "ea252c7c",
   "metadata": {},
   "outputs": [],
   "source": [
    "school.dss.data1.plus(1,2,3)"
   ]
  },
  {
   "cell_type": "code",
   "execution_count": null,
   "id": "afd5b18f",
   "metadata": {},
   "outputs": [],
   "source": [
    "import school.dss.data1 as dss"
   ]
  },
  {
   "cell_type": "code",
   "execution_count": null,
   "id": "2e4b45d3",
   "metadata": {},
   "outputs": [],
   "source": [
    "dss.plus(1,2)"
   ]
  },
  {
   "cell_type": "code",
   "execution_count": null,
   "id": "aceaeb26",
   "metadata": {},
   "outputs": [],
   "source": [
    "# school.web : 디렉토리\n",
    "# url : 모듈\n",
    "from school.web import url"
   ]
  },
  {
   "cell_type": "code",
   "execution_count": null,
   "id": "9aec15d6",
   "metadata": {},
   "outputs": [],
   "source": [
    "url.make(\"goole.com\")"
   ]
  },
  {
   "cell_type": "code",
   "execution_count": null,
   "id": "6f906fb9",
   "metadata": {},
   "outputs": [],
   "source": [
    "url.make(\"http://naver.com\")"
   ]
  },
  {
   "cell_type": "code",
   "execution_count": 10,
   "id": "10cd318d",
   "metadata": {},
   "outputs": [
    {
     "name": "stdout",
     "output_type": "stream",
     "text": [
      "D:\\PythonStudy\\05_pythons\n",
      "C:\\Users\\N\\anaconda3\\python39.zip\n",
      "C:\\Users\\N\\anaconda3\\DLLs\n",
      "C:\\Users\\N\\anaconda3\\lib\n",
      "C:\\Users\\N\\anaconda3\n",
      "\n",
      "C:\\Users\\N\\AppData\\Roaming\\Python\\Python39\\site-packages\n",
      "C:\\Users\\N\\anaconda3\\lib\\site-packages\n",
      "C:\\Users\\N\\anaconda3\\lib\\site-packages\\locket-0.2.1-py3.9.egg\n",
      "C:\\Users\\N\\anaconda3\\lib\\site-packages\\win32\n",
      "C:\\Users\\N\\anaconda3\\lib\\site-packages\\win32\\lib\n",
      "C:\\Users\\N\\anaconda3\\lib\\site-packages\\Pythonwin\n",
      "C:\\Users\\N\\anaconda3\\lib\\site-packages\\IPython\\extensions\n",
      "C:\\Users\\N\\.ipython\n"
     ]
    }
   ],
   "source": [
    "# 패키지 위치 - 특정 패키지는 전역에서 호출 가능\n",
    "import sys\n",
    "for path in sys.path:\n",
    "    print(path)"
   ]
  },
  {
   "cell_type": "code",
   "execution_count": null,
   "id": "d67c4fb3",
   "metadata": {},
   "outputs": [],
   "source": [
    "packages = !ls C:\\Users\\N\\anaconda3\\lib\n"
   ]
  },
  {
   "cell_type": "code",
   "execution_count": null,
   "id": "441d222a",
   "metadata": {},
   "outputs": [],
   "source": [
    "len(packages)"
   ]
  },
  {
   "cell_type": "code",
   "execution_count": null,
   "id": "a6c0d056",
   "metadata": {},
   "outputs": [],
   "source": [
    "!ls"
   ]
  },
  {
   "cell_type": "code",
   "execution_count": null,
   "id": "84756f71",
   "metadata": {},
   "outputs": [],
   "source": [
    "tree school"
   ]
  },
  {
   "cell_type": "code",
   "execution_count": null,
   "id": "88963c0e",
   "metadata": {},
   "outputs": [],
   "source": [
    "!tree school"
   ]
  },
  {
   "cell_type": "code",
   "execution_count": 2,
   "id": "518bd01d",
   "metadata": {},
   "outputs": [
    {
     "name": "stdout",
     "output_type": "stream",
     "text": [
      "Overwriting school/setup.py\n"
     ]
    }
   ],
   "source": [
    "%%writefile school/setup.py\n",
    "\n",
    "from setuptools import setup, find_packages\n",
    "\n",
    "setup(\n",
    "    name = \"dss1\",\n",
    "    packages = find_packages(),\n",
    "    include_package_data = True,\n",
    "    version = \"0.0.1\",\n",
    "    author = \"mermer\",\n",
    "    author_email=\"mincoln419@naver.com\",\n",
    "    zip_safe = False\n",
    "    \n",
    ")"
   ]
  },
  {
   "cell_type": "code",
   "execution_count": 4,
   "id": "9e025b0b",
   "metadata": {},
   "outputs": [
    {
     "name": "stdout",
     "output_type": "stream",
     "text": [
      "Overwriting school/dss/__init__.py\n"
     ]
    }
   ],
   "source": [
    "%%writefile school/dss/__init__.py\n",
    "__all__ = [\"data1\",\"data2\"]"
   ]
  },
  {
   "cell_type": "code",
   "execution_count": 4,
   "id": "1c2d5361",
   "metadata": {},
   "outputs": [
    {
     "name": "stdout",
     "output_type": "stream",
     "text": [
      "Overwriting school/web/__init__.py\n"
     ]
    }
   ],
   "source": [
    "%%writefile school/web/__init__.py\n",
    "__all__ = [\"url\"]"
   ]
  },
  {
   "cell_type": "code",
   "execution_count": null,
   "id": "68f9edf1",
   "metadata": {},
   "outputs": [],
   "source": [
    "!rm dss.py"
   ]
  },
  {
   "cell_type": "code",
   "execution_count": 7,
   "id": "4d40a0f2",
   "metadata": {},
   "outputs": [
    {
     "name": "stdout",
     "output_type": "stream",
     "text": [
      "dss1                               0.0.1                d:\\pythonstudy\\05_pythons\\school\n"
     ]
    }
   ],
   "source": [
    "#  패키지 설치 확인\n",
    "!pip list|grep dss1"
   ]
  },
  {
   "cell_type": "code",
   "execution_count": null,
   "id": "47043d5f",
   "metadata": {},
   "outputs": [],
   "source": [
    "# 패키지 설치\n",
    "# 커널 리스타트\n",
    "\n"
   ]
  },
  {
   "cell_type": "code",
   "execution_count": 2,
   "id": "0fd5ce71",
   "metadata": {},
   "outputs": [
    {
     "name": "stdout",
     "output_type": "stream",
     "text": [
      "Package                            Version\n",
      "---------------------------------- --------------------\n",
      "alabaster                          0.7.12\n",
      "anaconda-client                    1.9.0\n",
      "anaconda-navigator                 2.1.1\n",
      "anaconda-project                   0.10.1\n",
      "anyio                              2.2.0\n",
      "appdirs                            1.4.4\n",
      "argh                               0.26.2\n",
      "argon2-cffi                        20.1.0\n",
      "arrow                              0.13.1\n",
      "asn1crypto                         1.4.0\n",
      "astroid                            2.6.6\n",
      "astropy                            4.3.1\n",
      "async-generator                    1.10\n",
      "atomicwrites                       1.4.0\n",
      "attrs                              21.2.0\n",
      "autopep8                           1.5.7\n",
      "Babel                              2.9.1\n",
      "backcall                           0.2.0\n",
      "backports.functools-lru-cache      1.6.4\n",
      "backports.shutil-get-terminal-size 1.0.0\n",
      "backports.tempfile                 1.0\n",
      "backports.weakref                  1.0.post1\n",
      "bcrypt                             3.2.0\n",
      "beautifulsoup4                     4.10.0\n",
      "binaryornot                        0.4.4\n",
      "bitarray                           2.3.0\n",
      "bkcharts                           0.2\n",
      "black                              19.10b0\n",
      "bleach                             4.0.0\n",
      "bokeh                              2.4.1\n",
      "boto                               2.49.0\n",
      "Bottleneck                         1.3.2\n",
      "brotlipy                           0.7.0\n",
      "cached-property                    1.5.2\n",
      "certifi                            2021.10.8\n",
      "cffi                               1.14.6\n",
      "chardet                            4.0.0\n",
      "charset-normalizer                 2.0.4\n",
      "click                              8.0.3\n",
      "cloudpickle                        2.0.0\n",
      "clyent                             1.2.2\n",
      "colorama                           0.4.4\n",
      "comtypes                           1.1.10\n",
      "conda                              4.10.3\n",
      "conda-build                        3.21.6\n",
      "conda-content-trust                0+unknown\n",
      "conda-pack                         0.6.0\n",
      "conda-package-handling             1.7.3\n",
      "conda-repo-cli                     1.0.4\n",
      "conda-token                        0.3.0\n",
      "conda-verify                       3.4.2\n",
      "contextlib2                        0.6.0.post1\n",
      "cookiecutter                       1.7.2\n",
      "cryptography                       3.4.8\n",
      "cycler                             0.10.0\n",
      "Cython                             0.29.24\n",
      "cytoolz                            0.11.0\n",
      "daal4py                            2021.3.0\n",
      "dask                               2021.10.0\n",
      "debugpy                            1.4.1\n",
      "decorator                          5.1.0\n",
      "defusedxml                         0.7.1\n",
      "diff-match-patch                   20200713\n",
      "distributed                        2021.10.0\n",
      "docutils                           0.17.1\n",
      "entrypoints                        0.3\n",
      "et-xmlfile                         1.1.0\n",
      "fastcache                          1.1.0\n",
      "filelock                           3.3.1\n",
      "flake8                             3.9.2\n",
      "Flask                              1.1.2\n",
      "fonttools                          4.25.0\n",
      "fsspec                             2021.10.1\n",
      "future                             0.18.2\n",
      "gevent                             21.8.0\n",
      "glob2                              0.7\n",
      "greenlet                           1.1.1\n",
      "h5py                               3.2.1\n",
      "HeapDict                           1.0.1\n",
      "html5lib                           1.1\n",
      "idna                               3.2\n",
      "imagecodecs                        2021.8.26\n",
      "imageio                            2.9.0\n",
      "imagesize                          1.2.0\n",
      "importlib-metadata                 4.8.1\n",
      "inflection                         0.5.1\n",
      "iniconfig                          1.1.1\n",
      "intervaltree                       3.1.0\n",
      "ipykernel                          6.4.1\n",
      "ipython                            7.29.0\n",
      "ipython-genutils                   0.2.0\n",
      "ipywidgets                         7.6.5\n",
      "isort                              5.9.3\n",
      "itsdangerous                       2.0.1\n",
      "jdcal                              1.4.1\n",
      "jedi                               0.18.0\n",
      "Jinja2                             2.11.3\n",
      "jinja2-time                        0.2.0\n",
      "joblib                             1.1.0\n",
      "json5                              0.9.6\n",
      "jsonschema                         3.2.0\n",
      "jupyter                            1.0.0\n",
      "jupyter-client                     6.1.12\n",
      "jupyter-console                    6.4.0\n",
      "jupyter-core                       4.8.1\n",
      "jupyter-server                     1.4.1\n",
      "jupyterlab                         3.2.1\n",
      "jupyterlab-pygments                0.1.2\n",
      "jupyterlab-server                  2.8.2\n",
      "jupyterlab-widgets                 1.0.0\n",
      "keyring                            23.1.0\n",
      "kiwisolver                         1.3.1\n",
      "lazy-object-proxy                  1.6.0\n",
      "libarchive-c                       2.9\n",
      "llvmlite                           0.37.0\n",
      "locket                             0.2.1\n",
      "lxml                               4.6.3\n",
      "MarkupSafe                         1.1.1\n",
      "matplotlib                         3.4.3\n",
      "matplotlib-inline                  0.1.2\n",
      "mccabe                             0.6.1\n",
      "menuinst                           1.4.18\n",
      "mistune                            0.8.4\n",
      "mkl-fft                            1.3.1\n",
      "mkl-random                         1.2.2\n",
      "mkl-service                        2.4.0\n",
      "mock                               4.0.3\n",
      "more-itertools                     8.10.0\n",
      "mpmath                             1.2.1\n",
      "msgpack                            1.0.2\n",
      "multipledispatch                   0.6.0\n",
      "munkres                            1.1.4\n",
      "mypy-extensions                    0.4.3\n",
      "navigator-updater                  0.2.1\n",
      "nbclassic                          0.2.6\n",
      "nbclient                           0.5.3\n",
      "nbconvert                          6.1.0\n",
      "nbformat                           5.1.3\n",
      "nest-asyncio                       1.5.1\n",
      "networkx                           2.6.3\n",
      "nltk                               3.6.5\n",
      "nose                               1.3.7\n",
      "notebook                           6.4.5\n",
      "numba                              0.54.1\n",
      "numexpr                            2.7.3\n",
      "numpy                              1.20.3\n",
      "numpydoc                           1.1.0\n",
      "olefile                            0.46\n",
      "openpyxl                           3.0.9\n",
      "packaging                          21.0\n",
      "pandas                             1.3.4\n",
      "pandocfilters                      1.4.3\n",
      "paramiko                           2.7.2\n",
      "parso                              0.8.2\n",
      "partd                              1.2.0\n",
      "path                               16.0.0\n",
      "pathlib2                           2.3.6\n",
      "pathspec                           0.7.0\n",
      "patsy                              0.5.2\n",
      "pep8                               1.7.1\n",
      "pexpect                            4.8.0\n",
      "pickleshare                        0.7.5\n",
      "Pillow                             8.4.0\n",
      "pip                                21.2.4\n",
      "pkginfo                            1.7.1\n",
      "pluggy                             0.13.1\n",
      "ply                                3.11\n",
      "poyo                               0.5.0\n",
      "prometheus-client                  0.11.0\n",
      "prompt-toolkit                     3.0.20\n",
      "psutil                             5.8.0\n",
      "ptyprocess                         0.7.0\n",
      "py                                 1.10.0\n",
      "pycodestyle                        2.7.0\n",
      "pycosat                            0.6.3\n",
      "pycparser                          2.20\n",
      "pycurl                             7.44.1\n",
      "pydocstyle                         6.1.1\n",
      "pyerfa                             2.0.0\n",
      "pyflakes                           2.3.1\n",
      "Pygments                           2.10.0\n",
      "PyJWT                              2.1.0\n",
      "pylint                             2.9.6\n",
      "pyls-spyder                        0.4.0\n",
      "PyNaCl                             1.4.0\n",
      "pyodbc                             4.0.0-unsupported\n",
      "pyOpenSSL                          21.0.0\n",
      "pyparsing                          3.0.4\n",
      "pyreadline                         2.1\n",
      "pyrsistent                         0.18.0\n",
      "PySocks                            1.7.1\n",
      "pytest                             6.2.4\n",
      "python-dateutil                    2.8.2\n",
      "python-lsp-black                   1.0.0\n",
      "python-lsp-jsonrpc                 1.0.0\n",
      "python-lsp-server                  1.2.4\n",
      "python-slugify                     5.0.2\n",
      "pytz                               2021.3\n",
      "PyWavelets                         1.1.1\n",
      "pywin32                            228\n",
      "pywin32-ctypes                     0.2.0\n",
      "pywinpty                           0.5.7\n",
      "PyYAML                             6.0\n",
      "pyzmq                              22.2.1\n",
      "QDarkStyle                         3.0.2\n",
      "qstylizer                          0.1.10\n",
      "QtAwesome                          1.0.2\n",
      "qtconsole                          5.1.1\n",
      "QtPy                               1.10.0\n",
      "regex                              2021.8.3\n",
      "requests                           2.26.0\n",
      "rope                               0.19.0\n",
      "Rtree                              0.9.7\n"
     ]
    },
    {
     "name": "stdout",
     "output_type": "stream",
     "text": [
      "ruamel-yaml-conda                  0.15.100\n",
      "scikit-image                       0.18.3\n",
      "scikit-learn                       0.24.2\n",
      "scikit-learn-intelex               2021.20210714.120553\n",
      "scipy                              1.7.1\n",
      "seaborn                            0.11.2\n",
      "Send2Trash                         1.8.0\n",
      "setuptools                         58.0.4\n",
      "simplegeneric                      0.8.1\n",
      "singledispatch                     3.7.0\n",
      "sip                                4.19.13\n",
      "six                                1.16.0\n",
      "sniffio                            1.2.0\n",
      "snowballstemmer                    2.1.0\n",
      "sortedcollections                  2.1.0\n",
      "sortedcontainers                   2.4.0\n",
      "soupsieve                          2.2.1\n",
      "Sphinx                             4.2.0\n",
      "sphinxcontrib-applehelp            1.0.2\n",
      "sphinxcontrib-devhelp              1.0.2\n",
      "sphinxcontrib-htmlhelp             2.0.0\n",
      "sphinxcontrib-jsmath               1.0.1\n",
      "sphinxcontrib-qthelp               1.0.3\n",
      "sphinxcontrib-serializinghtml      1.1.5\n",
      "sphinxcontrib-websupport           1.2.4\n",
      "spyder                             5.1.5\n",
      "spyder-kernels                     2.1.3\n",
      "SQLAlchemy                         1.4.22\n",
      "statsmodels                        0.12.2\n",
      "sympy                              1.9\n",
      "tables                             3.6.1\n",
      "TBB                                0.2\n",
      "tblib                              1.7.0\n",
      "terminado                          0.9.4\n",
      "testpath                           0.5.0\n",
      "text-unidecode                     1.3\n",
      "textdistance                       4.2.1\n",
      "threadpoolctl                      2.2.0\n",
      "three-merge                        0.1.1\n",
      "tifffile                           2021.7.2\n",
      "tinycss                            0.4\n",
      "toml                               0.10.2\n",
      "toolz                              0.11.1\n",
      "tornado                            6.1\n",
      "tqdm                               4.62.3\n",
      "traitlets                          5.1.0\n",
      "typed-ast                          1.4.3\n",
      "typing-extensions                  3.10.0.2\n",
      "ujson                              4.0.2\n",
      "unicodecsv                         0.14.1\n",
      "Unidecode                          1.2.0\n",
      "urllib3                            1.26.7\n",
      "watchdog                           2.1.3\n",
      "wcwidth                            0.2.5\n",
      "webencodings                       0.5.1\n",
      "Werkzeug                           2.0.2\n",
      "wheel                              0.37.0\n",
      "whichcraft                         0.6.1\n",
      "widgetsnbextension                 3.5.1\n",
      "win-inet-pton                      1.1.0\n",
      "win-unicode-console                0.5\n",
      "wincertstore                       0.2\n",
      "wrapt                              1.12.1\n",
      "xlrd                               2.0.1\n",
      "XlsxWriter                         3.0.1\n",
      "xlwings                            0.24.9\n",
      "xlwt                               1.3.0\n",
      "xmltodict                          0.12.0\n",
      "yapf                               0.31.0\n",
      "zict                               2.0.0\n",
      "zipp                               3.6.0\n",
      "zope.event                         4.5.0\n",
      "zope.interface                     5.4.0\n"
     ]
    }
   ],
   "source": [
    "!pip list"
   ]
  },
  {
   "cell_type": "code",
   "execution_count": 3,
   "id": "1a962c38",
   "metadata": {},
   "outputs": [
    {
     "name": "stdout",
     "output_type": "stream",
     "text": [
      "numpy                              1.20.3\n",
      "numpydoc                           1.1.0\n"
     ]
    }
   ],
   "source": [
    "!pip list | grep numpy"
   ]
  },
  {
   "cell_type": "code",
   "execution_count": 4,
   "id": "f3400b49",
   "metadata": {},
   "outputs": [
    {
     "name": "stdout",
     "output_type": "stream",
     "text": [
      "Interactive namespace is empty.\n"
     ]
    }
   ],
   "source": [
    "%whos"
   ]
  },
  {
   "cell_type": "code",
   "execution_count": 4,
   "id": "db448d5f",
   "metadata": {},
   "outputs": [
    {
     "ename": "ModuleNotFoundError",
     "evalue": "No module named 'dss'",
     "output_type": "error",
     "traceback": [
      "\u001b[1;31m---------------------------------------------------------------------------\u001b[0m",
      "\u001b[1;31mModuleNotFoundError\u001b[0m                       Traceback (most recent call last)",
      "\u001b[1;32m~\\AppData\\Local\\Temp/ipykernel_14012/1960667972.py\u001b[0m in \u001b[0;36m<module>\u001b[1;34m\u001b[0m\n\u001b[1;32m----> 1\u001b[1;33m \u001b[1;32mfrom\u001b[0m \u001b[0mdss\u001b[0m \u001b[1;32mimport\u001b[0m \u001b[1;33m*\u001b[0m\u001b[1;33m\u001b[0m\u001b[1;33m\u001b[0m\u001b[0m\n\u001b[0m",
      "\u001b[1;31mModuleNotFoundError\u001b[0m: No module named 'dss'"
     ]
    }
   ],
   "source": [
    "from dss import *\n"
   ]
  },
  {
   "cell_type": "code",
   "execution_count": 7,
   "id": "668511b1",
   "metadata": {},
   "outputs": [],
   "source": [
    "# unistall\n",
    "##pip uninstall dss1\n"
   ]
  },
  {
   "cell_type": "code",
   "execution_count": 1,
   "id": "68ae07c2",
   "metadata": {},
   "outputs": [
    {
     "name": "stdout",
     "output_type": "stream",
     "text": [
      "Interactive namespace is empty.\n"
     ]
    }
   ],
   "source": [
    "%whos\n"
   ]
  },
  {
   "cell_type": "code",
   "execution_count": 3,
   "id": "662782f1",
   "metadata": {},
   "outputs": [
    {
     "ename": "NameError",
     "evalue": "name 'data1' is not defined",
     "output_type": "error",
     "traceback": [
      "\u001b[1;31m---------------------------------------------------------------------------\u001b[0m",
      "\u001b[1;31mNameError\u001b[0m                                 Traceback (most recent call last)",
      "\u001b[1;32m~\\AppData\\Local\\Temp/ipykernel_14012/307458501.py\u001b[0m in \u001b[0;36m<module>\u001b[1;34m\u001b[0m\n\u001b[1;32m----> 1\u001b[1;33m \u001b[0mdata1\u001b[0m\u001b[1;33m.\u001b[0m\u001b[0mplus\u001b[0m\u001b[1;33m(\u001b[0m\u001b[1;36m1\u001b[0m\u001b[1;33m,\u001b[0m \u001b[1;36m2\u001b[0m\u001b[1;33m)\u001b[0m\u001b[1;33m\u001b[0m\u001b[1;33m\u001b[0m\u001b[0m\n\u001b[0m",
      "\u001b[1;31mNameError\u001b[0m: name 'data1' is not defined"
     ]
    }
   ],
   "source": [
    "data1.plus(1, 2)"
   ]
  },
  {
   "cell_type": "code",
   "execution_count": 2,
   "id": "b79917b1",
   "metadata": {},
   "outputs": [
    {
     "name": "stdout",
     "output_type": "stream",
     "text": [
      "Folder PATH listing for volume Data\n",
      "Volume serial number is 000000F1 5E86:2C83\n",
      "D:\\PYTHONSTUDY\\05_PYTHONS\\SCHOOL\n",
      "├───dss\n",
      "│   └───__pycache__\n",
      "├───dss1.egg-info\n",
      "└───web\n"
     ]
    }
   ],
   "source": [
    "!tree school"
   ]
  },
  {
   "cell_type": "code",
   "execution_count": null,
   "id": "1ff4aa85",
   "metadata": {},
   "outputs": [],
   "source": []
  }
 ],
 "metadata": {
  "kernelspec": {
   "display_name": "Python 3 (ipykernel)",
   "language": "python",
   "name": "python3"
  },
  "language_info": {
   "codemirror_mode": {
    "name": "ipython",
    "version": 3
   },
   "file_extension": ".py",
   "mimetype": "text/x-python",
   "name": "python",
   "nbconvert_exporter": "python",
   "pygments_lexer": "ipython3",
   "version": "3.9.7"
  }
 },
 "nbformat": 4,
 "nbformat_minor": 5
}
