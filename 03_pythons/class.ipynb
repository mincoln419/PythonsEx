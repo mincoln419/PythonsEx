{
 "cells": [
  {
   "cell_type": "markdown",
   "id": "23768801",
   "metadata": {},
   "source": [
    "### class\n",
    "- 변수, 함수를 묶어놓은 개념\n",
    "- 클래스 선언 후 활용"
   ]
  },
  {
   "cell_type": "markdown",
   "id": "78bc0ec6",
   "metadata": {},
   "source": [
    "### 1. 기본 클래스 사용"
   ]
  },
  {
   "cell_type": "code",
   "execution_count": 36,
   "id": "24661726",
   "metadata": {},
   "outputs": [],
   "source": [
    "from functools import reduce\n",
    "## 클래스선언\n",
    "class Calculator:\n",
    "    \n",
    "    num1 = 1\n",
    "    num2 = 2\n",
    "    \n",
    "    def plus(self, *args): # java의  this와 같음\n",
    "        return sum(args)\n",
    "        \n",
    "    def minus(self, *args):\n",
    "        return reduce(lambda x, y: x - y, args)"
   ]
  },
  {
   "cell_type": "code",
   "execution_count": 38,
   "id": "3635ab4f",
   "metadata": {},
   "outputs": [
    {
     "name": "stdout",
     "output_type": "stream",
     "text": [
      "1 2\n",
      "16\n",
      "-104\n"
     ]
    }
   ],
   "source": [
    "calc = Calculator()\n",
    "print(calc.num1, calc.num2)\n",
    "\n",
    "print(calc.plus(6, 2, 8))\n",
    "print(calc.minus(6, 10, 100))\n",
    "\n"
   ]
  },
  {
   "cell_type": "markdown",
   "id": "35a49670",
   "metadata": {},
   "source": [
    "### 2. 객체지향의 의미\n",
    "- 실제 세계를 코드에 반영해서 개발\n",
    "- 여러명의 개발자가 코드를 효율적으로 작성하여 프로젝트를 완성시키기 위한 방법론\n",
    "- class : 설계도, object : 실제 물건"
   ]
  },
  {
   "cell_type": "code",
   "execution_count": 40,
   "id": "3f98dde6",
   "metadata": {},
   "outputs": [
    {
     "data": {
      "text/plain": [
       "['__class__',\n",
       " '__delattr__',\n",
       " '__dict__',\n",
       " '__dir__',\n",
       " '__doc__',\n",
       " '__eq__',\n",
       " '__format__',\n",
       " '__ge__',\n",
       " '__getattribute__',\n",
       " '__gt__',\n",
       " '__hash__',\n",
       " '__init__',\n",
       " '__init_subclass__',\n",
       " '__le__',\n",
       " '__lt__',\n",
       " '__module__',\n",
       " '__ne__',\n",
       " '__new__',\n",
       " '__reduce__',\n",
       " '__reduce_ex__',\n",
       " '__repr__',\n",
       " '__setattr__',\n",
       " '__sizeof__',\n",
       " '__str__',\n",
       " '__subclasshook__',\n",
       " '__weakref__',\n",
       " 'minus',\n",
       " 'num1',\n",
       " 'num2',\n",
       " 'plus']"
      ]
     },
     "execution_count": 40,
     "metadata": {},
     "output_type": "execute_result"
    }
   ],
   "source": [
    "ls = [1, 2 ,4]\n",
    "\n",
    "dir(calc)\n"
   ]
  },
  {
   "cell_type": "code",
   "execution_count": null,
   "id": "46fe5637",
   "metadata": {},
   "outputs": [],
   "source": []
  },
  {
   "cell_type": "code",
   "execution_count": null,
   "id": "be5453b9",
   "metadata": {},
   "outputs": [],
   "source": []
  },
  {
   "cell_type": "code",
   "execution_count": null,
   "id": "c8853262",
   "metadata": {},
   "outputs": [],
   "source": []
  }
 ],
 "metadata": {
  "kernelspec": {
   "display_name": "Python 3 (ipykernel)",
   "language": "python",
   "name": "python3"
  },
  "language_info": {
   "codemirror_mode": {
    "name": "ipython",
    "version": 3
   },
   "file_extension": ".py",
   "mimetype": "text/x-python",
   "name": "python",
   "nbconvert_exporter": "python",
   "pygments_lexer": "ipython3",
   "version": "3.9.7"
  }
 },
 "nbformat": 4,
 "nbformat_minor": 5
}
