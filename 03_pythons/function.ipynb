{
 "cells": [
  {
   "cell_type": "markdown",
   "id": "ab0d031a",
   "metadata": {},
   "source": [
    "### 함수\n",
    "- 반복되는 코드를 묶음으로 효율적인 코드를 작성하도록 해주는 기능\n",
    "- parameter, argument, return, \n",
    "- '\\*args', '\\**kwargs'\n",
    "- scope, inner function, lamda\n",
    "- map, filter, reduce\n",
    "- decorator\n"
   ]
  },
  {
   "cell_type": "markdown",
   "id": "cf3e3469",
   "metadata": {},
   "source": [
    "### 1. 함수 기본\n",
    "- 함수 선언과 호출\n"
   ]
  },
  {
   "cell_type": "code",
   "execution_count": 1,
   "id": "e8561898",
   "metadata": {},
   "outputs": [
    {
     "name": "stdout",
     "output_type": "stream",
     "text": [
      "B\n"
     ]
    }
   ],
   "source": [
    "point = 88\n",
    "if point >= 90:\n",
    "    print(\"A\")\n",
    "elif point >= 80:\n",
    "    print(\"B\")\n",
    "else: \n",
    "    print(\"C\")"
   ]
  },
  {
   "cell_type": "code",
   "execution_count": 8,
   "id": "b0b97482",
   "metadata": {},
   "outputs": [
    {
     "name": "stdout",
     "output_type": "stream",
     "text": [
      "B\n"
     ]
    }
   ],
   "source": [
    "# 함수선언\n",
    "def grade(point):\n",
    "    if point >= 90:\n",
    "        print(\"A\")\n",
    "    elif point >= 80:\n",
    "        print(\"B\")\n",
    "    else: \n",
    "        print(\"C\")\n",
    "\n",
    "# 함수선언\n",
    "grade(88)"
   ]
  },
  {
   "cell_type": "code",
   "execution_count": 3,
   "id": "74a42175",
   "metadata": {},
   "outputs": [
    {
     "name": "stdout",
     "output_type": "stream",
     "text": [
      "C\n"
     ]
    }
   ],
   "source": [
    "grade(70)"
   ]
  },
  {
   "cell_type": "code",
   "execution_count": 4,
   "id": "59c653ea",
   "metadata": {},
   "outputs": [
    {
     "name": "stdout",
     "output_type": "stream",
     "text": [
      "Variable   Type        Data/Info\n",
      "--------------------------------\n",
      "grade      function    <function grade at 0x0000021EB30914C0>\n",
      "point      int         88\n"
     ]
    }
   ],
   "source": [
    "%whos"
   ]
  },
  {
   "cell_type": "code",
   "execution_count": 6,
   "id": "bd69a8b7",
   "metadata": {},
   "outputs": [
    {
     "name": "stdout",
     "output_type": "stream",
     "text": [
      "Once deleted, variables cannot be recovered. Proceed (y/[n])? y\n"
     ]
    }
   ],
   "source": [
    "%reset"
   ]
  },
  {
   "cell_type": "code",
   "execution_count": 7,
   "id": "c46ab364",
   "metadata": {},
   "outputs": [
    {
     "name": "stdout",
     "output_type": "stream",
     "text": [
      "Interactive namespace is empty.\n"
     ]
    }
   ],
   "source": [
    "%whos"
   ]
  },
  {
   "cell_type": "code",
   "execution_count": 9,
   "id": "f7f32685",
   "metadata": {},
   "outputs": [
    {
     "name": "stdout",
     "output_type": "stream",
     "text": [
      "Variable   Type        Data/Info\n",
      "--------------------------------\n",
      "grade      function    <function grade at 0x0000021EB2C2F940>\n"
     ]
    }
   ],
   "source": [
    "%whos"
   ]
  },
  {
   "cell_type": "markdown",
   "id": "98debcea",
   "metadata": {},
   "source": [
    "### 2. parameter & argument\n",
    "- num1, num2 가 parameter\n",
    "- 1, 2 같이 num1, num2 값에 넣는 값이 argument"
   ]
  },
  {
   "cell_type": "code",
   "execution_count": 21,
   "id": "99d30567",
   "metadata": {
    "scrolled": true
   },
   "outputs": [
    {
     "name": "stdout",
     "output_type": "stream",
     "text": [
      "3\n",
      "5\n",
      "30\n",
      "21\n",
      "21\n",
      "40\n"
     ]
    }
   ],
   "source": [
    "def plus(num1 = 10, num2 = 20): # 디폴트 값을 설정해줄수 있음\n",
    "    print(num1 + num2)\n",
    "plus(1,2)\n",
    "plus(2,3)\n",
    "plus()\n",
    "plus(1,)\n",
    "plus(1)\n",
    "##plus( ,10) 이렇게 할 수는 없음\n",
    "plus(num2 = 30) ## 대신 이렇게 사용해야 함"
   ]
  },
  {
   "cell_type": "markdown",
   "id": "7bf3d10b",
   "metadata": {},
   "source": [
    "### 3. return\n",
    "- 함수를 실행한 결과를 저장하는 경우"
   ]
  },
  {
   "cell_type": "code",
   "execution_count": 27,
   "id": "cdbc10c5",
   "metadata": {},
   "outputs": [
    {
     "name": "stdout",
     "output_type": "stream",
     "text": [
      "3\n",
      "None\n",
      "STS\n"
     ]
    }
   ],
   "source": [
    "def plus(num1 = 10, num2 = 20): # 디폴트 값을 설정해줄수 있음\n",
    "    return num1 + num2\n",
    "\n",
    "print(plus(1,2))\n",
    "\n",
    "ls = [1, 2, 3]\n",
    "print(ls.sort())\n",
    "\n",
    "sts = \"sts\"\n",
    "print(sts.upper())"
   ]
  },
  {
   "cell_type": "code",
   "execution_count": 29,
   "id": "d60b845b",
   "metadata": {},
   "outputs": [],
   "source": [
    "def echo(msg):\n",
    "    if msg == \"quit\":\n",
    "        return\n",
    "    else:\n",
    "        print(msg)"
   ]
  },
  {
   "cell_type": "code",
   "execution_count": 30,
   "id": "38c845f2",
   "metadata": {},
   "outputs": [
    {
     "name": "stdout",
     "output_type": "stream",
     "text": [
      "12312\n"
     ]
    }
   ],
   "source": [
    "echo(12312)"
   ]
  },
  {
   "cell_type": "code",
   "execution_count": 31,
   "id": "94bad400",
   "metadata": {},
   "outputs": [],
   "source": [
    "echo(\"quit\")"
   ]
  },
  {
   "cell_type": "markdown",
   "id": "c55820c1",
   "metadata": {},
   "source": [
    "### 4. \\*args, \\**kwargs(키워드 아규먼트 )\n",
    "\n",
    "- parameter로 사용되고, 아규먼트 갯수를 특정지을 수 없을 때 사용"
   ]
  },
  {
   "cell_type": "code",
   "execution_count": 38,
   "id": "87023683",
   "metadata": {},
   "outputs": [
    {
     "name": "stdout",
     "output_type": "stream",
     "text": [
      "<class 'tuple'> (1, 2, 3, 4, 5, 6)\n",
      "<class 'dict'> {'num1': 10, 'num2': 9}\n"
     ]
    },
    {
     "data": {
      "text/plain": [
       "21"
      ]
     },
     "execution_count": 38,
     "metadata": {},
     "output_type": "execute_result"
    }
   ],
   "source": [
    "def plus(*args, **kwargs):\n",
    "    print(type(args), args)\n",
    "    print(type(kwargs), kwargs)\n",
    "    return sum(args)\n",
    "plus(1,2,3,4,5,6, num1=10, num2=9)"
   ]
  },
  {
   "cell_type": "code",
   "execution_count": 41,
   "id": "48f349e0",
   "metadata": {},
   "outputs": [
    {
     "ename": "SyntaxError",
     "evalue": "can't use starred expression here (Temp/ipykernel_19812/1170324266.py, line 5)",
     "output_type": "error",
     "traceback": [
      "\u001b[1;36m  File \u001b[1;32m\"C:\\Users\\N\\AppData\\Local\\Temp/ipykernel_19812/1170324266.py\"\u001b[1;36m, line \u001b[1;32m5\u001b[0m\n\u001b[1;33m    *data\u001b[0m\n\u001b[1;37m    ^\u001b[0m\n\u001b[1;31mSyntaxError\u001b[0m\u001b[1;31m:\u001b[0m can't use starred expression here\n"
     ]
    }
   ],
   "source": [
    "def func(num1, num2, num3):\n",
    "    return num1 + num2 + num3\n",
    "data = [1, 6, 3]\n",
    "func(*data)"
   ]
  },
  {
   "cell_type": "code",
   "execution_count": 43,
   "id": "b77df3b5",
   "metadata": {},
   "outputs": [
    {
     "name": "stdout",
     "output_type": "stream",
     "text": [
      "Once deleted, variables cannot be recovered. Proceed (y/[n])? y\n"
     ]
    }
   ],
   "source": [
    "%reset"
   ]
  },
  {
   "cell_type": "code",
   "execution_count": 45,
   "id": "c55e1f3a",
   "metadata": {},
   "outputs": [
    {
     "name": "stdout",
     "output_type": "stream",
     "text": [
      "Interactive namespace is empty.\n"
     ]
    }
   ],
   "source": [
    "%whos"
   ]
  },
  {
   "cell_type": "code",
   "execution_count": 76,
   "id": "ab062dbd",
   "metadata": {},
   "outputs": [
    {
     "name": "stdout",
     "output_type": "stream",
     "text": [
      "input sentence::python Language IS the best language\n",
      "['python', 'Language', 'IS', 'the', 'best', 'language'] 6\n",
      "Python language is the best language. "
     ]
    }
   ],
   "source": [
    "%timeit\n",
    "# 문장을 입력받아서\n",
    "sentence = input(\"input sentence::\");\n",
    "# python Language IS the best language / pythons IS the best Language\n",
    "\n",
    "# 1. 문자열 입력받기 2. 모두 소문자로 변경 3. 가장 앞글자 대문자로 변경 4. 마지막이 \".\" 아니면 . 추가\n",
    "\n",
    "ls = sentence.split(\" \")\n",
    "length = len(ls)\n",
    "print(ls, length)\n",
    "cnt = 0\n",
    "for data in ls :\n",
    "    if cnt == 0 and data[0].islower(): \n",
    "        data = data.replace(data[0], data[0].upper(), 1)\n",
    "        ls[cnt] = data\n",
    "    if cnt > 0 and data[0].isupper():\n",
    "        data = data.replace(data[0], data[0].lower(), 1)\n",
    "        ls[cnt] = data\n",
    "    if data[1:].isupper :\n",
    "        data = data.replace(data[1:], data[1:].lower(), -1)\n",
    "        ls[cnt] = data\n",
    "    if cnt == length - 1 and data[-1] != \".\" :\n",
    "        data = data + \".\"    \n",
    "        ls[cnt] = data\n",
    "    cnt = cnt + 1\n",
    "for data in ls :\n",
    "    print(data, end = \" \")"
   ]
  },
  {
   "cell_type": "code",
   "execution_count": 75,
   "id": "cc9bbb74",
   "metadata": {},
   "outputs": [
    {
     "name": "stdout",
     "output_type": "stream",
     "text": [
      "input sentence::python Language IS the best language\n",
      "Python language is the best language.\n"
     ]
    }
   ],
   "source": [
    "sentence = input(\"input sentence::\");\n",
    "result = sentence.lower()\n",
    "result = result[0].upper() + result[1:]\n",
    "if result[-1] != \".\" :\n",
    "    result += \".\"\n",
    "print(result)"
   ]
  },
  {
   "cell_type": "code",
   "execution_count": 136,
   "id": "6a6ae0a9",
   "metadata": {},
   "outputs": [
    {
     "name": "stdout",
     "output_type": "stream",
     "text": [
      "[7, 9, 14, 19, 24, 42]\n"
     ]
    }
   ],
   "source": [
    "# 6자리 로또번호를 생성하는 코드\n",
    "# 6자리는 중복 불가\n",
    "# 문자열, 숫자, 리스트\n",
    "import random\n",
    "arr = []\n",
    "while True :\n",
    "    num = random.randint(1, 45)\n",
    "    if num not in arr : arr.append(num)\n",
    "    if len(arr) == 6 : \n",
    "        arr.sort()\n",
    "        break\n",
    "\n",
    "print(arr)\n",
    "\n",
    "# 랜덤한 숫자 6개 while 문으로 뽑아냄\n",
    "    \n",
    "\n",
    "\n"
   ]
  },
  {
   "cell_type": "code",
   "execution_count": null,
   "id": "fde82006",
   "metadata": {},
   "outputs": [],
   "source": []
  },
  {
   "cell_type": "code",
   "execution_count": null,
   "id": "7633863b",
   "metadata": {},
   "outputs": [],
   "source": []
  }
 ],
 "metadata": {
  "kernelspec": {
   "display_name": "Python 3 (ipykernel)",
   "language": "python",
   "name": "python3"
  },
  "language_info": {
   "codemirror_mode": {
    "name": "ipython",
    "version": 3
   },
   "file_extension": ".py",
   "mimetype": "text/x-python",
   "name": "python",
   "nbconvert_exporter": "python",
   "pygments_lexer": "ipython3",
   "version": "3.9.7"
  }
 },
 "nbformat": 4,
 "nbformat_minor": 5
}
