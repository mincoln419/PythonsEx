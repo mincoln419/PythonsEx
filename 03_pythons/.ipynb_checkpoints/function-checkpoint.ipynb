{
 "cells": [
  {
   "cell_type": "markdown",
   "id": "43462dcf",
   "metadata": {},
   "source": [
    "### 함수\n",
    "- 반복되는 코드를 묶음으로 효율적인 코드를 작성하도록 해주는 기능\n",
    "- parameter, argument, return, \n",
    "- '\\*args', '\\**kwargs'\n",
    "- scope, inner function, lamda\n",
    "- map, filter, reduce\n",
    "- decorator\n"
   ]
  },
  {
   "cell_type": "markdown",
   "id": "53572a7d",
   "metadata": {},
   "source": [
    "### 1. 함수 기본\n",
    "- 함수 선언과 호출\n"
   ]
  },
  {
   "cell_type": "code",
   "execution_count": 1,
   "id": "467c18fb",
   "metadata": {},
   "outputs": [
    {
     "name": "stdout",
     "output_type": "stream",
     "text": [
      "B\n"
     ]
    }
   ],
   "source": [
    "point = 88\n",
    "if point >= 90:\n",
    "    print(\"A\")\n",
    "elif point >= 80:\n",
    "    print(\"B\")\n",
    "else: \n",
    "    print(\"C\")"
   ]
  },
  {
   "cell_type": "code",
   "execution_count": 8,
   "id": "3c827ebf",
   "metadata": {},
   "outputs": [
    {
     "name": "stdout",
     "output_type": "stream",
     "text": [
      "B\n"
     ]
    }
   ],
   "source": [
    "# 함수선언\n",
    "def grade(point):\n",
    "    if point >= 90:\n",
    "        print(\"A\")\n",
    "    elif point >= 80:\n",
    "        print(\"B\")\n",
    "    else: \n",
    "        print(\"C\")\n",
    "\n",
    "# 함수선언\n",
    "grade(88)"
   ]
  },
  {
   "cell_type": "code",
   "execution_count": 3,
   "id": "3c706c64",
   "metadata": {},
   "outputs": [
    {
     "name": "stdout",
     "output_type": "stream",
     "text": [
      "C\n"
     ]
    }
   ],
   "source": [
    "grade(70)"
   ]
  },
  {
   "cell_type": "code",
   "execution_count": 4,
   "id": "6876978f",
   "metadata": {},
   "outputs": [
    {
     "name": "stdout",
     "output_type": "stream",
     "text": [
      "Variable   Type        Data/Info\n",
      "--------------------------------\n",
      "grade      function    <function grade at 0x0000021EB30914C0>\n",
      "point      int         88\n"
     ]
    }
   ],
   "source": [
    "%whos"
   ]
  },
  {
   "cell_type": "code",
   "execution_count": 6,
   "id": "0d969835",
   "metadata": {},
   "outputs": [
    {
     "name": "stdout",
     "output_type": "stream",
     "text": [
      "Once deleted, variables cannot be recovered. Proceed (y/[n])? y\n"
     ]
    }
   ],
   "source": [
    "%reset"
   ]
  },
  {
   "cell_type": "code",
   "execution_count": 7,
   "id": "d90054b3",
   "metadata": {},
   "outputs": [
    {
     "name": "stdout",
     "output_type": "stream",
     "text": [
      "Interactive namespace is empty.\n"
     ]
    }
   ],
   "source": [
    "%whos"
   ]
  },
  {
   "cell_type": "code",
   "execution_count": 9,
   "id": "9ec677bc",
   "metadata": {},
   "outputs": [
    {
     "name": "stdout",
     "output_type": "stream",
     "text": [
      "Variable   Type        Data/Info\n",
      "--------------------------------\n",
      "grade      function    <function grade at 0x0000021EB2C2F940>\n"
     ]
    }
   ],
   "source": [
    "%whos"
   ]
  },
  {
   "cell_type": "markdown",
   "id": "8ca6c87b",
   "metadata": {},
   "source": [
    "### 2. parameter & argument\n",
    "- num1, num2 가 parameter\n",
    "- 1, 2 같이 num1, num2 값에 넣는 값이 argument"
   ]
  },
  {
   "cell_type": "code",
   "execution_count": 21,
   "id": "e4119b12",
   "metadata": {
    "scrolled": true
   },
   "outputs": [
    {
     "name": "stdout",
     "output_type": "stream",
     "text": [
      "3\n",
      "5\n",
      "30\n",
      "21\n",
      "21\n",
      "40\n"
     ]
    }
   ],
   "source": [
    "def plus(num1 = 10, num2 = 20): # 디폴트 값을 설정해줄수 있음\n",
    "    print(num1 + num2)\n",
    "plus(1,2)\n",
    "plus(2,3)\n",
    "plus()\n",
    "plus(1,)\n",
    "plus(1)\n",
    "##plus( ,10) 이렇게 할 수는 없음\n",
    "plus(num2 = 30) ## 대신 이렇게 사용해야 함"
   ]
  },
  {
   "cell_type": "markdown",
   "id": "5a3ae0c8",
   "metadata": {},
   "source": [
    "### 3. return\n",
    "- 함수를 실행한 결과를 저장하는 경우"
   ]
  },
  {
   "cell_type": "code",
   "execution_count": 27,
   "id": "bb7069bd",
   "metadata": {},
   "outputs": [
    {
     "name": "stdout",
     "output_type": "stream",
     "text": [
      "3\n",
      "None\n",
      "STS\n"
     ]
    }
   ],
   "source": [
    "def plus(num1 = 10, num2 = 20): # 디폴트 값을 설정해줄수 있음\n",
    "    return num1 + num2\n",
    "\n",
    "print(plus(1,2))\n",
    "\n",
    "ls = [1, 2, 3]\n",
    "print(ls.sort())\n",
    "\n",
    "sts = \"sts\"\n",
    "print(sts.upper())"
   ]
  },
  {
   "cell_type": "code",
   "execution_count": 29,
   "id": "0f62967c",
   "metadata": {},
   "outputs": [],
   "source": [
    "def echo(msg):\n",
    "    if msg == \"quit\":\n",
    "        return\n",
    "    else:\n",
    "        print(msg)"
   ]
  },
  {
   "cell_type": "code",
   "execution_count": 30,
   "id": "909518c8",
   "metadata": {},
   "outputs": [
    {
     "name": "stdout",
     "output_type": "stream",
     "text": [
      "12312\n"
     ]
    }
   ],
   "source": [
    "echo(12312)"
   ]
  },
  {
   "cell_type": "code",
   "execution_count": 31,
   "id": "a5501c3b",
   "metadata": {},
   "outputs": [],
   "source": [
    "echo(\"quit\")"
   ]
  },
  {
   "cell_type": "markdown",
   "id": "ba6ff138",
   "metadata": {},
   "source": [
    "### 4. \\*args, \\**kwargs\n",
    "- parameter로 사용되고, 아규먼트 갯수를 특정지을 수 없을 때 사용"
   ]
  },
  {
   "cell_type": "code",
   "execution_count": 38,
   "id": "188ac01e",
   "metadata": {},
   "outputs": [
    {
     "name": "stdout",
     "output_type": "stream",
     "text": [
      "<class 'tuple'> (1, 2, 3, 4, 5, 6)\n",
      "<class 'dict'> {'num1': 10, 'num2': 9}\n"
     ]
    },
    {
     "data": {
      "text/plain": [
       "21"
      ]
     },
     "execution_count": 38,
     "metadata": {},
     "output_type": "execute_result"
    }
   ],
   "source": [
    "def plus(*args, **kwargs):\n",
    "    print(type(args), args)\n",
    "    print(type(kwargs), kwargs)\n",
    "    return sum(args)\n",
    "plus(1,2,3,4,5,6, num1=10, num2=9)"
   ]
  },
  {
   "cell_type": "code",
   "execution_count": 41,
   "id": "a0f79fde",
   "metadata": {},
   "outputs": [
    {
     "ename": "SyntaxError",
     "evalue": "can't use starred expression here (Temp/ipykernel_19812/1170324266.py, line 5)",
     "output_type": "error",
     "traceback": [
      "\u001b[1;36m  File \u001b[1;32m\"C:\\Users\\N\\AppData\\Local\\Temp/ipykernel_19812/1170324266.py\"\u001b[1;36m, line \u001b[1;32m5\u001b[0m\n\u001b[1;33m    *data\u001b[0m\n\u001b[1;37m    ^\u001b[0m\n\u001b[1;31mSyntaxError\u001b[0m\u001b[1;31m:\u001b[0m can't use starred expression here\n"
     ]
    }
   ],
   "source": [
    "def func(num1, num2, num3):\n",
    "    return num1 + num2 + num3\n",
    "data = [1, 6, 3]\n",
    "func(*data)"
   ]
  },
  {
   "cell_type": "code",
   "execution_count": null,
   "id": "e191b45d",
   "metadata": {},
   "outputs": [],
   "source": []
  }
 ],
 "metadata": {
  "kernelspec": {
   "display_name": "Python 3 (ipykernel)",
   "language": "python",
   "name": "python3"
  },
  "language_info": {
   "codemirror_mode": {
    "name": "ipython",
    "version": 3
   },
   "file_extension": ".py",
   "mimetype": "text/x-python",
   "name": "python",
   "nbconvert_exporter": "python",
   "pygments_lexer": "ipython3",
   "version": "3.9.7"
  }
 },
 "nbformat": 4,
 "nbformat_minor": 5
}
