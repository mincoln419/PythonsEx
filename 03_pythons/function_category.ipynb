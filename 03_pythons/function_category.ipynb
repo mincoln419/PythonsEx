{
 "cells": [
  {
   "cell_type": "markdown",
   "id": "49622660",
   "metadata": {},
   "source": [
    "### 1. docstring\n",
    "- 함수의 설명을 작성"
   ]
  },
  {
   "cell_type": "code",
   "execution_count": 7,
   "id": "1913a3b3",
   "metadata": {},
   "outputs": [],
   "source": [
    "def echo(msg):\n",
    "    \"echo pring msg\"\n",
    "    pring(msg)"
   ]
  },
  {
   "cell_type": "code",
   "execution_count": 5,
   "id": "0fa10aa4",
   "metadata": {},
   "outputs": [
    {
     "data": {
      "text/plain": [
       "<function __main__.echo(msg)>"
      ]
     },
     "execution_count": 5,
     "metadata": {},
     "output_type": "execute_result"
    }
   ],
   "source": [
    "echo"
   ]
  },
  {
   "cell_type": "code",
   "execution_count": 11,
   "id": "7744778f",
   "metadata": {},
   "outputs": [],
   "source": [
    "def echo(msg):\n",
    "    \"\"\"\n",
    "    echo return its input argument\n",
    "    what is return : str\n",
    "    what is args : str\n",
    "    \"\"\"\n",
    "    pring(msg)"
   ]
  },
  {
   "cell_type": "code",
   "execution_count": 10,
   "id": "a6941209",
   "metadata": {},
   "outputs": [
    {
     "data": {
      "text/plain": [
       "<function __main__.echo(msg)>"
      ]
     },
     "execution_count": 10,
     "metadata": {},
     "output_type": "execute_result"
    }
   ],
   "source": [
    "echo"
   ]
  },
  {
   "cell_type": "code",
   "execution_count": 13,
   "id": "b7939830",
   "metadata": {},
   "outputs": [],
   "source": [
    "echo?"
   ]
  },
  {
   "cell_type": "code",
   "execution_count": 14,
   "id": "7f0524c3",
   "metadata": {},
   "outputs": [],
   "source": [
    "echo??"
   ]
  },
  {
   "cell_type": "code",
   "execution_count": 15,
   "id": "c06debdf",
   "metadata": {},
   "outputs": [
    {
     "name": "stdout",
     "output_type": "stream",
     "text": [
      "Help on function echo in module __main__:\n",
      "\n",
      "echo(msg)\n",
      "    echo return its input argument\n",
      "    what is return : str\n",
      "    what is args : str\n",
      "\n"
     ]
    }
   ],
   "source": [
    "help(echo)"
   ]
  },
  {
   "cell_type": "code",
   "execution_count": 16,
   "id": "a5f9edf4",
   "metadata": {},
   "outputs": [
    {
     "name": "stdout",
     "output_type": "stream",
     "text": [
      "\n",
      "    echo return its input argument\n",
      "    what is return : str\n",
      "    what is args : str\n",
      "    \n"
     ]
    }
   ],
   "source": [
    "print(echo.__doc__)"
   ]
  },
  {
   "cell_type": "markdown",
   "id": "cc6f1009",
   "metadata": {},
   "source": [
    "### 2. Scope\n",
    "- 함수 안에서 선언되는 변수, 함수 밖에서 선언되는 변수\n",
    "- global, local\n"
   ]
  },
  {
   "cell_type": "code",
   "execution_count": 34,
   "id": "edb57bff",
   "metadata": {},
   "outputs": [
    {
     "name": "stdout",
     "output_type": "stream",
     "text": [
      "100\n",
      "100\n"
     ]
    }
   ],
   "source": [
    "gv = 10\n",
    "def echo():\n",
    "    global gv\n",
    "    gv = 100\n",
    "    print(gv)\n",
    "echo()\n",
    "print(gv)"
   ]
  },
  {
   "cell_type": "code",
   "execution_count": 25,
   "id": "91e08d91",
   "metadata": {},
   "outputs": [
    {
     "name": "stdout",
     "output_type": "stream",
     "text": [
      "Once deleted, variables cannot be recovered. Proceed (y/[n])? y\n"
     ]
    }
   ],
   "source": [
    "%reset"
   ]
  },
  {
   "cell_type": "code",
   "execution_count": 35,
   "id": "c6dcb4f5",
   "metadata": {},
   "outputs": [
    {
     "name": "stdout",
     "output_type": "stream",
     "text": [
      "100\n",
      "10\n"
     ]
    }
   ],
   "source": [
    "gv = 10\n",
    "def echo():\n",
    "    gv = 100\n",
    "    print(gv)\n",
    "echo()\n",
    "print(gv)"
   ]
  },
  {
   "cell_type": "markdown",
   "id": "0045bd76",
   "metadata": {},
   "source": [
    "### 3. inner function\n",
    "- 함수가 지역영역에서 선언, 함수 안의 함수\n"
   ]
  },
  {
   "cell_type": "code",
   "execution_count": 39,
   "id": "28050464",
   "metadata": {},
   "outputs": [
    {
     "data": {
      "text/plain": [
       "3"
      ]
     },
     "execution_count": 39,
     "metadata": {},
     "output_type": "execute_result"
    }
   ],
   "source": [
    "def outer(a, b):\n",
    "    def inner(c, d):\n",
    "        return c + d\n",
    "    return inner(a, b)\n",
    "outer(1, 2)"
   ]
  },
  {
   "cell_type": "code",
   "execution_count": 40,
   "id": "6d5e90a9",
   "metadata": {},
   "outputs": [
    {
     "ename": "NameError",
     "evalue": "name 'inner' is not defined",
     "output_type": "error",
     "traceback": [
      "\u001b[1;31m---------------------------------------------------------------------------\u001b[0m",
      "\u001b[1;31mNameError\u001b[0m                                 Traceback (most recent call last)",
      "\u001b[1;32m~\\AppData\\Local\\Temp/ipykernel_21416/2663691403.py\u001b[0m in \u001b[0;36m<module>\u001b[1;34m\u001b[0m\n\u001b[1;32m----> 1\u001b[1;33m \u001b[0minner\u001b[0m\u001b[1;33m(\u001b[0m\u001b[1;36m1\u001b[0m\u001b[1;33m,\u001b[0m \u001b[1;36m2\u001b[0m\u001b[1;33m)\u001b[0m\u001b[1;33m\u001b[0m\u001b[1;33m\u001b[0m\u001b[0m\n\u001b[0m",
      "\u001b[1;31mNameError\u001b[0m: name 'inner' is not defined"
     ]
    }
   ],
   "source": [
    "inner(1, 2)"
   ]
  },
  {
   "cell_type": "code",
   "execution_count": 43,
   "id": "9f0eeac2",
   "metadata": {},
   "outputs": [
    {
     "name": "stdout",
     "output_type": "stream",
     "text": [
      "999 999\n"
     ]
    },
    {
     "data": {
      "text/plain": [
       "7"
      ]
     },
     "execution_count": 43,
     "metadata": {},
     "output_type": "execute_result"
    }
   ],
   "source": [
    "def outer(a, b):\n",
    "    def inner(c, d):\n",
    "        print(a, b)\n",
    "        return c + d\n",
    "    return inner\n",
    "outer(999, 999)(3, 4)"
   ]
  },
  {
   "cell_type": "markdown",
   "id": "1d250787",
   "metadata": {},
   "source": [
    "### 4. callback function\n",
    "- 함수를 아규먼트 파라미터로 설정해서 사용"
   ]
  },
  {
   "cell_type": "code",
   "execution_count": 51,
   "id": "9db9186c",
   "metadata": {},
   "outputs": [],
   "source": [
    "def cal(func, a, b):\n",
    "    a **= 2\n",
    "    b **= 2\n",
    "    return func(a, b)"
   ]
  },
  {
   "cell_type": "code",
   "execution_count": 52,
   "id": "92bf144d",
   "metadata": {},
   "outputs": [],
   "source": [
    "def plus(a, b):\n",
    "    return a + b\n",
    "\n",
    "def minus(a, b):\n",
    "    return a - b"
   ]
  },
  {
   "cell_type": "code",
   "execution_count": 53,
   "id": "a8a387eb",
   "metadata": {},
   "outputs": [
    {
     "data": {
      "text/plain": [
       "5"
      ]
     },
     "execution_count": 53,
     "metadata": {},
     "output_type": "execute_result"
    }
   ],
   "source": [
    "cal(plus, 1 , 2)"
   ]
  },
  {
   "cell_type": "code",
   "execution_count": 54,
   "id": "853aca77",
   "metadata": {},
   "outputs": [
    {
     "data": {
      "text/plain": [
       "-3"
      ]
     },
     "execution_count": 54,
     "metadata": {},
     "output_type": "execute_result"
    }
   ],
   "source": [
    "cal(minus, 1 , 2)"
   ]
  },
  {
   "cell_type": "markdown",
   "id": "70c7ceb7",
   "metadata": {},
   "source": [
    "### 5. Lamda function\n",
    "- 파라미터를 간단한 계산으로 리턴되는 함수"
   ]
  },
  {
   "cell_type": "code",
   "execution_count": 60,
   "id": "ffbcf8c8",
   "metadata": {},
   "outputs": [
    {
     "data": {
      "text/plain": [
       "3"
      ]
     },
     "execution_count": 60,
     "metadata": {},
     "output_type": "execute_result"
    }
   ],
   "source": [
    "def plus(a, b):\n",
    "    return a + b\n",
    "plus(1, 2)"
   ]
  },
  {
   "cell_type": "code",
   "execution_count": 61,
   "id": "af90a56e",
   "metadata": {},
   "outputs": [],
   "source": [
    "plus2 = lambda a, b: a + b"
   ]
  },
  {
   "cell_type": "code",
   "execution_count": 63,
   "id": "d26d713e",
   "metadata": {},
   "outputs": [
    {
     "data": {
      "text/plain": [
       "7"
      ]
     },
     "execution_count": 63,
     "metadata": {},
     "output_type": "execute_result"
    }
   ],
   "source": [
    "plus2(3, 4)"
   ]
  },
  {
   "cell_type": "code",
   "execution_count": 66,
   "id": "bfec00ee",
   "metadata": {},
   "outputs": [
    {
     "data": {
      "text/plain": [
       "288"
      ]
     },
     "execution_count": 66,
     "metadata": {},
     "output_type": "execute_result"
    }
   ],
   "source": [
    "cal(lambda a, b: a*b + a*b, 3 ,4)"
   ]
  },
  {
   "cell_type": "markdown",
   "id": "a54ff240",
   "metadata": {},
   "source": [
    "### 6. map\n",
    "- 콜백을 사용해 iterable  데이터를 변환시켜주는 함수"
   ]
  },
  {
   "cell_type": "code",
   "execution_count": 78,
   "id": "014d9f6c",
   "metadata": {},
   "outputs": [
    {
     "name": "stdout",
     "output_type": "stream",
     "text": [
      "<class 'map'>\n",
      "['odd', 'even', 'odd']\n"
     ]
    }
   ],
   "source": [
    "ls = [1, 2, 3]\n",
    "def odd_even(num):\n",
    "    return \"odd\" if num % 2 else \"even\"\n",
    "print(type(map(odd_even, ls)))\n",
    "print(list(map(odd_even, ls)))"
   ]
  },
  {
   "cell_type": "code",
   "execution_count": 79,
   "id": "6d7a8de0",
   "metadata": {},
   "outputs": [
    {
     "name": "stdout",
     "output_type": "stream",
     "text": [
      "insert number:1 2 3 4 5 6 8 9 0 10\n"
     ]
    }
   ],
   "source": [
    "data = input(\"insert number:\")"
   ]
  },
  {
   "cell_type": "code",
   "execution_count": 80,
   "id": "21d79e16",
   "metadata": {},
   "outputs": [
    {
     "data": {
      "text/plain": [
       "['1', '2', '3', '4', '5', '6', '8', '9', '0', '10']"
      ]
     },
     "execution_count": 80,
     "metadata": {},
     "output_type": "execute_result"
    }
   ],
   "source": [
    "result = data.split(\" \")\n",
    "result"
   ]
  },
  {
   "cell_type": "code",
   "execution_count": 84,
   "id": "6c81725f",
   "metadata": {},
   "outputs": [
    {
     "data": {
      "text/plain": [
       "[1, 2, 3, 4, 5, 6, 8, 9, 0, 10]"
      ]
     },
     "execution_count": 84,
     "metadata": {},
     "output_type": "execute_result"
    }
   ],
   "source": [
    "result_tonum = map(int, result)\n",
    "list(result_tonum)"
   ]
  },
  {
   "cell_type": "markdown",
   "id": "21cf36be",
   "metadata": {},
   "source": [
    "### 7. filter\n",
    "- list 데이터에서 특정 조건의 데이터만 남기는 함수"
   ]
  },
  {
   "cell_type": "code",
   "execution_count": 100,
   "id": "b9000165",
   "metadata": {},
   "outputs": [
    {
     "data": {
      "text/plain": [
       "[1, 3, 5, 7, 9]"
      ]
     },
     "execution_count": 100,
     "metadata": {},
     "output_type": "execute_result"
    }
   ],
   "source": [
    "ls1 = range(10)\n",
    "ls2 = range(20, 30)\n",
    "\n",
    "list(filter(lambda data: True if data % 2 else False, ls1))"
   ]
  },
  {
   "cell_type": "markdown",
   "id": "b310bed2",
   "metadata": {},
   "source": [
    "### 8. reduce\n",
    "- 리스트 데이터를 처음부터 순서대로 특정함수를 실행하며 누적시켜주는 함수"
   ]
  },
  {
   "cell_type": "code",
   "execution_count": 105,
   "id": "1c88c4fe",
   "metadata": {},
   "outputs": [
    {
     "data": {
      "text/plain": [
       "15"
      ]
     },
     "execution_count": 105,
     "metadata": {},
     "output_type": "execute_result"
    }
   ],
   "source": [
    "from functools import reduce\n",
    "\n",
    "ls = [3, 1, 2, 4, 5]\n",
    "\n",
    "reduce(lambda x, y: x + y, ls)"
   ]
  },
  {
   "cell_type": "code",
   "execution_count": 111,
   "id": "ea8c9b24",
   "metadata": {},
   "outputs": [
    {
     "data": {
      "text/plain": [
       "50"
      ]
     },
     "execution_count": 111,
     "metadata": {},
     "output_type": "execute_result"
    }
   ],
   "source": [
    "## 1 ~ 100 까지 합\n",
    "ls = range(1, 100)\n",
    "reduce(lambda x, y: y - x, ls)"
   ]
  },
  {
   "cell_type": "markdown",
   "id": "7a3fe545",
   "metadata": {},
   "source": [
    "### 9. Decorator\n",
    "- 코드를 바꾸지 않고, 기능을 추가하거나 수정하고 싶을때 사용"
   ]
  },
  {
   "cell_type": "code",
   "execution_count": 121,
   "id": "a160a626",
   "metadata": {},
   "outputs": [
    {
     "name": "stdout",
     "output_type": "stream",
     "text": [
      "a:::\n",
      "code_1\n",
      "code_2\n",
      "code_3\n",
      "b:::\n",
      "code_1\n",
      "code_4\n",
      "code_3\n"
     ]
    },
    {
     "data": {
      "text/plain": [
       "<function __main__.c.<locals>.wrapper(*args, **kwargs)>"
      ]
     },
     "execution_count": 121,
     "metadata": {},
     "output_type": "execute_result"
    }
   ],
   "source": [
    "def c(func):\n",
    "    def wrapper(*args, **kwargs):\n",
    "        print(\"code_1\")\n",
    "        func(*args, **kwargs)\n",
    "        print(\"code_3\")\n",
    "        return result\n",
    "    return wrapper\n",
    "    \n",
    "@c\n",
    "def a():\n",
    "    print(\"code_2\")\n",
    "\n",
    "@c\n",
    "def b():\n",
    "    print(\"code_4\")\n",
    "\n",
    "print(\"a:::\")\n",
    "c(a())\n",
    "print(\"b:::\")\n",
    "c(b())\n",
    "    "
   ]
  },
  {
   "cell_type": "code",
   "execution_count": 132,
   "id": "7c384397",
   "metadata": {},
   "outputs": [
    {
     "name": "stdout",
     "output_type": "stream",
     "text": [
      "a:::\n",
      "code_1\n",
      "code_2\n",
      "code_3\n",
      "b:::\n",
      "code_1\n",
      "code_4\n",
      "code_3\n"
     ]
    },
    {
     "data": {
      "text/plain": [
       "['1', '2', '3', '4', '5', '6', '8', '9', '0', '10']"
      ]
     },
     "execution_count": 132,
     "metadata": {},
     "output_type": "execute_result"
    }
   ],
   "source": [
    "@c\n",
    "def a():\n",
    "    print(\"code_2\")\n",
    "@c\n",
    "def b():\n",
    "    print(\"code_4\")\n",
    "\n",
    "def c(func):\n",
    "    def wrapper(*args, **kwargs):\n",
    "        print(\"code_1\")\n",
    "        func(*args, **kwargs)\n",
    "        print(\"code_3\")\n",
    "        return result\n",
    "    return wrapper\n",
    "    \n",
    "print(\"a:::\")\n",
    "a()\n",
    "print(\"b:::\")\n",
    "b()"
   ]
  },
  {
   "cell_type": "code",
   "execution_count": 142,
   "id": "bc5e4caf",
   "metadata": {},
   "outputs": [],
   "source": [
    "def disp(func):\n",
    "    def wrapper(*args, **kwargs):\n",
    "        print(\"start\")\n",
    "        result = func(*args, **kwargs)\n",
    "        print(\"result::{}\".format(result))\n",
    "        return result\n",
    "    return wrapper"
   ]
  },
  {
   "cell_type": "code",
   "execution_count": 143,
   "id": "1829f4dd",
   "metadata": {},
   "outputs": [
    {
     "name": "stdout",
     "output_type": "stream",
     "text": [
      "start\n",
      "3\n",
      "result::3\n"
     ]
    },
    {
     "data": {
      "text/plain": [
       "3"
      ]
     },
     "execution_count": 143,
     "metadata": {},
     "output_type": "execute_result"
    }
   ],
   "source": [
    "@disp\n",
    "def e(a, b):\n",
    "    print(a + b)\n",
    "    return a + b\n",
    "e(1, 2)"
   ]
  },
  {
   "cell_type": "code",
   "execution_count": 153,
   "id": "9831d25e",
   "metadata": {},
   "outputs": [
    {
     "name": "stdout",
     "output_type": "stream",
     "text": [
      "running time::0.058031558990478516\n",
      "running time::0.5463261604309082\n"
     ]
    }
   ],
   "source": [
    "##예제 함수의 실행시간을 출력하는 데코레이터 작성\n",
    "import time\n",
    "\n",
    "def timer(func):\n",
    "    def wrapper(*args, **kwargs):\n",
    "        start_time = time.time()\n",
    "        result = func(*args, **kwargs)\n",
    "        end_time = time.time()\n",
    "        print(\"running time::{}\".format(end_time - start_time))\n",
    "        return result\n",
    "    return wrapper\n",
    "@timer\n",
    "def test1():\n",
    "    for n in range(1000000) :\n",
    "        n += 1\n",
    "@timer\n",
    "def test2():\n",
    "    for n in range(10000000) :\n",
    "        n += 1\n",
    "test1()\n",
    "test2()"
   ]
  },
  {
   "cell_type": "code",
   "execution_count": null,
   "id": "3ddd2cae",
   "metadata": {},
   "outputs": [],
   "source": []
  }
 ],
 "metadata": {
  "kernelspec": {
   "display_name": "Python 3 (ipykernel)",
   "language": "python",
   "name": "python3"
  },
  "language_info": {
   "codemirror_mode": {
    "name": "ipython",
    "version": 3
   },
   "file_extension": ".py",
   "mimetype": "text/x-python",
   "name": "python",
   "nbconvert_exporter": "python",
   "pygments_lexer": "ipython3",
   "version": "3.9.7"
  }
 },
 "nbformat": 4,
 "nbformat_minor": 5
}
