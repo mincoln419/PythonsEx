{
 "cells": [
  {
   "cell_type": "markdown",
   "id": "5b7858cd",
   "metadata": {},
   "source": [
    "### 생성자\n",
    "- 클래스가 객체로 생성될때 실행되는 함수\n",
    "- 변수 추가할때 사용"
   ]
  },
  {
   "cell_type": "code",
   "execution_count": 17,
   "id": "db8492f9",
   "metadata": {},
   "outputs": [],
   "source": [
    "class Calculator:\n",
    "# 생성자함수\n",
    "    def __init__(self, num1, num2 = 10):\n",
    "        self.num1 = num1\n",
    "        self.num2 = num2\n",
    "    def plus(self):\n",
    "        return self.num1 + self.num2\n",
    "    def minus(self):\n",
    "        return self.num1 - self.num2\n",
    "\n"
   ]
  },
  {
   "cell_type": "code",
   "execution_count": 18,
   "id": "167a600a",
   "metadata": {},
   "outputs": [
    {
     "data": {
      "text/plain": [
       "7"
      ]
     },
     "execution_count": 18,
     "metadata": {},
     "output_type": "execute_result"
    }
   ],
   "source": [
    "cal = Calculator(3, 4)\n",
    "cal.plus()\n"
   ]
  },
  {
   "cell_type": "code",
   "execution_count": 19,
   "id": "ddf30f96",
   "metadata": {},
   "outputs": [
    {
     "data": {
      "text/plain": [
       "13"
      ]
     },
     "execution_count": 19,
     "metadata": {},
     "output_type": "execute_result"
    }
   ],
   "source": [
    "cal = Calculator(3)\n",
    "cal.plus()\n"
   ]
  },
  {
   "cell_type": "code",
   "execution_count": 24,
   "id": "3cb10228",
   "metadata": {},
   "outputs": [
    {
     "name": "stdout",
     "output_type": "stream",
     "text": [
      "pythons is good\n"
     ]
    }
   ],
   "source": [
    "# join\n",
    "ls = [\"pythons\", \"is\", \"good\"]\n",
    "print(\" \".join(ls))\n"
   ]
  },
  {
   "cell_type": "code",
   "execution_count": 25,
   "id": "fcde0b8e",
   "metadata": {},
   "outputs": [
    {
     "name": "stdout",
     "output_type": "stream",
     "text": [
      "pythons-is-good\n"
     ]
    }
   ],
   "source": [
    "print(\"-\".join(ls))"
   ]
  },
  {
   "cell_type": "code",
   "execution_count": 29,
   "id": "c2e98c49",
   "metadata": {},
   "outputs": [],
   "source": [
    "## pandas dataframe\n",
    "import pandas as pd\n",
    "df = pd.DataFrame([\n",
    "    {\"name\":\"jin\", \"age\" :\"20\"},\n",
    "    {\"name\":\"andy\", \"age\" :\"24\"}\n",
    "])\n"
   ]
  },
  {
   "cell_type": "code",
   "execution_count": 30,
   "id": "f8295235",
   "metadata": {},
   "outputs": [
    {
     "data": {
      "text/html": [
       "<div>\n",
       "<style scoped>\n",
       "    .dataframe tbody tr th:only-of-type {\n",
       "        vertical-align: middle;\n",
       "    }\n",
       "\n",
       "    .dataframe tbody tr th {\n",
       "        vertical-align: top;\n",
       "    }\n",
       "\n",
       "    .dataframe thead th {\n",
       "        text-align: right;\n",
       "    }\n",
       "</style>\n",
       "<table border=\"1\" class=\"dataframe\">\n",
       "  <thead>\n",
       "    <tr style=\"text-align: right;\">\n",
       "      <th></th>\n",
       "      <th>name</th>\n",
       "      <th>age</th>\n",
       "    </tr>\n",
       "  </thead>\n",
       "  <tbody>\n",
       "    <tr>\n",
       "      <th>0</th>\n",
       "      <td>jin</td>\n",
       "      <td>20</td>\n",
       "    </tr>\n",
       "    <tr>\n",
       "      <th>1</th>\n",
       "      <td>andy</td>\n",
       "      <td>24</td>\n",
       "    </tr>\n",
       "  </tbody>\n",
       "</table>\n",
       "</div>"
      ],
      "text/plain": [
       "   name age\n",
       "0   jin  20\n",
       "1  andy  24"
      ]
     },
     "execution_count": 30,
     "metadata": {},
     "output_type": "execute_result"
    }
   ],
   "source": [
    "df"
   ]
  },
  {
   "cell_type": "code",
   "execution_count": 33,
   "id": "c7e4144a",
   "metadata": {},
   "outputs": [
    {
     "data": {
      "text/plain": [
       "<bound method NDFrame.at_time of    name age\n",
       "0   jin  20\n",
       "1  andy  24>"
      ]
     },
     "execution_count": 33,
     "metadata": {},
     "output_type": "execute_result"
    }
   ],
   "source": [
    "df.at_time"
   ]
  },
  {
   "cell_type": "code",
   "execution_count": 73,
   "id": "dcc2114e",
   "metadata": {},
   "outputs": [],
   "source": [
    "user_datas = [\n",
    "    {\"id\" : \"test\", \"pw\" : \"1234\", \"count\" : 0},\n",
    "    {\"id\" : \"python\", \"pw\" : \"5678\", \"count\" : 0}\n",
    "]"
   ]
  },
  {
   "cell_type": "code",
   "execution_count": 74,
   "id": "e8b574f3",
   "metadata": {},
   "outputs": [],
   "source": [
    "def need_login(func):\n",
    "    def wrapper(*arg, **kwargs):\n",
    "        #아이디 패스워드 확인\n",
    "        id = input(\"아이디를 입력하세요: \")\n",
    "        pw = input(\"패스워드를 입력하세요: \")\n",
    "        flag = False\n",
    "        for data in user_datas :\n",
    "            if data[\"id\"] == id :\n",
    "                flag = True\n",
    "                if data[\"pw\"] == pw :\n",
    "                    data[\"count\"] += 1\n",
    "                    print(func(*arg, **kwargs))\n",
    "                    break;\n",
    "                else : \n",
    "                    print(\"비밀번호가 일치하지 않습니다\")\n",
    "                    \n",
    "        if flag == False:\n",
    "            print(\"존재하지 않는 아이디 입니다\")\n",
    "    return wrapper\n",
    "            \n",
    "@need_login\n",
    "def plus(num1, num2):\n",
    "    return num1 + num2"
   ]
  },
  {
   "cell_type": "code",
   "execution_count": 79,
   "id": "6a2bacc3",
   "metadata": {},
   "outputs": [
    {
     "name": "stdout",
     "output_type": "stream",
     "text": [
      "아이디를 입력하세요: python\n",
      "패스워드를 입력하세요: 5678\n",
      "8\n"
     ]
    }
   ],
   "source": [
    "plus(3, 5)"
   ]
  },
  {
   "cell_type": "code",
   "execution_count": 80,
   "id": "f0ad3df5",
   "metadata": {},
   "outputs": [
    {
     "data": {
      "text/plain": [
       "[{'id': 'test', 'pw': '1234', 'count': 2},\n",
       " {'id': 'python', 'pw': '5678', 'count': 1}]"
      ]
     },
     "execution_count": 80,
     "metadata": {},
     "output_type": "execute_result"
    }
   ],
   "source": [
    "user_datas"
   ]
  },
  {
   "cell_type": "code",
   "execution_count": 190,
   "id": "95928f46",
   "metadata": {},
   "outputs": [],
   "source": [
    "import random\n",
    "# 스타크래프트 마린\n",
    "class Marin :\n",
    "    def __init__(self, hp = 40, ap = 5, name = \"marin\" + str(random.randint(1, 1000))) :\n",
    "        self.hp = hp\n",
    "        self.ap = ap\n",
    "        self.name = name\n",
    "    def attack(self, target):\n",
    "        if(target.hp == 0):\n",
    "            print(\"{name} 이(가) 이미사망하였습니다\".format(name = target.name))\n",
    "        else:\n",
    "            minus = 0\n",
    "            if target.hp >= self.ap :\n",
    "                minus = self.ap\n",
    "            else :\n",
    "                minus = target.hp\n",
    "            target.hp -= minus\n",
    "            print(\"체력 {po} 이 깎였습니다. 현재 체력은 {now} 입니다\".format(po = minus, now = target.hp))\n",
    "            if target.hp == 0 :\n",
    "                print(\"{name} 이(가) 사망하였습니다\".format(name = target.name))\n",
    "        \n",
    "\n",
    "        \n",
    "        "
   ]
  },
  {
   "cell_type": "code",
   "execution_count": 192,
   "id": "5a291dfd",
   "metadata": {},
   "outputs": [],
   "source": [
    "marin1 = Marin(40, 5)\n",
    "marin2 = Marin(40, 5)\n",
    "\n",
    "\n"
   ]
  },
  {
   "cell_type": "code",
   "execution_count": 201,
   "id": "ab6e48ea",
   "metadata": {},
   "outputs": [
    {
     "name": "stdout",
     "output_type": "stream",
     "text": [
      "marin776 이(가) 이미사망하였습니다\n"
     ]
    }
   ],
   "source": [
    "marin1.attack(marin2)\n"
   ]
  },
  {
   "cell_type": "code",
   "execution_count": 164,
   "id": "cf648cbc",
   "metadata": {},
   "outputs": [
    {
     "name": "stdout",
     "output_type": "stream",
     "text": [
      "40 35\n"
     ]
    }
   ],
   "source": [
    "print(marin1.hp, marin2.hp)"
   ]
  },
  {
   "cell_type": "code",
   "execution_count": 23,
   "id": "476bc795",
   "metadata": {},
   "outputs": [],
   "source": [
    " # 스타크래프트 매딕\n",
    "class Medic :\n",
    "    def __init__(self, hp = 40, heal = 5):\n",
    "        self.hp = hp\n",
    "        self.heal = heal\n",
    "    def healing(self, target):\n",
    "        target.hp += self.heal\n"
   ]
  },
  {
   "cell_type": "code",
   "execution_count": 207,
   "id": "7dfadc48",
   "metadata": {},
   "outputs": [],
   "source": [
    "medic1 = Medic()"
   ]
  },
  {
   "cell_type": "code",
   "execution_count": 208,
   "id": "d18960e5",
   "metadata": {},
   "outputs": [],
   "source": [
    "medic1.healing(marin2)"
   ]
  },
  {
   "cell_type": "code",
   "execution_count": 209,
   "id": "54cf0d3e",
   "metadata": {},
   "outputs": [
    {
     "name": "stdout",
     "output_type": "stream",
     "text": [
      "5\n"
     ]
    }
   ],
   "source": [
    "print(marin2.hp)"
   ]
  },
  {
   "cell_type": "markdown",
   "id": "d1f9f292",
   "metadata": {},
   "source": [
    "### 1. 상속\n",
    "- 클래스의 기능을 가져다가 기능을 수정하거나 추가할때 사용하는 방법"
   ]
  },
  {
   "cell_type": "code",
   "execution_count": 214,
   "id": "88daff6b",
   "metadata": {},
   "outputs": [],
   "source": [
    "class Calculator:\n",
    "    def __init__(self, num1, num2):\n",
    "        self.num1 = num1\n",
    "        self.num2 = num2\n",
    "        \n",
    "    def plus(self):\n",
    "        return self.num1 + self.num2\n",
    "\n",
    "    "
   ]
  },
  {
   "cell_type": "code",
   "execution_count": 216,
   "id": "3160f483",
   "metadata": {},
   "outputs": [
    {
     "data": {
      "text/plain": [
       "3"
      ]
     },
     "execution_count": 216,
     "metadata": {},
     "output_type": "execute_result"
    }
   ],
   "source": [
    "cal = Calculator(1, 2)\n",
    "cal.plus()"
   ]
  },
  {
   "cell_type": "code",
   "execution_count": 221,
   "id": "7ec29354",
   "metadata": {},
   "outputs": [],
   "source": [
    "## 상속 : class(parent class)\n",
    "class Calculator2(Calculator):\n",
    "    def __init__(self, num1, num2):\n",
    "        self.num1 = num1\n",
    "        self.num2 = num2\n",
    "    \n",
    "    ###매서드오버라이드 - plus\n",
    "    def plus(self):\n",
    "        return self.num1**2 + self.num2**2\n",
    "    \n",
    "    def minus(self):\n",
    "        return self.num1 - self.num2\n",
    "\n",
    "    "
   ]
  },
  {
   "cell_type": "code",
   "execution_count": 222,
   "id": "8cad2592",
   "metadata": {},
   "outputs": [
    {
     "data": {
      "text/plain": [
       "(13, -1)"
      ]
     },
     "execution_count": 222,
     "metadata": {},
     "output_type": "execute_result"
    }
   ],
   "source": [
    "cal2 = Calculator2(2, 3)\n",
    "cal2.plus(), cal2.minus()"
   ]
  },
  {
   "cell_type": "code",
   "execution_count": 223,
   "id": "3c141efe",
   "metadata": {},
   "outputs": [],
   "source": [
    "# 연습문제 : 아이폰 만들기\n",
    "# 1 - calling\n",
    "# 2 - send msg\n",
    "# 3 - internet\n",
    "\n",
    "class iphone1:\n",
    "    def calling(self):\n",
    "        print(\"calling\")\n",
    "        \n",
    "class iphone2(iphone1):\n",
    "    def send_msg(self):\n",
    "        print(\"send_msg\")\n",
    "\n",
    "class iphone3(iphone2):\n",
    "    def internet(slef):\n",
    "        print(\"internet\")\n",
    "        "
   ]
  },
  {
   "cell_type": "code",
   "execution_count": 224,
   "id": "328bfa68",
   "metadata": {},
   "outputs": [
    {
     "name": "stdout",
     "output_type": "stream",
     "text": [
      "calling\n"
     ]
    }
   ],
   "source": [
    "i3 = iphone3()\n",
    "i3.calling()"
   ]
  },
  {
   "cell_type": "code",
   "execution_count": 228,
   "id": "9aac2933",
   "metadata": {},
   "outputs": [],
   "source": [
    "class Galaxy:\n",
    "    def show_img(self):\n",
    "        print(\"show_img\")"
   ]
  },
  {
   "cell_type": "code",
   "execution_count": 229,
   "id": "467b0b5a",
   "metadata": {},
   "outputs": [],
   "source": [
    "class DssPhone(iphone3, Galaxy): ## 다중상속 가능함\n",
    "    def camera(self):\n",
    "        print(\"camera\")"
   ]
  },
  {
   "cell_type": "code",
   "execution_count": 232,
   "id": "020f02fa",
   "metadata": {},
   "outputs": [
    {
     "name": "stdout",
     "output_type": "stream",
     "text": [
      "calling\n",
      "send_msg\n",
      "camera\n"
     ]
    },
    {
     "data": {
      "text/plain": [
       "(None, None, None)"
      ]
     },
     "execution_count": 232,
     "metadata": {},
     "output_type": "execute_result"
    }
   ],
   "source": [
    "dss = DssPhone()\n",
    "dss.calling(), dss.send_msg(), dss.camera()"
   ]
  },
  {
   "cell_type": "markdown",
   "id": "4a41f8a7",
   "metadata": {},
   "source": [
    "### 2. super\n",
    "- 부모 클래스에서 사용된 함수의 코드를 가져다가 자식 클래스의 함수에서 재사용할때.."
   ]
  },
  {
   "cell_type": "code",
   "execution_count": 11,
   "id": "60539a92",
   "metadata": {},
   "outputs": [],
   "source": [
    "import random\n",
    "# 스타크래프트 마린\n",
    "class Marin :\n",
    "    def __init__(self, hp = 40, ap = 5, name = \"marin\" + str(random.randint(1, 1000))) :\n",
    "        self.hp = hp\n",
    "        self.ap = ap\n",
    "        self.name = name\n",
    "    def attack(self, target):\n",
    "        if(target.hp == 0):\n",
    "            print(\"{name} 이(가) 이미사망하였습니다\".format(name = target.name))\n",
    "        else:\n",
    "            minus = 0\n",
    "            if target.hp >= self.ap :\n",
    "                minus = self.ap\n",
    "            else :\n",
    "                minus = target.hp\n",
    "            target.hp -= minus\n",
    "            print(\"체력 {po} 이 깎였습니다. 현재 체력은 {now} 입니다\".format(po = minus, now = target.hp))\n",
    "            if target.hp == 0 :\n",
    "                print(\"{name} 이(가) 사망하였습니다\".format(name = target.name))\n",
    "        \n",
    "\n",
    "        "
   ]
  },
  {
   "cell_type": "code",
   "execution_count": 31,
   "id": "d83ad49c",
   "metadata": {},
   "outputs": [],
   "source": [
    "class Marin2(Marin, Medic):\n",
    "    \n",
    "    def __init__(self):\n",
    "        super(Marin, self).__init__() ##2개 이상있을때는 이렇게 쓰면됨\n",
    "        self.max_health = 40"
   ]
  },
  {
   "cell_type": "code",
   "execution_count": 26,
   "id": "86398a3d",
   "metadata": {},
   "outputs": [],
   "source": [
    "marin2 = Marin2()"
   ]
  },
  {
   "cell_type": "code",
   "execution_count": 27,
   "id": "e24ade6a",
   "metadata": {},
   "outputs": [
    {
     "name": "stdout",
     "output_type": "stream",
     "text": [
      "40\n",
      "40\n"
     ]
    }
   ],
   "source": [
    "print(marin2.max_health)\n",
    "print(marin2.hp)"
   ]
  },
  {
   "cell_type": "code",
   "execution_count": 32,
   "id": "1605f2c1",
   "metadata": {},
   "outputs": [],
   "source": [
    "class Marin3(Marin):\n",
    "    \n",
    "    def __init__(self):\n",
    "        super().__init__() ##상속받는게 1개 있을 경우에는 이렇게 사용\n",
    "        self.max_health = 40"
   ]
  },
  {
   "cell_type": "markdown",
   "id": "a47b7f83",
   "metadata": {},
   "source": [
    "### 3. class의 getter setter\n",
    "- 객체 내부 변수에 접근할 때 특정 로직을 거쳐서 접근하는 방법"
   ]
  },
  {
   "cell_type": "code",
   "execution_count": 43,
   "id": "592b78e3",
   "metadata": {},
   "outputs": [],
   "source": [
    "class User:\n",
    "    def __init__(self, first_name, last_name):\n",
    "        self.first_name = first_name\n",
    "        self.last_name = last_name\n",
    "    def disp(self):\n",
    "        print(self.first_name, self.last_name)"
   ]
  },
  {
   "cell_type": "code",
   "execution_count": 44,
   "id": "a1bbe08c",
   "metadata": {},
   "outputs": [],
   "source": [
    "user1 = User(\"andy\", \"kim\")"
   ]
  },
  {
   "cell_type": "code",
   "execution_count": 45,
   "id": "bc78bd28",
   "metadata": {},
   "outputs": [
    {
     "name": "stdout",
     "output_type": "stream",
     "text": [
      "andy kim\n"
     ]
    }
   ],
   "source": [
    "user1.disp()"
   ]
  },
  {
   "cell_type": "code",
   "execution_count": 47,
   "id": "2e036c80",
   "metadata": {},
   "outputs": [],
   "source": [
    "user1.first_name =\"jhone\""
   ]
  },
  {
   "cell_type": "code",
   "execution_count": 48,
   "id": "756fac91",
   "metadata": {},
   "outputs": [
    {
     "name": "stdout",
     "output_type": "stream",
     "text": [
      "jhone kim\n"
     ]
    }
   ],
   "source": [
    "user1.disp()"
   ]
  },
  {
   "cell_type": "code",
   "execution_count": 49,
   "id": "5bba81f9",
   "metadata": {},
   "outputs": [],
   "source": [
    "user1.first_name = 1"
   ]
  },
  {
   "cell_type": "code",
   "execution_count": 50,
   "id": "b8ec714f",
   "metadata": {},
   "outputs": [
    {
     "name": "stdout",
     "output_type": "stream",
     "text": [
      "1 kim\n"
     ]
    }
   ],
   "source": [
    "user1.disp()"
   ]
  },
  {
   "cell_type": "code",
   "execution_count": 71,
   "id": "16ccbe09",
   "metadata": {},
   "outputs": [],
   "source": [
    "## getter setter 추가\n",
    "\n",
    "class User:\n",
    "    def __init__(self, first_name, last_name):\n",
    "        self.first_name = first_name\n",
    "        self.last_name = last_name\n",
    "    \n",
    "    def setter(self, first_name):\n",
    "        print(\"setter\")\n",
    "        if type(first_name) is str:\n",
    "            ## isinstance(first_name, str)\n",
    "            self.first_name = first_name\n",
    "        else :\n",
    "            print(\"error: not string type\")\n",
    "        \n",
    "    def getter(self):\n",
    "        print(\"getter\")\n",
    "        return self.first_name\n",
    "    \n",
    "    def disp(self):\n",
    "        print(self.first_name, self.last_name)\n",
    "        \n",
    "    name = property(getter, setter)\n",
    "    "
   ]
  },
  {
   "cell_type": "code",
   "execution_count": 72,
   "id": "f400e667",
   "metadata": {},
   "outputs": [],
   "source": [
    "user1 = User(\"andy\", \"kim\")"
   ]
  },
  {
   "cell_type": "code",
   "execution_count": 73,
   "id": "effca7eb",
   "metadata": {},
   "outputs": [
    {
     "name": "stdout",
     "output_type": "stream",
     "text": [
      "getter\n"
     ]
    },
    {
     "data": {
      "text/plain": [
       "'andy'"
      ]
     },
     "execution_count": 73,
     "metadata": {},
     "output_type": "execute_result"
    }
   ],
   "source": [
    "user1.name"
   ]
  },
  {
   "cell_type": "code",
   "execution_count": 74,
   "id": "02a8d40e",
   "metadata": {},
   "outputs": [
    {
     "name": "stdout",
     "output_type": "stream",
     "text": [
      "setter\n",
      "error: not string type\n"
     ]
    }
   ],
   "source": [
    "user1.name = 1"
   ]
  },
  {
   "cell_type": "code",
   "execution_count": 75,
   "id": "396ba775",
   "metadata": {},
   "outputs": [
    {
     "name": "stdout",
     "output_type": "stream",
     "text": [
      "getter\n"
     ]
    },
    {
     "data": {
      "text/plain": [
       "'andy'"
      ]
     },
     "execution_count": 75,
     "metadata": {},
     "output_type": "execute_result"
    }
   ],
   "source": [
    "user1.name"
   ]
  },
  {
   "cell_type": "code",
   "execution_count": 76,
   "id": "b60dc85f",
   "metadata": {},
   "outputs": [
    {
     "name": "stdout",
     "output_type": "stream",
     "text": [
      "setter\n"
     ]
    }
   ],
   "source": [
    "user1.name = \"jhon\""
   ]
  },
  {
   "cell_type": "code",
   "execution_count": 77,
   "id": "339ebe2f",
   "metadata": {},
   "outputs": [
    {
     "name": "stdout",
     "output_type": "stream",
     "text": [
      "getter\n"
     ]
    },
    {
     "data": {
      "text/plain": [
       "'jhon'"
      ]
     },
     "execution_count": 77,
     "metadata": {},
     "output_type": "execute_result"
    }
   ],
   "source": [
    "user1.name"
   ]
  },
  {
   "cell_type": "markdown",
   "id": "05dc5cc8",
   "metadata": {},
   "source": [
    "### 4. non public\n",
    "-- mangling 이라는 방법으로 다이렉트로 객체 변수에 접근하지 못하게 하는 방법"
   ]
  },
  {
   "cell_type": "code",
   "execution_count": 211,
   "id": "c39a9288",
   "metadata": {},
   "outputs": [],
   "source": [
    "class Calculator:\n",
    "    def __init__(self, num1, num2):\n",
    "        self.num1 = num1\n",
    "        self.__num2 = num2 ## mangling\n",
    "\n",
    "        \n",
    "    def plus(self):\n",
    "        return self.num1 + self.__num2\n",
    "    \n",
    "    def getter(self):\n",
    "        return self.__num2\n",
    "    \n",
    "    # num2에 0이 들어가지 않도록함\n",
    "    def setter(self, num2):\n",
    "        if(num2 == 0):\n",
    "            num2 = 1\n",
    "        self.__num2 = num2\n",
    "    \n",
    "    def div(self):\n",
    "        self.__disp()\n",
    "        return self.num1 / self.__num2\n",
    "    \n",
    "    ### mangling function\n",
    "    def __disp(self):\n",
    "        print(\"대상 numbers:: \",self.num1, self.__num2)\n",
    "\n",
    "    \n",
    "    number2 = property(getter, setter)\n"
   ]
  },
  {
   "cell_type": "code",
   "execution_count": 212,
   "id": "6f79e450",
   "metadata": {},
   "outputs": [],
   "source": [
    "cal = Calculator(1,2)"
   ]
  },
  {
   "cell_type": "code",
   "execution_count": 213,
   "id": "af3c7085",
   "metadata": {},
   "outputs": [
    {
     "name": "stdout",
     "output_type": "stream",
     "text": [
      "대상 numbers::  1 2\n"
     ]
    },
    {
     "data": {
      "text/plain": [
       "0.5"
      ]
     },
     "execution_count": 213,
     "metadata": {},
     "output_type": "execute_result"
    }
   ],
   "source": [
    "cal.div()"
   ]
  },
  {
   "cell_type": "code",
   "execution_count": 214,
   "id": "5b5baff0",
   "metadata": {},
   "outputs": [],
   "source": [
    "cal.number2 = 3"
   ]
  },
  {
   "cell_type": "code",
   "execution_count": 215,
   "id": "559537e1",
   "metadata": {},
   "outputs": [],
   "source": [
    "cal.number2 = 3"
   ]
  },
  {
   "cell_type": "code",
   "execution_count": 216,
   "id": "b8cbc674",
   "metadata": {},
   "outputs": [
    {
     "ename": "AttributeError",
     "evalue": "'Calculator' object has no attribute '__num2'",
     "output_type": "error",
     "traceback": [
      "\u001b[1;31m---------------------------------------------------------------------------\u001b[0m",
      "\u001b[1;31mAttributeError\u001b[0m                            Traceback (most recent call last)",
      "\u001b[1;32m~\\AppData\\Local\\Temp/ipykernel_11196/3463339292.py\u001b[0m in \u001b[0;36m<module>\u001b[1;34m\u001b[0m\n\u001b[1;32m----> 1\u001b[1;33m \u001b[0mcal\u001b[0m\u001b[1;33m.\u001b[0m\u001b[0m__num2\u001b[0m\u001b[1;33m\u001b[0m\u001b[1;33m\u001b[0m\u001b[0m\n\u001b[0m",
      "\u001b[1;31mAttributeError\u001b[0m: 'Calculator' object has no attribute '__num2'"
     ]
    }
   ],
   "source": [
    "cal.__num2"
   ]
  },
  {
   "cell_type": "code",
   "execution_count": 217,
   "id": "af09cc63",
   "metadata": {},
   "outputs": [
    {
     "name": "stdout",
     "output_type": "stream",
     "text": [
      "대상 numbers::  1 3\n"
     ]
    },
    {
     "data": {
      "text/plain": [
       "0.3333333333333333"
      ]
     },
     "execution_count": 217,
     "metadata": {},
     "output_type": "execute_result"
    }
   ],
   "source": [
    "cal.div()"
   ]
  },
  {
   "cell_type": "code",
   "execution_count": 218,
   "id": "ac7df215",
   "metadata": {},
   "outputs": [
    {
     "data": {
      "text/plain": [
       "3"
      ]
     },
     "execution_count": 218,
     "metadata": {},
     "output_type": "execute_result"
    }
   ],
   "source": [
    "cal._Calculator__num2"
   ]
  },
  {
   "cell_type": "code",
   "execution_count": 219,
   "id": "513c3f0c",
   "metadata": {},
   "outputs": [
    {
     "data": {
      "text/plain": [
       "3"
      ]
     },
     "execution_count": 219,
     "metadata": {},
     "output_type": "execute_result"
    }
   ],
   "source": [
    "cal.number2"
   ]
  },
  {
   "cell_type": "markdown",
   "id": "7a6c41fa",
   "metadata": {},
   "source": [
    "### 5. is a & has a\n",
    "- 클래스를 설계하는 개념\n",
    "- A is B \n",
    " - A는 B이다 - 상속을 이용해서 클래스를 만드는 방법\n",
    "- A has B\n",
    " - A는 B를 가진다 - A가 B 객체를 가지고 클래스를 만드는 방법"
   ]
  },
  {
   "cell_type": "code",
   "execution_count": 221,
   "id": "32cec037",
   "metadata": {},
   "outputs": [],
   "source": [
    "## 사람 : 이름, 이메일, 정보출력()\n",
    "\n",
    "class Person : \n",
    "    def __init__(self, name, email):\n",
    "        self.name = name\n",
    "        self.email = email\n",
    "    \n",
    "    def __disp(self):\n",
    "        print(self.num1, self.__num2)\n",
    "        \n",
    "class Policeman(Person):\n",
    "    def info(self):\n",
    "        print(self.name, self.email)\n",
    "        \n"
   ]
  },
  {
   "cell_type": "code",
   "execution_count": 225,
   "id": "785d5187",
   "metadata": {},
   "outputs": [
    {
     "name": "stdout",
     "output_type": "stream",
     "text": [
      "andy kim@naver.com\n"
     ]
    }
   ],
   "source": [
    "pman = Policeman(\"andy\", \"kim@naver.com\")\n",
    "\n",
    "pman.info()"
   ]
  },
  {
   "cell_type": "code",
   "execution_count": 227,
   "id": "68b401df",
   "metadata": {},
   "outputs": [],
   "source": [
    "class Name:\n",
    "    def __init__(self, name):\n",
    "        self.name_str = name\n",
    "\n",
    "class Email:\n",
    "    def __init__(self, email):\n",
    "        self.email_str = email"
   ]
  },
  {
   "cell_type": "code",
   "execution_count": 228,
   "id": "ae94fec2",
   "metadata": {},
   "outputs": [],
   "source": [
    "class Persona:\n",
    "    def __init__(self, name_obj, email_obj):\n",
    "        self.name = name_obj\n",
    "        self.email = email_obj\n",
    "    def info(self):\n",
    "        print(name.name_str, email.email_str)"
   ]
  },
  {
   "cell_type": "code",
   "execution_count": 230,
   "id": "2a89ffd8",
   "metadata": {},
   "outputs": [
    {
     "name": "stdout",
     "output_type": "stream",
     "text": [
      "andy kim@naver.com\n"
     ]
    }
   ],
   "source": [
    "name = Name(\"andy\")\n",
    "email = Email(\"kim@naver.com\")\n",
    "p = Persona(name, email)\n",
    "p.info()"
   ]
  },
  {
   "cell_type": "markdown",
   "id": "3cf911f7",
   "metadata": {},
   "source": [
    "### 6. Special(Magic) Method\n",
    "- compare\n",
    "    - `__eq__` :=\n",
    "    - `__re__` :!=\n",
    "    - `__lt__` :<\n",
    "- calculator\n",
    "    - `__add__`: +\n",
    "    - `__sub__`: -\n",
    "- `__repr__` : 변수 입력시 출력\n",
    "- `__str__` : print 출력\n"
   ]
  },
  {
   "cell_type": "code",
   "execution_count": 258,
   "id": "7747ef59",
   "metadata": {},
   "outputs": [],
   "source": [
    "class Text:\n",
    "    def __init__(self, txt):\n",
    "        self.txt = txt"
   ]
  },
  {
   "cell_type": "code",
   "execution_count": 259,
   "id": "658d542c",
   "metadata": {},
   "outputs": [
    {
     "data": {
      "text/plain": [
       "(False, True, False)"
      ]
     },
     "execution_count": 259,
     "metadata": {},
     "output_type": "execute_result"
    }
   ],
   "source": [
    "t1 = Text(\"python\")\n",
    "t2 = Text(\"PYTHON\")\n",
    "t3 = t1\n",
    "t1 == t2, t1 == t3, t2 == t3"
   ]
  },
  {
   "cell_type": "markdown",
   "id": "5ca8594e",
   "metadata": {},
   "source": [
    "### 슈퍼매소드 수정했을경우"
   ]
  },
  {
   "cell_type": "code",
   "execution_count": 260,
   "id": "da12519a",
   "metadata": {},
   "outputs": [],
   "source": [
    "class Text:\n",
    "    def __init__(self, txt):\n",
    "        self.txt = txt\n",
    "    def __eq__(self, target):\n",
    "        return self.txt.lower() == target.txt.lower()\n",
    "    def __repr__(self):\n",
    "        return \"Txt(txt={})\".format(self.txt)\n",
    "    def __str__(self):\n",
    "        return self.txt\n",
    "    "
   ]
  },
  {
   "cell_type": "code",
   "execution_count": 261,
   "id": "f4254e12",
   "metadata": {},
   "outputs": [
    {
     "data": {
      "text/plain": [
       "(True, True, True)"
      ]
     },
     "execution_count": 261,
     "metadata": {},
     "output_type": "execute_result"
    }
   ],
   "source": [
    "t1 = Text(\"python\")\n",
    "t2 = Text(\"PYTHON\")\n",
    "t3 = t1\n",
    "t1 == t2, t1 == t3, t2 == t3"
   ]
  },
  {
   "cell_type": "code",
   "execution_count": 262,
   "id": "5a34f1a5",
   "metadata": {},
   "outputs": [
    {
     "data": {
      "text/plain": [
       "Txt(txt=python)"
      ]
     },
     "execution_count": 262,
     "metadata": {},
     "output_type": "execute_result"
    }
   ],
   "source": [
    "t1"
   ]
  },
  {
   "cell_type": "code",
   "execution_count": 263,
   "id": "b60351d1",
   "metadata": {},
   "outputs": [
    {
     "name": "stdout",
     "output_type": "stream",
     "text": [
      "python\n"
     ]
    }
   ],
   "source": [
    "print(t1)"
   ]
  },
  {
   "cell_type": "code",
   "execution_count": 273,
   "id": "9ff87bef",
   "metadata": {},
   "outputs": [],
   "source": [
    "# Integer 객체 만들기\n",
    "class Integer :\n",
    "    def __init__(self, number):\n",
    "        self.number = number\n",
    "    def __add__(self, obj):\n",
    "        return self.number + obj.number\n",
    "    def __repr__(self):\n",
    "        return str(self.number)\n",
    "    def __str__(self):\n",
    "        return str(self.number)"
   ]
  },
  {
   "cell_type": "code",
   "execution_count": 274,
   "id": "114c9f03",
   "metadata": {},
   "outputs": [],
   "source": [
    "num1 = Integer(1)\n",
    "num2 = Integer(2)"
   ]
  },
  {
   "cell_type": "code",
   "execution_count": 275,
   "id": "14fd823b",
   "metadata": {},
   "outputs": [
    {
     "data": {
      "text/plain": [
       "3"
      ]
     },
     "execution_count": 275,
     "metadata": {},
     "output_type": "execute_result"
    }
   ],
   "source": [
    "num1 + num2\n"
   ]
  },
  {
   "cell_type": "code",
   "execution_count": 276,
   "id": "1838c69b",
   "metadata": {},
   "outputs": [
    {
     "name": "stdout",
     "output_type": "stream",
     "text": [
      "1\n"
     ]
    }
   ],
   "source": [
    "print(num1)"
   ]
  },
  {
   "cell_type": "code",
   "execution_count": 277,
   "id": "a7967aaf",
   "metadata": {},
   "outputs": [
    {
     "data": {
      "text/plain": [
       "1"
      ]
     },
     "execution_count": 277,
     "metadata": {},
     "output_type": "execute_result"
    }
   ],
   "source": [
    "num1"
   ]
  },
  {
   "cell_type": "code",
   "execution_count": 304,
   "id": "fcd35263",
   "metadata": {},
   "outputs": [],
   "source": [
    "### 연습문제 - 계좌\n",
    "class Account:\n",
    "    def __init__(self, asset, interest):\n",
    "        self.asset = asset\n",
    "        self.interest = interest\n",
    "    def draw(self, money):\n",
    "        if(money > self.asset):\n",
    "            print(\"잔액이 부족합니다\")\n",
    "        else:\n",
    "            self.asset -= money\n",
    "            print(\"{cha} 원이 인출되었습니다. 현재 잔액은 {remain} 원 입니다\"\n",
    "                  .format(cha = money, remain = int(self.asset)))\n",
    "    def insert(self, money):\n",
    "        self.asset += money\n",
    "        print(\"{insert} 원이 입금되었습니다. 현재 잔액은 {remain} 원 입니다\"\n",
    "              .format(insert = money, remain = int(self.asset)))\n",
    "    def add_interest(self):\n",
    "        interests = self.asset * self.interest\n",
    "        self.asset += interests\n",
    "        print(\"이번 이자 {insert} 원이 지급되었습니다. 현재 잔액은 {remain} 원 입니다\"\n",
    "              .format(insert = int(interests), remain = int(self.asset)))"
   ]
  },
  {
   "cell_type": "code",
   "execution_count": 305,
   "id": "e92138b3",
   "metadata": {},
   "outputs": [],
   "source": [
    "ac1 = Account(1000, 0.01)"
   ]
  },
  {
   "cell_type": "code",
   "execution_count": 306,
   "id": "86f9f15b",
   "metadata": {},
   "outputs": [
    {
     "name": "stdout",
     "output_type": "stream",
     "text": [
      "이번 이자 10 원이 지급되었습니다. 현재 잔액은 1010 원 입니다\n"
     ]
    }
   ],
   "source": [
    "ac1.add_interest()"
   ]
  },
  {
   "cell_type": "code",
   "execution_count": 307,
   "id": "3d8ba613",
   "metadata": {},
   "outputs": [
    {
     "name": "stdout",
     "output_type": "stream",
     "text": [
      "1000 원이 인출되었습니다. 현재 잔액은 10 원 입니다\n"
     ]
    }
   ],
   "source": [
    "ac1.draw(1000)"
   ]
  },
  {
   "cell_type": "code",
   "execution_count": 308,
   "id": "08e78267",
   "metadata": {},
   "outputs": [
    {
     "name": "stdout",
     "output_type": "stream",
     "text": [
      "잔액이 부족합니다\n"
     ]
    }
   ],
   "source": [
    "ac1.draw(45)"
   ]
  },
  {
   "cell_type": "code",
   "execution_count": null,
   "id": "272160f5",
   "metadata": {},
   "outputs": [],
   "source": []
  }
 ],
 "metadata": {
  "kernelspec": {
   "display_name": "Python 3 (ipykernel)",
   "language": "python",
   "name": "python3"
  },
  "language_info": {
   "codemirror_mode": {
    "name": "ipython",
    "version": 3
   },
   "file_extension": ".py",
   "mimetype": "text/x-python",
   "name": "python",
   "nbconvert_exporter": "python",
   "pygments_lexer": "ipython3",
   "version": "3.9.7"
  }
 },
 "nbformat": 4,
 "nbformat_minor": 5
}
