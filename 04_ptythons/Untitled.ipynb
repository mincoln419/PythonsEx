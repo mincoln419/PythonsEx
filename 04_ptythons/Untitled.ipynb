{
 "cells": [
  {
   "cell_type": "markdown",
   "id": "5b7858cd",
   "metadata": {},
   "source": [
    "### 생성자\n",
    "- 클래스가 객체로 생성될때 실행되는 함수\n",
    "- 변수 추가할때 사용"
   ]
  },
  {
   "cell_type": "code",
   "execution_count": 17,
   "id": "db8492f9",
   "metadata": {},
   "outputs": [],
   "source": [
    "class Calculator:\n",
    "# 생성자함수\n",
    "    def __init__(self, num1, num2 = 10):\n",
    "        self.num1 = num1\n",
    "        self.num2 = num2\n",
    "    def plus(self):\n",
    "        return self.num1 + self.num2\n",
    "    def minus(self):\n",
    "        return self.num1 - self.num2\n",
    "\n"
   ]
  },
  {
   "cell_type": "code",
   "execution_count": 18,
   "id": "167a600a",
   "metadata": {},
   "outputs": [
    {
     "data": {
      "text/plain": [
       "7"
      ]
     },
     "execution_count": 18,
     "metadata": {},
     "output_type": "execute_result"
    }
   ],
   "source": [
    "cal = Calculator(3, 4)\n",
    "cal.plus()\n"
   ]
  },
  {
   "cell_type": "code",
   "execution_count": 19,
   "id": "ddf30f96",
   "metadata": {},
   "outputs": [
    {
     "data": {
      "text/plain": [
       "13"
      ]
     },
     "execution_count": 19,
     "metadata": {},
     "output_type": "execute_result"
    }
   ],
   "source": [
    "cal = Calculator(3)\n",
    "cal.plus()\n"
   ]
  },
  {
   "cell_type": "code",
   "execution_count": 24,
   "id": "3cb10228",
   "metadata": {},
   "outputs": [
    {
     "name": "stdout",
     "output_type": "stream",
     "text": [
      "pythons is good\n"
     ]
    }
   ],
   "source": [
    "# join\n",
    "ls = [\"pythons\", \"is\", \"good\"]\n",
    "print(\" \".join(ls))\n"
   ]
  },
  {
   "cell_type": "code",
   "execution_count": 25,
   "id": "fcde0b8e",
   "metadata": {},
   "outputs": [
    {
     "name": "stdout",
     "output_type": "stream",
     "text": [
      "pythons-is-good\n"
     ]
    }
   ],
   "source": [
    "print(\"-\".join(ls))"
   ]
  },
  {
   "cell_type": "code",
   "execution_count": 29,
   "id": "c2e98c49",
   "metadata": {},
   "outputs": [],
   "source": [
    "## pandas dataframe\n",
    "import pandas as pd\n",
    "df = pd.DataFrame([\n",
    "    {\"name\":\"jin\", \"age\" :\"20\"},\n",
    "    {\"name\":\"andy\", \"age\" :\"24\"}\n",
    "])\n"
   ]
  },
  {
   "cell_type": "code",
   "execution_count": 30,
   "id": "f8295235",
   "metadata": {},
   "outputs": [
    {
     "data": {
      "text/html": [
       "<div>\n",
       "<style scoped>\n",
       "    .dataframe tbody tr th:only-of-type {\n",
       "        vertical-align: middle;\n",
       "    }\n",
       "\n",
       "    .dataframe tbody tr th {\n",
       "        vertical-align: top;\n",
       "    }\n",
       "\n",
       "    .dataframe thead th {\n",
       "        text-align: right;\n",
       "    }\n",
       "</style>\n",
       "<table border=\"1\" class=\"dataframe\">\n",
       "  <thead>\n",
       "    <tr style=\"text-align: right;\">\n",
       "      <th></th>\n",
       "      <th>name</th>\n",
       "      <th>age</th>\n",
       "    </tr>\n",
       "  </thead>\n",
       "  <tbody>\n",
       "    <tr>\n",
       "      <th>0</th>\n",
       "      <td>jin</td>\n",
       "      <td>20</td>\n",
       "    </tr>\n",
       "    <tr>\n",
       "      <th>1</th>\n",
       "      <td>andy</td>\n",
       "      <td>24</td>\n",
       "    </tr>\n",
       "  </tbody>\n",
       "</table>\n",
       "</div>"
      ],
      "text/plain": [
       "   name age\n",
       "0   jin  20\n",
       "1  andy  24"
      ]
     },
     "execution_count": 30,
     "metadata": {},
     "output_type": "execute_result"
    }
   ],
   "source": [
    "df"
   ]
  },
  {
   "cell_type": "code",
   "execution_count": 33,
   "id": "c7e4144a",
   "metadata": {},
   "outputs": [
    {
     "data": {
      "text/plain": [
       "<bound method NDFrame.at_time of    name age\n",
       "0   jin  20\n",
       "1  andy  24>"
      ]
     },
     "execution_count": 33,
     "metadata": {},
     "output_type": "execute_result"
    }
   ],
   "source": [
    "df.at_time"
   ]
  },
  {
   "cell_type": "code",
   "execution_count": 73,
   "id": "dcc2114e",
   "metadata": {},
   "outputs": [],
   "source": [
    "user_datas = [\n",
    "    {\"id\" : \"test\", \"pw\" : \"1234\", \"count\" : 0},\n",
    "    {\"id\" : \"python\", \"pw\" : \"5678\", \"count\" : 0}\n",
    "]"
   ]
  },
  {
   "cell_type": "code",
   "execution_count": 74,
   "id": "e8b574f3",
   "metadata": {},
   "outputs": [],
   "source": [
    "def need_login(func):\n",
    "    def wrapper(*arg, **kwargs):\n",
    "        #아이디 패스워드 확인\n",
    "        id = input(\"아이디를 입력하세요: \")\n",
    "        pw = input(\"패스워드를 입력하세요: \")\n",
    "        flag = False\n",
    "        for data in user_datas :\n",
    "            if data[\"id\"] == id :\n",
    "                flag = True\n",
    "                if data[\"pw\"] == pw :\n",
    "                    data[\"count\"] += 1\n",
    "                    print(func(*arg, **kwargs))\n",
    "                    break;\n",
    "                else : \n",
    "                    print(\"비밀번호가 일치하지 않습니다\")\n",
    "                    \n",
    "        if flag == False:\n",
    "            print(\"존재하지 않는 아이디 입니다\")\n",
    "    return wrapper\n",
    "            \n",
    "@need_login\n",
    "def plus(num1, num2):\n",
    "    return num1 + num2"
   ]
  },
  {
   "cell_type": "code",
   "execution_count": 79,
   "id": "6a2bacc3",
   "metadata": {},
   "outputs": [
    {
     "name": "stdout",
     "output_type": "stream",
     "text": [
      "아이디를 입력하세요: python\n",
      "패스워드를 입력하세요: 5678\n",
      "8\n"
     ]
    }
   ],
   "source": [
    "plus(3, 5)"
   ]
  },
  {
   "cell_type": "code",
   "execution_count": 80,
   "id": "f0ad3df5",
   "metadata": {},
   "outputs": [
    {
     "data": {
      "text/plain": [
       "[{'id': 'test', 'pw': '1234', 'count': 2},\n",
       " {'id': 'python', 'pw': '5678', 'count': 1}]"
      ]
     },
     "execution_count": 80,
     "metadata": {},
     "output_type": "execute_result"
    }
   ],
   "source": [
    "user_datas"
   ]
  },
  {
   "cell_type": "code",
   "execution_count": 190,
   "id": "95928f46",
   "metadata": {},
   "outputs": [],
   "source": [
    "import random\n",
    "# 스타크래프트 마린\n",
    "class Marin :\n",
    "    def __init__(self, hp = 40, ap = 5, name = \"marin\" + str(random.randint(1, 1000))) :\n",
    "        self.hp = hp\n",
    "        self.ap = ap\n",
    "        self.name = name\n",
    "    def attack(self, target):\n",
    "        if(target.hp == 0):\n",
    "            print(\"{name} 이(가) 이미사망하였습니다\".format(name = target.name))\n",
    "        else:\n",
    "            minus = 0\n",
    "            if target.hp >= self.ap :\n",
    "                minus = self.ap\n",
    "            else :\n",
    "                minus = target.hp\n",
    "            target.hp -= minus\n",
    "            print(\"체력 {po} 이 깎였습니다. 현재 체력은 {now} 입니다\".format(po = minus, now = target.hp))\n",
    "            if target.hp == 0 :\n",
    "                print(\"{name} 이(가) 사망하였습니다\".format(name = target.name))\n",
    "        \n",
    "\n",
    "        \n",
    "        "
   ]
  },
  {
   "cell_type": "code",
   "execution_count": 192,
   "id": "5a291dfd",
   "metadata": {},
   "outputs": [],
   "source": [
    "marin1 = Marin(40, 5)\n",
    "marin2 = Marin(40, 5)\n",
    "\n",
    "\n"
   ]
  },
  {
   "cell_type": "code",
   "execution_count": 201,
   "id": "ab6e48ea",
   "metadata": {},
   "outputs": [
    {
     "name": "stdout",
     "output_type": "stream",
     "text": [
      "marin776 이(가) 이미사망하였습니다\n"
     ]
    }
   ],
   "source": [
    "marin1.attack(marin2)\n"
   ]
  },
  {
   "cell_type": "code",
   "execution_count": 164,
   "id": "cf648cbc",
   "metadata": {},
   "outputs": [
    {
     "name": "stdout",
     "output_type": "stream",
     "text": [
      "40 35\n"
     ]
    }
   ],
   "source": [
    "print(marin1.hp, marin2.hp)"
   ]
  },
  {
   "cell_type": "code",
   "execution_count": 206,
   "id": "476bc795",
   "metadata": {},
   "outputs": [],
   "source": [
    " # 스타크래프트 매딕\n",
    "class Medic :\n",
    "    def __init__(self, hp = 40, heal = 5):\n",
    "        self.hp = hp\n",
    "        self.heal = heal\n",
    "    def healing(self, target):\n",
    "        target.hp += self.heal\n"
   ]
  },
  {
   "cell_type": "code",
   "execution_count": 207,
   "id": "7dfadc48",
   "metadata": {},
   "outputs": [],
   "source": [
    "medic1 = Medic()"
   ]
  },
  {
   "cell_type": "code",
   "execution_count": 208,
   "id": "d18960e5",
   "metadata": {},
   "outputs": [],
   "source": [
    "medic1.healing(marin2)"
   ]
  },
  {
   "cell_type": "code",
   "execution_count": 209,
   "id": "54cf0d3e",
   "metadata": {},
   "outputs": [
    {
     "name": "stdout",
     "output_type": "stream",
     "text": [
      "5\n"
     ]
    }
   ],
   "source": [
    "print(marin2.hp)"
   ]
  },
  {
   "cell_type": "markdown",
   "id": "d1f9f292",
   "metadata": {},
   "source": [
    "### 1. 상속\n",
    "- 클래스의 기능을 가져다가 기능을 수정하거나 추가할때 사용하는 방법"
   ]
  },
  {
   "cell_type": "code",
   "execution_count": 214,
   "id": "88daff6b",
   "metadata": {},
   "outputs": [],
   "source": [
    "class Calculator:\n",
    "    def __init__(self, num1, num2):\n",
    "        self.num1 = num1\n",
    "        self.num2 = num2\n",
    "        \n",
    "    def plus(self):\n",
    "        return self.num1 + self.num2\n",
    "\n",
    "    "
   ]
  },
  {
   "cell_type": "code",
   "execution_count": 216,
   "id": "3160f483",
   "metadata": {},
   "outputs": [
    {
     "data": {
      "text/plain": [
       "3"
      ]
     },
     "execution_count": 216,
     "metadata": {},
     "output_type": "execute_result"
    }
   ],
   "source": [
    "cal = Calculator(1, 2)\n",
    "cal.plus()"
   ]
  },
  {
   "cell_type": "code",
   "execution_count": 221,
   "id": "7ec29354",
   "metadata": {},
   "outputs": [],
   "source": [
    "## 상속 : class(parent class)\n",
    "class Calculator2(Calculator):\n",
    "    def __init__(self, num1, num2):\n",
    "        self.num1 = num1\n",
    "        self.num2 = num2\n",
    "    \n",
    "    ###매서드오버라이드 - plus\n",
    "    def plus(self):\n",
    "        return self.num1**2 + self.num2**2\n",
    "    \n",
    "    def minus(self):\n",
    "        return self.num1 - self.num2\n",
    "\n",
    "    "
   ]
  },
  {
   "cell_type": "code",
   "execution_count": 222,
   "id": "8cad2592",
   "metadata": {},
   "outputs": [
    {
     "data": {
      "text/plain": [
       "(13, -1)"
      ]
     },
     "execution_count": 222,
     "metadata": {},
     "output_type": "execute_result"
    }
   ],
   "source": [
    "cal2 = Calculator2(2, 3)\n",
    "cal2.plus(), cal2.minus()"
   ]
  },
  {
   "cell_type": "code",
   "execution_count": 223,
   "id": "3c141efe",
   "metadata": {},
   "outputs": [],
   "source": [
    "# 연습문제 : 아이폰 만들기\n",
    "# 1 - calling\n",
    "# 2 - send msg\n",
    "# 3 - internet\n",
    "\n",
    "class iphone1:\n",
    "    def calling(self):\n",
    "        print(\"calling\")\n",
    "        \n",
    "class iphone2(iphone1):\n",
    "    def send_msg(self):\n",
    "        print(\"send_msg\")\n",
    "\n",
    "class iphone3(iphone2):\n",
    "    def internet(slef):\n",
    "        print(\"internet\")\n",
    "        "
   ]
  },
  {
   "cell_type": "code",
   "execution_count": 224,
   "id": "328bfa68",
   "metadata": {},
   "outputs": [
    {
     "name": "stdout",
     "output_type": "stream",
     "text": [
      "calling\n"
     ]
    }
   ],
   "source": [
    "i3 = iphone3()\n",
    "i3.calling()"
   ]
  },
  {
   "cell_type": "code",
   "execution_count": 228,
   "id": "9aac2933",
   "metadata": {},
   "outputs": [],
   "source": [
    "class Galaxy:\n",
    "    def show_img(self):\n",
    "        print(\"show_img\")"
   ]
  },
  {
   "cell_type": "code",
   "execution_count": 229,
   "id": "467b0b5a",
   "metadata": {},
   "outputs": [],
   "source": [
    "class DssPhone(iphone3, Galaxy): ## 다중상속 가능함\n",
    "    def camera(self):\n",
    "        print(\"camera\")"
   ]
  },
  {
   "cell_type": "code",
   "execution_count": 232,
   "id": "020f02fa",
   "metadata": {},
   "outputs": [
    {
     "name": "stdout",
     "output_type": "stream",
     "text": [
      "calling\n",
      "send_msg\n",
      "camera\n"
     ]
    },
    {
     "data": {
      "text/plain": [
       "(None, None, None)"
      ]
     },
     "execution_count": 232,
     "metadata": {},
     "output_type": "execute_result"
    }
   ],
   "source": [
    "dss = DssPhone()\n",
    "dss.calling(), dss.send_msg(), dss.camera()"
   ]
  },
  {
   "cell_type": "code",
   "execution_count": null,
   "id": "20baed9b",
   "metadata": {},
   "outputs": [],
   "source": []
  }
 ],
 "metadata": {
  "kernelspec": {
   "display_name": "Python 3 (ipykernel)",
   "language": "python",
   "name": "python3"
  },
  "language_info": {
   "codemirror_mode": {
    "name": "ipython",
    "version": 3
   },
   "file_extension": ".py",
   "mimetype": "text/x-python",
   "name": "python",
   "nbconvert_exporter": "python",
   "pygments_lexer": "ipython3",
   "version": "3.9.7"
  }
 },
 "nbformat": 4,
 "nbformat_minor": 5
}
