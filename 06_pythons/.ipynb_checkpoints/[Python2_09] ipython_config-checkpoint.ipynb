{
 "cells": [
  {
   "cell_type": "markdown",
   "metadata": {},
   "source": [
    "### ipython 설정\n",
    "- startup 파일 설정\n",
    "    - 주피터 노트북 실행시 미리 실행되는 코드 설정\n",
    "    - 설정 방법\n",
    "        - 프로필 파일 생성\n",
    "            - `$ ipython profile create`\n",
    "        - startup 파일 수정\n",
    "            - `$ cd ~/.ipython/profile_default/startup `\n",
    "            - `$ vi 00-first.py`\n",
    "            \n",
    "```\n",
    "# basic\n",
    "import time\n",
    "import random\n",
    "\n",
    "# data analytics\n",
    "import numpy as np\n",
    "import pandas as pd\n",
    "\n",
    "# web crawling\n",
    "import requests\n",
    "from bs4 import BeautifulSoup\n",
    "\n",
    "# visulazation\n",
    "import matplotlib as mpl\n",
    "import matplotlib.pyplot as plt\n",
    "import seaborn as sns\n",
    "\n",
    "sns.set()\n",
    "```\n",
    "\n",
    "- inline backend config\n",
    "    - 매직 커멘드 설정 없이 바로 그래프를 그릴수 있도록 설정\n",
    "    - `$ vi ~/.ipython/profile_default/ipython_kernel_config.py`\n",
    "\n",
    "```\n",
    "c.IPKernelApp.matplotlib = 'inline'\n",
    "c.InlineBackend.figure_format = 'retina'\n",
    "```"
   ]
  },
  {
   "cell_type": "markdown",
   "metadata": {},
   "source": [
    "### autopep8 기능 추가\n",
    "- nbextentions config 설치\n",
    "    - `$ conda install -c conda-forge jupyter_contrib_nbextensions`\n",
    "    - 주피터 노트북 서버 재시작\n",
    "- autopep8 패키지 설치\n",
    "    - 아래의 명령중 한가지만 선택해서 설치\n",
    "    - `$ pip install autopep8`, `$ conda install -c conda-forge autopep8`\n",
    "- Edit - nbextentions config 메뉴로 들어가서 autopep8 체크\n",
    "- 단일셀 : ctrl + l\n",
    "- 모든셀 : ctrl + shift + l"
   ]
  },
  {
   "cell_type": "markdown",
   "metadata": {},
   "source": [
    "### 주피터 노트북 글꼴 바꾸기\n",
    "- D2Coding 글꼴 다운로드\n",
    "    - https://github.com/naver/d2codingfont/releases/tag/VER1.3.2\n",
    "    - D2CodingAll/D2Coding-Ver1.3.2-20180524-all.ttc\n",
    "    - D2Coding.ttc 로 파일명 변경\n",
    "- custom 디렉토리 생성\n",
    "    - `mkdir -p ~/.jupyter/custom`\n",
    "- `~/.jupyter/custom` 디렉토리로 D2Coding.ttc 이동\n",
    "- `custom.css` 파일 작성\n",
    "    - vi custom.css\n",
    "    \n",
    "```\n",
    "@font-face {\n",
    "  font-family: d2coding;\n",
    "  src: url(./D2Coding.ttc);\n",
    "}\n",
    "body, code, kbd, pre, samp{\n",
    "  font-family: d2coding !important;\n",
    "}\n",
    "```"
   ]
  }
 ],
 "metadata": {
  "kernelspec": {
   "display_name": "Python 3 (ipykernel)",
   "language": "python",
   "name": "python3"
  },
  "language_info": {
   "codemirror_mode": {
    "name": "ipython",
    "version": 3
   },
   "file_extension": ".py",
   "mimetype": "text/x-python",
   "name": "python",
   "nbconvert_exporter": "python",
   "pygments_lexer": "ipython3",
   "version": "3.9.7"
  },
  "license": "Copyright 2019. Doo Jin Park. All rights reserved."
 },
 "nbformat": 4,
 "nbformat_minor": 2
}
