{
 "cells": [
  {
   "cell_type": "markdown",
   "metadata": {
    "slideshow": {
     "slide_type": "slide"
    }
   },
   "source": [
    "# 상관계수 ( Correlation Coefficient )"
   ]
  },
  {
   "cell_type": "markdown",
   "metadata": {
    "slideshow": {
     "slide_type": "slide"
    }
   },
   "source": [
    "### Index\n",
    "\n",
    "1. 분산\n",
    "1. 공분산\n",
    "1. 상관계수\n",
    "1. 결정계수\n",
    "1. 프리미어리그 데이터 상관계수 분석"
   ]
  },
  {
   "cell_type": "code",
   "execution_count": 6,
   "metadata": {},
   "outputs": [],
   "source": [
    "import numpy as np"
   ]
  },
  {
   "cell_type": "markdown",
   "metadata": {
    "slideshow": {
     "slide_type": "slide"
    }
   },
   "source": [
    "샘플 데이터 생성"
   ]
  },
  {
   "cell_type": "code",
   "execution_count": 7,
   "metadata": {},
   "outputs": [],
   "source": [
    "data1 = np.array([80, 85, 100, 90, 95])\n",
    "data2 = np.array([70, 80, 100, 95, 95])"
   ]
  },
  {
   "cell_type": "markdown",
   "metadata": {
    "slideshow": {
     "slide_type": "slide"
    }
   },
   "source": [
    "### 2. 분산(variance)\n",
    "- 1개의 이산정도를 나타냄\n",
    "- 편차제곱의 평균"
   ]
  },
  {
   "cell_type": "markdown",
   "metadata": {},
   "source": [
    "$ variance = \\frac{\\sum_{i=1}^n{(x_i-\\bar{x})^2}}{n}, (\\bar{x}:평균) $"
   ]
  },
  {
   "cell_type": "code",
   "execution_count": 8,
   "metadata": {},
   "outputs": [],
   "source": [
    "# variance code\n",
    "def variance(data):\n",
    "    \n",
    "    avg = np.average(data)\n",
    "    var = 0\n",
    "    \n",
    "    for num in data:\n",
    "        var += (num - avg) ** 2\n",
    "        \n",
    "    return var / len(data)"
   ]
  },
  {
   "cell_type": "code",
   "execution_count": 9,
   "metadata": {},
   "outputs": [
    {
     "data": {
      "text/plain": [
       "(50.0, 126.0, 7.0710678118654755, 11.224972160321824)"
      ]
     },
     "execution_count": 9,
     "metadata": {},
     "output_type": "execute_result"
    }
   ],
   "source": [
    "variance(data1), variance(data2), variance(data1) ** 0.5, variance(data2) ** 0.5"
   ]
  },
  {
   "cell_type": "code",
   "execution_count": 10,
   "metadata": {},
   "outputs": [
    {
     "data": {
      "text/plain": [
       "(50.0, 126.0, 7.0710678118654755, 11.224972160321824)"
      ]
     },
     "execution_count": 10,
     "metadata": {},
     "output_type": "execute_result"
    }
   ],
   "source": [
    "np.var(data1), np.var(data2), np.std(data1), np.std(data2)"
   ]
  },
  {
   "cell_type": "markdown",
   "metadata": {
    "slideshow": {
     "slide_type": "slide"
    }
   },
   "source": [
    "일반 함수와 numpy 함수의 퍼포먼스 비교"
   ]
  },
  {
   "cell_type": "code",
   "execution_count": 22,
   "metadata": {},
   "outputs": [],
   "source": [
    "p_data1 = np.random.randint(60, 100, int(1E5))\n",
    "p_data2 = np.random.randint(60, 100, int(1E5))"
   ]
  },
  {
   "cell_type": "code",
   "execution_count": 23,
   "metadata": {},
   "outputs": [],
   "source": [
    "# 일반함수"
   ]
  },
  {
   "cell_type": "code",
   "execution_count": 24,
   "metadata": {},
   "outputs": [
    {
     "name": "stdout",
     "output_type": "stream",
     "text": [
      "Wall time: 575 ms\n"
     ]
    },
    {
     "data": {
      "text/plain": [
       "(133.68447646360104, 133.36510375910493)"
      ]
     },
     "execution_count": 24,
     "metadata": {},
     "output_type": "execute_result"
    }
   ],
   "source": [
    "%%time\n",
    "variance(p_data1), variance(p_data2)"
   ]
  },
  {
   "cell_type": "code",
   "execution_count": 20,
   "metadata": {},
   "outputs": [],
   "source": [
    "# numpy"
   ]
  },
  {
   "cell_type": "code",
   "execution_count": 25,
   "metadata": {},
   "outputs": [
    {
     "name": "stdout",
     "output_type": "stream",
     "text": [
      "Wall time: 2 ms\n"
     ]
    },
    {
     "data": {
      "text/plain": [
       "(133.68447646360002, 133.36510375909998)"
      ]
     },
     "execution_count": 25,
     "metadata": {},
     "output_type": "execute_result"
    }
   ],
   "source": [
    "%%time\n",
    "np.var(p_data1), np.var(p_data2)"
   ]
  },
  {
   "cell_type": "markdown",
   "metadata": {
    "slideshow": {
     "slide_type": "slide"
    }
   },
   "source": [
    "### 3. 공분산(covariance)\n",
    "- 2개의 확률변수의 상관정도를 나타냄\n",
    "- 평균 편차곱\n",
    "- 방향성은 보여줄수 있으나 강도를 나타내는데 한계가 있다\n",
    "    - 표본데이터의 크기에 따라서 값의 차이가 큰 단점이 있다"
   ]
  },
  {
   "cell_type": "markdown",
   "metadata": {},
   "source": [
    "$ covariance = \\frac{\\sum_{i=1}^{n}{(x_i-\\bar{x})(y_i-\\bar{y})}}{n}, (\\bar{x}:x의 평균, \\bar{y}:y의 평균) $"
   ]
  },
  {
   "cell_type": "code",
   "execution_count": 26,
   "metadata": {
    "slideshow": {
     "slide_type": "slide"
    }
   },
   "outputs": [],
   "source": [
    "# covariance function"
   ]
  },
  {
   "cell_type": "code",
   "execution_count": 27,
   "metadata": {},
   "outputs": [
    {
     "data": {
      "text/plain": [
       "93.75"
      ]
     },
     "execution_count": 27,
     "metadata": {},
     "output_type": "execute_result"
    }
   ],
   "source": [
    "data1 = np.array([80, 85, 100, 90, 95])\n",
    "data2 = np.array([70, 80, 100, 95, 95])\n",
    "np.cov(data1, data2)[0, 1]"
   ]
  },
  {
   "cell_type": "code",
   "execution_count": 28,
   "metadata": {},
   "outputs": [
    {
     "data": {
      "text/plain": [
       "-87.5"
      ]
     },
     "execution_count": 28,
     "metadata": {},
     "output_type": "execute_result"
    }
   ],
   "source": [
    "data3 = np.array([80, 85, 100, 90, 95])\n",
    "data4 = np.array([100, 90, 70, 90, 80])\n",
    "np.cov(data3, data4)[0, 1]"
   ]
  },
  {
   "cell_type": "code",
   "execution_count": 29,
   "metadata": {},
   "outputs": [
    {
     "data": {
      "text/plain": [
       "-8750.0"
      ]
     },
     "execution_count": 29,
     "metadata": {},
     "output_type": "execute_result"
    }
   ],
   "source": [
    "data5 = np.array([800, 850, 1000, 900, 950])\n",
    "data6 = np.array([1000, 900, 700, 900, 800])\n",
    "np.cov(data5, data6)[0, 1]"
   ]
  },
  {
   "cell_type": "markdown",
   "metadata": {
    "slideshow": {
     "slide_type": "slide"
    }
   },
   "source": [
    "### 4. 상관계수(correlation coefficient)\n",
    "- 공분산의 한계를 극복하기 위해서 만들어짐\n",
    "- -1 ~ 1까지의 수를 가지며 0과 가까울수록 상관도가 적음을 의미\n",
    "- x의 분산과 y의 분산을 곱한 결과의 제곱근을 나눠주면 x나 y의 변화량이 클수록 0에 가까워짐\n",
    "- https://docs.scipy.org/doc/numpy-1.13.0/reference/generated/numpy.corrcoef.html"
   ]
  },
  {
   "cell_type": "markdown",
   "metadata": {},
   "source": [
    "$ correlation-coefficient = \\frac{공분산}{\\sqrt{{x분산} \\cdot {y분산}}} $"
   ]
  },
  {
   "cell_type": "markdown",
   "metadata": {},
   "source": [
    "최종 상관계수"
   ]
  },
  {
   "cell_type": "markdown",
   "metadata": {},
   "source": [
    "$ r = \\frac{\\sum(x-\\bar{x})(y-\\bar{y})}{\\sqrt{{\\sum(x-\\bar{x})^2}\\cdot{\\sum(y-\\bar{y})^2}}} $"
   ]
  },
  {
   "cell_type": "code",
   "execution_count": 32,
   "metadata": {
    "slideshow": {
     "slide_type": "slide"
    }
   },
   "outputs": [
    {
     "data": {
      "text/plain": [
       "(0.9449111825230682, -0.970725343394151, -0.970725343394151)"
      ]
     },
     "execution_count": 32,
     "metadata": {},
     "output_type": "execute_result"
    }
   ],
   "source": [
    "# correlation coefficient function\n",
    "np.corrcoef(data1, data2)[0,1],\\\n",
    "np.corrcoef(data3, data4)[0,1],\\\n",
    "np.corrcoef(data5, data6)[0,1]"
   ]
  },
  {
   "cell_type": "markdown",
   "metadata": {
    "slideshow": {
     "slide_type": "slide"
    }
   },
   "source": [
    "### 5. 결정계수(cofficient of determination: R-squared)\n",
    "- x로부터 y를 예측할수 있는 정도\n",
    "- 상관계수의 제곱 (상관계수를 양수화)\n",
    "- 수치가 클수록 회기분석을 통해 예측할수 있는 수치의 정도가 더 정확"
   ]
  },
  {
   "cell_type": "code",
   "execution_count": 34,
   "metadata": {},
   "outputs": [
    {
     "data": {
      "text/plain": [
       "(0.892857142857143, 0.9423076923076923)"
      ]
     },
     "execution_count": 34,
     "metadata": {},
     "output_type": "execute_result"
    }
   ],
   "source": [
    "np.corrcoef(data1, data2)[0,1] ** 2,\\\n",
    "np.corrcoef(data1, data4)[0,1] ** 2"
   ]
  },
  {
   "cell_type": "markdown",
   "metadata": {
    "slideshow": {
     "slide_type": "slide"
    }
   },
   "source": [
    "### 6. 프리미어리그 데이터 상관계수 분석\n",
    "- 2016년 프리미어리그 성적에서 득점과 실점 데이터중에 승점에 영향을 더 많이 준 데이터는?"
   ]
  },
  {
   "cell_type": "code",
   "execution_count": 31,
   "metadata": {},
   "outputs": [],
   "source": [
    "import pandas as pd"
   ]
  },
  {
   "cell_type": "code",
   "execution_count": 32,
   "metadata": {},
   "outputs": [
    {
     "name": "stdout",
     "output_type": "stream",
     "text": [
      "2014_p.csv\n",
      "2014_s.csv\n",
      "premierleague.csv\n",
      "train.csv\n"
     ]
    }
   ],
   "source": [
    "!ls datas"
   ]
  },
  {
   "cell_type": "code",
   "execution_count": 33,
   "metadata": {},
   "outputs": [
    {
     "data": {
      "text/html": [
       "<div>\n",
       "<style scoped>\n",
       "    .dataframe tbody tr th:only-of-type {\n",
       "        vertical-align: middle;\n",
       "    }\n",
       "\n",
       "    .dataframe tbody tr th {\n",
       "        vertical-align: top;\n",
       "    }\n",
       "\n",
       "    .dataframe thead th {\n",
       "        text-align: right;\n",
       "    }\n",
       "</style>\n",
       "<table border=\"1\" class=\"dataframe\">\n",
       "  <thead>\n",
       "    <tr style=\"text-align: right;\">\n",
       "      <th></th>\n",
       "      <th>name</th>\n",
       "      <th>gf</th>\n",
       "      <th>ga</th>\n",
       "      <th>points</th>\n",
       "    </tr>\n",
       "  </thead>\n",
       "  <tbody>\n",
       "    <tr>\n",
       "      <th>15</th>\n",
       "      <td>Huddersfield Town</td>\n",
       "      <td>28</td>\n",
       "      <td>58</td>\n",
       "      <td>37</td>\n",
       "    </tr>\n",
       "    <tr>\n",
       "      <th>16</th>\n",
       "      <td>Southampton</td>\n",
       "      <td>37</td>\n",
       "      <td>56</td>\n",
       "      <td>36</td>\n",
       "    </tr>\n",
       "    <tr>\n",
       "      <th>17</th>\n",
       "      <td>Swansea City</td>\n",
       "      <td>28</td>\n",
       "      <td>56</td>\n",
       "      <td>33</td>\n",
       "    </tr>\n",
       "    <tr>\n",
       "      <th>18</th>\n",
       "      <td>Stoke City</td>\n",
       "      <td>35</td>\n",
       "      <td>68</td>\n",
       "      <td>33</td>\n",
       "    </tr>\n",
       "    <tr>\n",
       "      <th>19</th>\n",
       "      <td>West Bromwich Albion</td>\n",
       "      <td>31</td>\n",
       "      <td>56</td>\n",
       "      <td>31</td>\n",
       "    </tr>\n",
       "  </tbody>\n",
       "</table>\n",
       "</div>"
      ],
      "text/plain": [
       "                    name  gf  ga  points\n",
       "15     Huddersfield Town  28  58      37\n",
       "16           Southampton  37  56      36\n",
       "17          Swansea City  28  56      33\n",
       "18            Stoke City  35  68      33\n",
       "19  West Bromwich Albion  31  56      31"
      ]
     },
     "execution_count": 33,
     "metadata": {},
     "output_type": "execute_result"
    }
   ],
   "source": [
    "df = pd.read_csv(\"datas/premierleague.csv\")\n",
    "df.tail()"
   ]
  },
  {
   "cell_type": "code",
   "execution_count": 34,
   "metadata": {},
   "outputs": [
    {
     "data": {
      "text/plain": [
       "array([106,  68,  74,  84,  62,  74,  36,  44,  56,  39,  45,  45,  48,\n",
       "        44,  34,  28,  37,  28,  35,  31], dtype=int64)"
      ]
     },
     "execution_count": 34,
     "metadata": {},
     "output_type": "execute_result"
    }
   ],
   "source": [
    "# 득점\n",
    "gf = np.array(df[\"gf\"])\n",
    "gf"
   ]
  },
  {
   "cell_type": "code",
   "execution_count": 35,
   "metadata": {},
   "outputs": [
    {
     "data": {
      "text/plain": [
       "array([27, 28, 36, 38, 38, 51, 39, 58, 60, 47, 55, 61, 68, 64, 54, 58, 56,\n",
       "       56, 68, 56], dtype=int64)"
      ]
     },
     "execution_count": 35,
     "metadata": {},
     "output_type": "execute_result"
    }
   ],
   "source": [
    "# 실점\n",
    "ga = np.array(df[\"ga\"])\n",
    "ga"
   ]
  },
  {
   "cell_type": "code",
   "execution_count": 36,
   "metadata": {},
   "outputs": [
    {
     "data": {
      "text/plain": [
       "array([100,  81,  77,  75,  70,  63,  54,  49,  47,  44,  44,  44,  42,\n",
       "        41,  40,  37,  36,  33,  33,  31], dtype=int64)"
      ]
     },
     "execution_count": 36,
     "metadata": {},
     "output_type": "execute_result"
    }
   ],
   "source": [
    "# 승점\n",
    "points = np.array(df[\"points\"])\n",
    "points"
   ]
  },
  {
   "cell_type": "code",
   "execution_count": 37,
   "metadata": {},
   "outputs": [
    {
     "data": {
      "text/plain": [
       "(0.8683266496886471, 0.757933920368845)"
      ]
     },
     "execution_count": 37,
     "metadata": {},
     "output_type": "execute_result"
    }
   ],
   "source": [
    "data1, data2 = np.corrcoef(gf, points)[0, 1] ** 2, np.corrcoef(ga, points)[0, 1] ** 2\n",
    "data1, data2"
   ]
  },
  {
   "cell_type": "code",
   "execution_count": 38,
   "metadata": {},
   "outputs": [
    {
     "data": {
      "text/plain": [
       "(0.87, 0.76)"
      ]
     },
     "execution_count": 38,
     "metadata": {},
     "output_type": "execute_result"
    }
   ],
   "source": [
    "round(data1, 2), round(data2, 2)"
   ]
  },
  {
   "cell_type": "code",
   "execution_count": 40,
   "metadata": {},
   "outputs": [
    {
     "data": {
      "text/plain": [
       "array([[116, 111, 105, 105, 106, 128, 119, 127],\n",
       "       [118, 123, 103, 126, 117, 120, 100, 110],\n",
       "       [114, 115, 118, 112, 106, 107, 108, 104],\n",
       "       [113, 101, 115, 121, 125, 125, 114, 126],\n",
       "       [117, 116, 128, 105, 103, 122, 107, 104],\n",
       "       [127, 111, 112, 111, 109, 104, 115, 108],\n",
       "       [129, 102, 109, 100, 119, 115, 128, 115],\n",
       "       [110, 103, 102, 107, 110, 117, 107, 122]])"
      ]
     },
     "execution_count": 40,
     "metadata": {},
     "output_type": "execute_result"
    }
   ],
   "source": [
    "### 100 ~ 130 랜덤수 8*8 행렬을 만들고\n",
    "# 3의 배수는 fiz, 5의 배수는 buz, 3과 5의 배수는 fbz 문자로 변환\n",
    "\n",
    "#랜덤한 행렬데이터\n",
    "oct1 = np.random.randint(100, 130, (8, 8))\n",
    "\n",
    "# 데이터 타입이 정수 -> 문자열\n",
    "oct1\n",
    "\n"
   ]
  },
  {
   "cell_type": "code",
   "execution_count": 41,
   "metadata": {},
   "outputs": [
    {
     "data": {
      "text/plain": [
       "array([['116', '111', '105', '105', '106', '128', '119', '127'],\n",
       "       ['118', '123', '103', '126', '117', '120', '100', '110'],\n",
       "       ['114', '115', '118', '112', '106', '107', '108', '104'],\n",
       "       ['113', '101', '115', '121', '125', '125', '114', '126'],\n",
       "       ['117', '116', '128', '105', '103', '122', '107', '104'],\n",
       "       ['127', '111', '112', '111', '109', '104', '115', '108'],\n",
       "       ['129', '102', '109', '100', '119', '115', '128', '115'],\n",
       "       ['110', '103', '102', '107', '110', '117', '107', '122']],\n",
       "      dtype='<U11')"
      ]
     },
     "execution_count": 41,
     "metadata": {},
     "output_type": "execute_result"
    }
   ],
   "source": [
    "stroct1 = oct1.astype(str)"
   ]
  },
  {
   "cell_type": "code",
   "execution_count": 42,
   "metadata": {},
   "outputs": [],
   "source": [
    "# 3의 배수, 5의 배수, 15의 배수 위치 값에 대한 T, F 행렬 생성\n",
    "idx_3 = oct1 % 3 == 0\n",
    "idx_5 = oct1 % 5 == 0\n",
    "idx_15 = oct1 % 15 == 0"
   ]
  },
  {
   "cell_type": "code",
   "execution_count": 46,
   "metadata": {},
   "outputs": [],
   "source": [
    "# 데이터 타입을 str으로 변환\n",
    "stroct1 = oct1.astype(str)"
   ]
  },
  {
   "cell_type": "code",
   "execution_count": 49,
   "metadata": {},
   "outputs": [],
   "source": [
    "# T,F 매트릴스를 이용해 조건 데이터로 변경\n",
    "stroct1[idx_3] = \"fiz\"\n",
    "stroct1[idx_5] = \"buz\"\n",
    "stroct1[idx_15] = \"fbz\"\n"
   ]
  },
  {
   "cell_type": "code",
   "execution_count": 50,
   "metadata": {},
   "outputs": [
    {
     "data": {
      "text/plain": [
       "array([['116', 'fiz', 'fbz', 'fbz', '106', '128', '119', '127'],\n",
       "       ['118', 'fiz', '103', 'fiz', 'fiz', 'fbz', 'buz', 'buz'],\n",
       "       ['fiz', 'buz', '118', '112', '106', '107', 'fiz', '104'],\n",
       "       ['113', '101', 'buz', '121', 'buz', 'buz', 'fiz', 'fiz'],\n",
       "       ['fiz', '116', '128', 'fbz', '103', '122', '107', '104'],\n",
       "       ['127', 'fiz', '112', 'fiz', '109', '104', 'buz', 'fiz'],\n",
       "       ['fiz', 'fiz', '109', 'buz', '119', 'buz', '128', 'buz'],\n",
       "       ['buz', '103', 'fiz', '107', 'buz', 'fiz', '107', '122']],\n",
       "      dtype='<U11')"
      ]
     },
     "execution_count": 50,
     "metadata": {},
     "output_type": "execute_result"
    }
   ],
   "source": [
    "stroct1"
   ]
  },
  {
   "cell_type": "markdown",
   "metadata": {},
   "source": [
    "### quiz\n",
    "- 1 ~ 20 랜덤수 5*5 행렬\n",
    "- 최대값 max 최소값 min 문자\n",
    "- 최대값, 최소값 함수\n"
   ]
  },
  {
   "cell_type": "code",
   "execution_count": 66,
   "metadata": {},
   "outputs": [],
   "source": [
    "# 행렬만들기\n",
    "penta1 = np.random.randint(1, 20, (5, 5))"
   ]
  },
  {
   "cell_type": "code",
   "execution_count": 67,
   "metadata": {},
   "outputs": [
    {
     "name": "stdout",
     "output_type": "stream",
     "text": [
      "19 1\n"
     ]
    }
   ],
   "source": [
    "# max, min 값 구하기\n",
    "penta1\n",
    "penMax = penta1.max()\n",
    "penMin = penta1.min()\n",
    "print(penMax, penMin)"
   ]
  },
  {
   "cell_type": "code",
   "execution_count": 72,
   "metadata": {},
   "outputs": [
    {
     "name": "stdout",
     "output_type": "stream",
     "text": [
      "19 1\n"
     ]
    }
   ],
   "source": [
    "# 조건에 맞는 T, F 행렬 만들기\n",
    "idx_max = penta1 == penMax\n",
    "idx_min = penta1 == penMin\n",
    "print(penMax, penMin)"
   ]
  },
  {
   "cell_type": "code",
   "execution_count": 69,
   "metadata": {},
   "outputs": [],
   "source": [
    "# String 배열로 변경\n",
    "idx_max, idx_min\n",
    "penStr = penta1.astype(str)"
   ]
  },
  {
   "cell_type": "code",
   "execution_count": 70,
   "metadata": {},
   "outputs": [],
   "source": [
    "# 적용\n",
    "penStr[idx_max] = \"MAX\"\n",
    "penStr[idx_min] = \"MIN\""
   ]
  },
  {
   "cell_type": "code",
   "execution_count": 71,
   "metadata": {},
   "outputs": [
    {
     "data": {
      "text/plain": [
       "array([['18', '15', '15', '18', '12'],\n",
       "       ['4', '6', '7', '13', 'MAX'],\n",
       "       ['15', '11', '8', '12', 'MIN'],\n",
       "       ['18', '5', 'MIN', '15', '15'],\n",
       "       ['2', '16', '17', '5', '9']], dtype='<U11')"
      ]
     },
     "execution_count": 71,
     "metadata": {},
     "output_type": "execute_result"
    }
   ],
   "source": [
    "penStr"
   ]
  },
  {
   "cell_type": "markdown",
   "metadata": {},
   "source": [
    "### linspace, logspace 함수\n",
    "- linspace : 설정한 범위에서 선형적으로 분할한 위치의 값을 출력\n",
    "- logspace : 설정한 범위에서 로그로 분할한 위치의 값을 출력\n"
   ]
  },
  {
   "cell_type": "code",
   "execution_count": 73,
   "metadata": {},
   "outputs": [
    {
     "data": {
      "text/plain": [
       "array([  0.,  25.,  50.,  75., 100.])"
      ]
     },
     "execution_count": 73,
     "metadata": {},
     "output_type": "execute_result"
    }
   ],
   "source": [
    "# linspace\n",
    "np.linspace(0, 100, 5)"
   ]
  },
  {
   "cell_type": "code",
   "execution_count": 74,
   "metadata": {},
   "outputs": [
    {
     "data": {
      "text/plain": [
       "array([  100.,  1000., 10000.])"
      ]
     },
     "execution_count": 74,
     "metadata": {},
     "output_type": "execute_result"
    }
   ],
   "source": [
    "# longspace\n",
    "np.logspace(2, 4, 3)"
   ]
  },
  {
   "cell_type": "code",
   "execution_count": 77,
   "metadata": {},
   "outputs": [
    {
     "data": {
      "text/plain": [
       "array([ 100000.,  400000.,  700000., 1000000.])"
      ]
     },
     "execution_count": 77,
     "metadata": {},
     "output_type": "execute_result"
    }
   ],
   "source": [
    "# 30세 연봉이 $100000 일때, 60세의 연봉이 $1000000 일때\n",
    "# 연봉이 선형으로 증가, 지수함수로 증가하는 두 경우에서 40, 50세 연봉을 출력\n",
    "age_30 = 100000\n",
    "age_60 = 1000000\n",
    "np.linspace(age_30, age_60, 4)"
   ]
  },
  {
   "cell_type": "code",
   "execution_count": 78,
   "metadata": {},
   "outputs": [
    {
     "data": {
      "text/plain": [
       "array([ 100000.        ,  215443.46900319,  464158.88336128,\n",
       "       1000000.        ])"
      ]
     },
     "execution_count": 78,
     "metadata": {},
     "output_type": "execute_result"
    }
   ],
   "source": [
    "np.logspace(np.log10(age_30), np.log10(age_60), 4)"
   ]
  },
  {
   "cell_type": "markdown",
   "metadata": {},
   "source": [
    "### numpy random\n",
    "- seed : 랜덤의 설정값\n",
    "- rand : 균등분포로 난수 생성\n",
    "- randn : 정규분포로 난수 생성\n",
    "- randint: 균등분포로 정수 발생\n",
    "- shuffle : 행렬 데이터를 섞어줌\n",
    "- choice : 특정 확률로 데이터를 선택"
   ]
  },
  {
   "cell_type": "code",
   "execution_count": 79,
   "metadata": {},
   "outputs": [
    {
     "data": {
      "text/plain": [
       "(array([47, 22, 82, 19, 85, 15, 89, 74, 26, 11]),\n",
       " array([47, 22, 82, 19, 85, 15, 89, 74, 26, 11]),\n",
       " array([50, 25, 82, 32, 53, 92, 85, 17, 44, 59]))"
      ]
     },
     "execution_count": 79,
     "metadata": {},
     "output_type": "execute_result"
    }
   ],
   "source": [
    "# seed\n",
    "np.random.seed(1)\n",
    "result1 = np.random.randint(10, 100, 10)\n",
    "\n",
    "np.random.seed(1)\n",
    "result2 = np.random.randint(10, 100, 10)\n",
    "\n",
    "np.random.seed(2)\n",
    "result3 = np.random.randint(10, 100, 10)\n",
    "\n",
    "result1, result2, result3"
   ]
  },
  {
   "cell_type": "code",
   "execution_count": 85,
   "metadata": {},
   "outputs": [
    {
     "data": {
      "text/plain": [
       "array([0.66842705, 0.19802711, 0.87626645, 0.4323891 , 0.61964146,\n",
       "       0.29042674, 0.61525457, 0.95365996, 0.44801472, 0.20704984])"
      ]
     },
     "execution_count": 85,
     "metadata": {},
     "output_type": "execute_result"
    }
   ],
   "source": [
    "np.random.rand(10)"
   ]
  },
  {
   "cell_type": "code",
   "execution_count": 84,
   "metadata": {},
   "outputs": [
    {
     "data": {
      "text/plain": [
       "array([-0.32358007,  0.42382471,  0.79918   ,  1.26261366,  0.75196485,\n",
       "       -0.99376098,  1.10914328, -1.76491773, -0.1144213 , -0.49817419])"
      ]
     },
     "execution_count": 84,
     "metadata": {},
     "output_type": "execute_result"
    }
   ],
   "source": [
    "np.random.randn(10)"
   ]
  },
  {
   "cell_type": "code",
   "execution_count": 86,
   "metadata": {},
   "outputs": [],
   "source": [
    "# shuffle\n",
    "r = np.random.randint(1, 10 , (3, 4))"
   ]
  },
  {
   "cell_type": "code",
   "execution_count": 87,
   "metadata": {},
   "outputs": [
    {
     "data": {
      "text/plain": [
       "array([[5, 8, 6, 2],\n",
       "       [4, 8, 5, 6],\n",
       "       [2, 3, 4, 7]])"
      ]
     },
     "execution_count": 87,
     "metadata": {},
     "output_type": "execute_result"
    }
   ],
   "source": [
    "r"
   ]
  },
  {
   "cell_type": "code",
   "execution_count": 89,
   "metadata": {},
   "outputs": [],
   "source": [
    "np.random.shuffle(r)"
   ]
  },
  {
   "cell_type": "code",
   "execution_count": 90,
   "metadata": {},
   "outputs": [
    {
     "data": {
      "text/plain": [
       "array([[4, 8, 5, 6],\n",
       "       [5, 8, 6, 2],\n",
       "       [2, 3, 4, 7]])"
      ]
     },
     "execution_count": 90,
     "metadata": {},
     "output_type": "execute_result"
    }
   ],
   "source": [
    "r"
   ]
  },
  {
   "cell_type": "code",
   "execution_count": 98,
   "metadata": {},
   "outputs": [
    {
     "data": {
      "text/plain": [
       "array([4, 3, 3, 1, 3, 2, 4, 2, 3, 2])"
      ]
     },
     "execution_count": 98,
     "metadata": {},
     "output_type": "execute_result"
    }
   ],
   "source": [
    "# choice\n",
    "np.random.choice(5, 10, p = [0.1, 0.1, 0.4, 0.2, 0.2])"
   ]
  },
  {
   "cell_type": "code",
   "execution_count": 101,
   "metadata": {},
   "outputs": [
    {
     "name": "stdout",
     "output_type": "stream",
     "text": [
      "[2 3 4 5 6 7 8]\n",
      "[2 1 2 2 2 1 2]\n"
     ]
    }
   ],
   "source": [
    "# unique - 유일하게 뽑음\n",
    "numbers, counts = np.unique(r, return_counts = True)\n",
    "\n",
    "print(numbers)\n",
    "print(counts)\n"
   ]
  },
  {
   "cell_type": "markdown",
   "metadata": {},
   "source": [
    "### 행렬데이터 결합\n",
    "- concatenate"
   ]
  },
  {
   "cell_type": "code",
   "execution_count": 103,
   "metadata": {},
   "outputs": [],
   "source": [
    "na1 = np.random.randint(10, size = (2, 3))\n",
    "na2 = np.random.randint(10, size = (3, 2))\n",
    "na3 = np.random.randint(10, size = (3, 3))\n",
    "\n"
   ]
  },
  {
   "cell_type": "code",
   "execution_count": 114,
   "metadata": {},
   "outputs": [
    {
     "data": {
      "text/plain": [
       "(array([[9, 4, 7],\n",
       "        [4, 6, 5]]),\n",
       " array([[9, 5],\n",
       "        [5, 9],\n",
       "        [2, 6]]),\n",
       " array([[2, 9, 4],\n",
       "        [0, 9, 8],\n",
       "        [2, 1, 6]]))"
      ]
     },
     "execution_count": 114,
     "metadata": {},
     "output_type": "execute_result"
    }
   ],
   "source": [
    "na1,na2, na3"
   ]
  },
  {
   "cell_type": "code",
   "execution_count": 107,
   "metadata": {},
   "outputs": [
    {
     "data": {
      "text/plain": [
       "array([[9, 4, 7],\n",
       "       [4, 6, 5],\n",
       "       [2, 9, 4],\n",
       "       [0, 9, 8],\n",
       "       [2, 1, 6]])"
      ]
     },
     "execution_count": 107,
     "metadata": {},
     "output_type": "execute_result"
    }
   ],
   "source": [
    "# 세로결합\n",
    "np.concatenate((na1, na3))"
   ]
  },
  {
   "cell_type": "code",
   "execution_count": 112,
   "metadata": {},
   "outputs": [
    {
     "data": {
      "text/plain": [
       "array([[9, 5, 2, 9, 4],\n",
       "       [5, 9, 0, 9, 8],\n",
       "       [2, 6, 2, 1, 6]])"
      ]
     },
     "execution_count": 112,
     "metadata": {},
     "output_type": "execute_result"
    }
   ],
   "source": [
    "# 가로결합\n",
    "np.concatenate((na2, na3), axis = 1)"
   ]
  },
  {
   "cell_type": "code",
   "execution_count": null,
   "metadata": {},
   "outputs": [],
   "source": []
  },
  {
   "cell_type": "code",
   "execution_count": null,
   "metadata": {},
   "outputs": [],
   "source": []
  }
 ],
 "metadata": {
  "kernelspec": {
   "display_name": "Python 3 (ipykernel)",
   "language": "python",
   "name": "python3"
  },
  "language_info": {
   "codemirror_mode": {
    "name": "ipython",
    "version": 3
   },
   "file_extension": ".py",
   "mimetype": "text/x-python",
   "name": "python",
   "nbconvert_exporter": "python",
   "pygments_lexer": "ipython3",
   "version": "3.9.7"
  },
  "license": "Copyright 2019. Doo Jin Park. All rights reserved."
 },
 "nbformat": 4,
 "nbformat_minor": 2
}
