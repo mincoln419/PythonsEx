{
 "cells": [
  {
   "cell_type": "markdown",
   "id": "75695c6f",
   "metadata": {},
   "source": [
    "### 연산자\n",
    "- 산술연산자\n",
    "- 할당연산자 : 변수에 누적시켜서 연산\n",
    "- 비교연산자\n",
    "- 논리연산자\n",
    "- 멤버연산자\n"
   ]
  },
  {
   "cell_type": "code",
   "execution_count": 19,
   "id": "faacb262",
   "metadata": {},
   "outputs": [
    {
     "data": {
      "text/plain": [
       "3"
      ]
     },
     "execution_count": 19,
     "metadata": {},
     "output_type": "execute_result"
    }
   ],
   "source": [
    "# 산술연산\n",
    "a = 1\n",
    "b = 2\n",
    "a + b"
   ]
  },
  {
   "cell_type": "code",
   "execution_count": 21,
   "id": "a38f1cd4",
   "metadata": {},
   "outputs": [
    {
     "data": {
      "text/plain": [
       "(3, 6, 9)"
      ]
     },
     "execution_count": 21,
     "metadata": {},
     "output_type": "execute_result"
    }
   ],
   "source": [
    "# 할당연산\n",
    "a += 1\n",
    "b += 2\n",
    "a, b, a + b\n"
   ]
  },
  {
   "cell_type": "code",
   "execution_count": 10,
   "id": "f73bcf50",
   "metadata": {},
   "outputs": [
    {
     "name": "stdout",
     "output_type": "stream",
     "text": [
      "True\n",
      "False\n"
     ]
    }
   ],
   "source": [
    "# 비교연산\n",
    "print(a < b)\n",
    "print(a == b)"
   ]
  },
  {
   "cell_type": "code",
   "execution_count": 17,
   "id": "71098cfe",
   "metadata": {},
   "outputs": [
    {
     "name": "stdout",
     "output_type": "stream",
     "text": [
      "True\n",
      "False\n"
     ]
    }
   ],
   "source": [
    "# 논리연산\n",
    "print(a < b or a == b)\n",
    "print(a < b and a == b)"
   ]
  },
  {
   "cell_type": "code",
   "execution_count": 24,
   "id": "5a2a76e9",
   "metadata": {},
   "outputs": [
    {
     "name": "stdout",
     "output_type": "stream",
     "text": [
      "True\n",
      "False\n"
     ]
    }
   ],
   "source": [
    "# 멤버연산\n",
    "c = [1 , 2 , 3]\n",
    "print(a in c or a == b)\n",
    "print(b in c)"
   ]
  },
  {
   "cell_type": "code",
   "execution_count": 45,
   "id": "ec7b1cb3",
   "metadata": {},
   "outputs": [
    {
     "data": {
      "text/plain": [
       "10"
      ]
     },
     "execution_count": 45,
     "metadata": {},
     "output_type": "execute_result"
    }
   ],
   "source": [
    "### 랜덤함수\n",
    "import random\n",
    "random.randint(1, 10)"
   ]
  },
  {
   "cell_type": "code",
   "execution_count": 49,
   "id": "01abb01a",
   "metadata": {},
   "outputs": [
    {
     "name": "stdout",
     "output_type": "stream",
     "text": [
      "insert string :asdfadsf\n"
     ]
    },
    {
     "data": {
      "text/plain": [
       "'asdfadsf'"
      ]
     },
     "execution_count": 49,
     "metadata": {},
     "output_type": "execute_result"
    }
   ],
   "source": [
    "### 입력함수\n",
    "data = input(\"insert string :\")\n",
    "data\n"
   ]
  },
  {
   "cell_type": "code",
   "execution_count": 67,
   "id": "acc7fbd1",
   "metadata": {},
   "outputs": [
    {
     "name": "stdout",
     "output_type": "stream",
     "text": [
      "질문하세요...장난하니\n",
      "못알아듣겠어요\n"
     ]
    }
   ],
   "source": [
    "solutions = [\"메롱\", \"아니\", \"안녕하세요\", \"못알아듣겠어요\"]\n",
    "quest = input(\"질문하세요...\")\n",
    "idx = random.randint(0, len(solutions) - 1)\n",
    "print(solutions[idx])"
   ]
  },
  {
   "cell_type": "code",
   "execution_count": null,
   "id": "c8663581",
   "metadata": {},
   "outputs": [],
   "source": []
  }
 ],
 "metadata": {
  "kernelspec": {
   "display_name": "Python 3 (ipykernel)",
   "language": "python",
   "name": "python3"
  },
  "language_info": {
   "codemirror_mode": {
    "name": "ipython",
    "version": 3
   },
   "file_extension": ".py",
   "mimetype": "text/x-python",
   "name": "python",
   "nbconvert_exporter": "python",
   "pygments_lexer": "ipython3",
   "version": "3.9.7"
  }
 },
 "nbformat": 4,
 "nbformat_minor": 5
}
