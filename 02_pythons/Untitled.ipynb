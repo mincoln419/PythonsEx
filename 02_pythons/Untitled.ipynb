{
 "cells": [
  {
   "cell_type": "markdown",
   "id": "fbca6e27",
   "metadata": {},
   "source": [
    "### 1. 조건문\n",
    "- 특정 조건에 따라서 코드를 실행하고자 할 때 사용\n"
   ]
  },
  {
   "cell_type": "code",
   "execution_count": 14,
   "id": "61bfc02a",
   "metadata": {},
   "outputs": [
    {
     "name": "stdout",
     "output_type": "stream",
     "text": [
      "done\n",
      "\n",
      "python\n",
      "done\n",
      "\n",
      "python\n",
      "done\n",
      "\n",
      "done\n",
      "\n"
     ]
    }
   ],
   "source": [
    "# 조건부분에 : boolean 이외의 타입이 오면 bool 형변환 되어 판단\n",
    "\n",
    "if False:\n",
    "    print(\"python\")\n",
    "\n",
    "print(\"done\")\n",
    "print(\"\")\n",
    "\n",
    "if 1:\n",
    "    print(\"python\")\n",
    "\n",
    "print(\"done\")\n",
    "print(\"\")\n",
    "\n",
    "if 2:\n",
    "    print(\"python\")\n",
    "\n",
    "print(\"done\")\n",
    "print(\"\")\n",
    "\n",
    "if 0:\n",
    "    print(\"python\")\n",
    "\n",
    "print(\"done\")\n",
    "print(\"\")\n",
    "\n"
   ]
  },
  {
   "cell_type": "code",
   "execution_count": 26,
   "id": "5e96635c",
   "metadata": {},
   "outputs": [
    {
     "name": "stdout",
     "output_type": "stream",
     "text": [
      "num 77\n",
      "odd\n"
     ]
    }
   ],
   "source": [
    "import random\n",
    "number = random.randint(1, 100);\n",
    "print(\"num\", number)\n",
    "if number % 2 :\n",
    "    print(\"odd\")\n",
    "else : print(\"even\")"
   ]
  },
  {
   "cell_type": "code",
   "execution_count": 31,
   "id": "c538fa25",
   "metadata": {},
   "outputs": [
    {
     "name": "stdout",
     "output_type": "stream",
     "text": [
      "num 4467 \n",
      "\n",
      "bus\n"
     ]
    }
   ],
   "source": [
    "# 지갑에 돈이 만원이상 있으면 택시를 타고, 2000원 이상이 있으면 버스를, 아니면 걸어서 간다\n",
    "wallet =  random.randint(1, 20000);\n",
    "print(\"num\", wallet, \"\\n\")\n",
    "\n",
    "if wallet >= 10000 :\n",
    "    print(\"texi\")\n",
    "elif wallet >= 2000 :\n",
    "    print(\"bus\")\n",
    "else: \n",
    "    print(\"walk\")"
   ]
  },
  {
   "cell_type": "code",
   "execution_count": null,
   "id": "01bc7bfd",
   "metadata": {},
   "outputs": [],
   "source": [
    "# 계좌에 10000 원이 있고, 인출 금액을 입력받았을 때 인출금액이 계좌에 있는 금액보다 크면 \"인출이 불가합니다\" 출력\n",
    "# 작으면 \"인출되었습니다\" 출력\n",
    "# 마지막에 현재 계좌의 잔액을 출력"
   ]
  },
  {
   "cell_type": "code",
   "execution_count": 40,
   "id": "cca389bf",
   "metadata": {},
   "outputs": [
    {
     "name": "stdout",
     "output_type": "stream",
     "text": [
      "인출금액::123\n",
      "123 원이 인출되었습니다. 잔액은 9877 입니다\n",
      "현재잔액은 9877 원 입니다\n"
     ]
    }
   ],
   "source": [
    "account = 10000\n",
    "out = int(input(\"인출금액::\"))\n",
    "if out <= account :\n",
    "    account -= int(out)\n",
    "    print(\"{data1} 원이 인출되었습니다. 잔액은 {data2} 입니다\".format(data1=out, data2=account))\n",
    "else : \n",
    "    print(\"인출이 불가합니다\")\n",
    "print(\"현재잔액은 {data2} 원 입니다\".format(data2=account))"
   ]
  },
  {
   "cell_type": "markdown",
   "id": "21ce3447",
   "metadata": {},
   "source": [
    "### 삼항연산자\n",
    "- 간단한 if, else구문 처리\n"
   ]
  },
  {
   "cell_type": "code",
   "execution_count": 50,
   "id": "19ee621a",
   "metadata": {},
   "outputs": [
    {
     "name": "stdout",
     "output_type": "stream",
     "text": [
      "zero\n",
      "zero\n"
     ]
    }
   ],
   "source": [
    "# data 변수가 0이면 \"zero\"출력 아니면 \"not zero\"\n",
    "data = 0\n",
    "if data:\n",
    "    print(\"not zero\")\n",
    "else: \n",
    "    print(\"zero\")\n",
    "    \n",
    "print(\"not zero\" if data else \"zero\")\n",
    "        "
   ]
  },
  {
   "cell_type": "markdown",
   "id": "cc38d07a",
   "metadata": {},
   "source": [
    "### 2. 반복문\n",
    "- while, for, break, continue\n",
    "- list comprehention"
   ]
  },
  {
   "cell_type": "code",
   "execution_count": 54,
   "id": "35a1604d",
   "metadata": {},
   "outputs": [
    {
     "name": "stdout",
     "output_type": "stream",
     "text": [
      "3\n",
      "6\n",
      "12\n",
      "24\n",
      "48\n",
      "96\n"
     ]
    }
   ],
   "source": [
    "# while\n",
    "\n",
    "data = 3\n",
    "\n",
    "while data:\n",
    "    print(data)\n",
    "    data += data\n",
    "    if data > 100 : break;\n"
   ]
  },
  {
   "cell_type": "code",
   "execution_count": 66,
   "id": "aafd77bf",
   "metadata": {},
   "outputs": [
    {
     "name": "stdout",
     "output_type": "stream",
     "text": [
      "270\n",
      "90.0\n",
      "270\n",
      "90.0\n"
     ]
    }
   ],
   "source": [
    "# 학생이 국어 80, 수학 100, 영어 90\n",
    "pointOr = [80, 100, 90]\n",
    "point = pointOr.copy()\n",
    "sum = 0\n",
    "idx = 0\n",
    "while idx < len(point):\n",
    "    sum += point[idx]\n",
    "    idx += 1\n",
    "    \n",
    "print(sum)\n",
    "print(sum/len(point))\n",
    "\n",
    "point = pointOr.copy()\n",
    "sum = 0\n",
    "length = len(point)\n",
    "while point:\n",
    "    sum += point.pop()\n",
    "    idx += 1\n",
    "    \n",
    "print(sum)\n",
    "print(sum/length)"
   ]
  },
  {
   "cell_type": "markdown",
   "id": "a817dda7",
   "metadata": {},
   "source": [
    "### for\n",
    "- iterable 한 데이터 하나씩 꺼내서 value \n",
    "- for var in collection\n",
    "\n",
    "### continue\n",
    "- 중간에 continue 만나면 아래 코드를 제끼고 다음 index 건으로 이동"
   ]
  },
  {
   "cell_type": "code",
   "execution_count": 69,
   "id": "be66df81",
   "metadata": {},
   "outputs": [
    {
     "name": "stdout",
     "output_type": "stream",
     "text": [
      "0\n",
      "2\n",
      "4\n",
      "100\n"
     ]
    }
   ],
   "source": [
    "ls = [0 , 1 , 2, 3, 4, 100]\n",
    "for data in ls:\n",
    "    if data % 2 : continue # 짝수만 출력\n",
    "    print(data)\n",
    "    \n"
   ]
  },
  {
   "cell_type": "code",
   "execution_count": 75,
   "id": "d6614b2a",
   "metadata": {},
   "outputs": [
    {
     "name": "stdout",
     "output_type": "stream",
     "text": [
      "2\n",
      "3\n",
      "4\n",
      "<class 'range'>\n"
     ]
    }
   ],
   "source": [
    "## for 문의 횟수를 정해주는것\n",
    "# range\n",
    "\n",
    "#list(range(100))\n",
    "\n",
    "result = 0\n",
    "for data in range(2, 5): #range에 오프셋 사용가능\n",
    "        result = ls[data]\n",
    "        print(result)\n",
    "\n",
    "print(type(range(3)))"
   ]
  },
  {
   "cell_type": "code",
   "execution_count": 95,
   "id": "704f5382",
   "metadata": {},
   "outputs": [
    {
     "ename": "TypeError",
     "evalue": "'tuple' object is not callable",
     "output_type": "error",
     "traceback": [
      "\u001b[1;31m---------------------------------------------------------------------------\u001b[0m",
      "\u001b[1;31mTypeError\u001b[0m                                 Traceback (most recent call last)",
      "\u001b[1;32m~\\AppData\\Local\\Temp/ipykernel_17932/3578537876.py\u001b[0m in \u001b[0;36m<module>\u001b[1;34m\u001b[0m\n\u001b[0;32m      3\u001b[0m \u001b[0mitems\u001b[0m \u001b[1;33m=\u001b[0m \u001b[0mlist\u001b[0m\u001b[1;33m(\u001b[0m\u001b[0mpoints_dic\u001b[0m\u001b[1;33m.\u001b[0m\u001b[0mitems\u001b[0m\u001b[1;33m(\u001b[0m\u001b[1;33m)\u001b[0m\u001b[1;33m)\u001b[0m\u001b[1;33m\u001b[0m\u001b[1;33m\u001b[0m\u001b[0m\n\u001b[0;32m      4\u001b[0m \u001b[1;33m\u001b[0m\u001b[0m\n\u001b[1;32m----> 5\u001b[1;33m \u001b[0mitems\u001b[0m\u001b[1;33m[\u001b[0m\u001b[1;36m0\u001b[0m\u001b[1;33m]\u001b[0m\u001b[1;33m(\u001b[0m\u001b[1;34m\"korea\"\u001b[0m\u001b[1;33m)\u001b[0m\u001b[1;33m\u001b[0m\u001b[1;33m\u001b[0m\u001b[0m\n\u001b[0m",
      "\u001b[1;31mTypeError\u001b[0m: 'tuple' object is not callable"
     ]
    }
   ],
   "source": [
    "points_dic = {\"korea\" : 80, \"eng\" : 90, \"math\" : 100}\n",
    "keys = list(points_dic.keys())\n",
    "items = list(points_dic.items())\n"
   ]
  },
  {
   "cell_type": "code",
   "execution_count": 96,
   "id": "2f33155f",
   "metadata": {},
   "outputs": [
    {
     "name": "stdout",
     "output_type": "stream",
     "text": [
      "subject:: korea\n",
      "point:: 80\n",
      "subject:: eng\n",
      "point:: 90\n",
      "subject:: math\n",
      "point:: 100\n"
     ]
    }
   ],
   "source": [
    "for subject, point in items : ## 내부 변수가 튜플이면 여러개의 변수로 받을 수 있음\n",
    "    print(\"subject::\", subject)\n",
    "    print(\"point::\", point)"
   ]
  },
  {
   "cell_type": "code",
   "execution_count": 116,
   "id": "531eacd5",
   "metadata": {},
   "outputs": [
    {
     "name": "stdout",
     "output_type": "stream",
     "text": [
      "2*1=2\t3*1=3\t4*1=4\t5*1=5\t6*1=6\t7*1=7\t8*1=8\t9*1=9\t\n",
      "2*2=4\t3*2=6\t4*2=8\t5*2=10\t6*2=12\t7*2=14\t8*2=16\t9*2=18\t\n",
      "2*3=6\t3*3=9\t4*3=12\t5*3=15\t6*3=18\t7*3=21\t8*3=24\t9*3=27\t\n",
      "2*4=8\t3*4=12\t4*4=16\t5*4=20\t6*4=24\t7*4=28\t8*4=32\t9*4=36\t\n",
      "2*5=10\t3*5=15\t4*5=20\t5*5=25\t6*5=30\t7*5=35\t8*5=40\t9*5=45\t\n",
      "2*6=12\t3*6=18\t4*6=24\t5*6=30\t6*6=36\t7*6=42\t8*6=48\t9*6=54\t\n",
      "2*7=14\t3*7=21\t4*7=28\t5*7=35\t6*7=42\t7*7=49\t8*7=56\t9*7=63\t\n",
      "2*8=16\t3*8=24\t4*8=32\t5*8=40\t6*8=48\t7*8=56\t8*8=64\t9*8=72\t\n",
      "2*9=18\t3*9=27\t4*9=36\t5*9=45\t6*9=54\t7*9=63\t8*9=72\t9*9=81\t\n"
     ]
    }
   ],
   "source": [
    "## 구구단\n",
    "for i in range(1, 10):\n",
    "    a = \"\"\n",
    "    for j in range(2, 10):\n",
    "         print(\"{}*{}={}\".format(j,i,i*j), end =\"\\t\")\n",
    "    print()\n"
   ]
  },
  {
   "cell_type": "code",
   "execution_count": null,
   "id": "49d9c0b3",
   "metadata": {},
   "outputs": [],
   "source": []
  }
 ],
 "metadata": {
  "kernelspec": {
   "display_name": "Python 3 (ipykernel)",
   "language": "python",
   "name": "python3"
  },
  "language_info": {
   "codemirror_mode": {
    "name": "ipython",
    "version": 3
   },
   "file_extension": ".py",
   "mimetype": "text/x-python",
   "name": "python",
   "nbconvert_exporter": "python",
   "pygments_lexer": "ipython3",
   "version": "3.9.7"
  }
 },
 "nbformat": 4,
 "nbformat_minor": 5
}
